{
  "nbformat": 4,
  "nbformat_minor": 0,
  "metadata": {
    "colab": {
      "name": "Lecture6_Notes.ipynb",
      "provenance": [],
      "collapsed_sections": []
    },
    "kernelspec": {
      "name": "python3",
      "display_name": "Python 3"
    },
    "accelerator": "TPU",
    "widgets": {
      "application/vnd.jupyter.widget-state+json": {
        "5dd69d6ee535448892433ef74269dae8": {
          "model_module": "@jupyter-widgets/controls",
          "model_name": "HBoxModel",
          "state": {
            "_view_name": "HBoxView",
            "_dom_classes": [],
            "_model_name": "HBoxModel",
            "_view_module": "@jupyter-widgets/controls",
            "_model_module_version": "1.5.0",
            "_view_count": null,
            "_view_module_version": "1.5.0",
            "box_style": "",
            "layout": "IPY_MODEL_5a11dc68906f47a6865695ac7754250d",
            "_model_module": "@jupyter-widgets/controls",
            "children": [
              "IPY_MODEL_0b055d22549b47c8b8759d186b624460",
              "IPY_MODEL_ac4a5be36e0b4b5796eea9ee07829a90"
            ]
          }
        },
        "5a11dc68906f47a6865695ac7754250d": {
          "model_module": "@jupyter-widgets/base",
          "model_name": "LayoutModel",
          "state": {
            "_view_name": "LayoutView",
            "grid_template_rows": null,
            "right": null,
            "justify_content": null,
            "_view_module": "@jupyter-widgets/base",
            "overflow": null,
            "_model_module_version": "1.2.0",
            "_view_count": null,
            "flex_flow": null,
            "width": null,
            "min_width": null,
            "border": null,
            "align_items": null,
            "bottom": null,
            "_model_module": "@jupyter-widgets/base",
            "top": null,
            "grid_column": null,
            "overflow_y": null,
            "overflow_x": null,
            "grid_auto_flow": null,
            "grid_area": null,
            "grid_template_columns": null,
            "flex": null,
            "_model_name": "LayoutModel",
            "justify_items": null,
            "grid_row": null,
            "max_height": null,
            "align_content": null,
            "visibility": null,
            "align_self": null,
            "height": null,
            "min_height": null,
            "padding": null,
            "grid_auto_rows": null,
            "grid_gap": null,
            "max_width": null,
            "order": null,
            "_view_module_version": "1.2.0",
            "grid_template_areas": null,
            "object_position": null,
            "object_fit": null,
            "grid_auto_columns": null,
            "margin": null,
            "display": null,
            "left": null
          }
        },
        "0b055d22549b47c8b8759d186b624460": {
          "model_module": "@jupyter-widgets/controls",
          "model_name": "IntProgressModel",
          "state": {
            "_view_name": "ProgressView",
            "style": "IPY_MODEL_4777566581bb4adcabcbb9f7f5926294",
            "_dom_classes": [],
            "description": "Dl Completed...: 100%",
            "_model_name": "IntProgressModel",
            "bar_style": "success",
            "max": 1,
            "_view_module": "@jupyter-widgets/controls",
            "_model_module_version": "1.5.0",
            "value": 1,
            "_view_count": null,
            "_view_module_version": "1.5.0",
            "orientation": "horizontal",
            "min": 0,
            "description_tooltip": null,
            "_model_module": "@jupyter-widgets/controls",
            "layout": "IPY_MODEL_07babb672c6b4d2b99ec9ffe829cd6a7"
          }
        },
        "ac4a5be36e0b4b5796eea9ee07829a90": {
          "model_module": "@jupyter-widgets/controls",
          "model_name": "HTMLModel",
          "state": {
            "_view_name": "HTMLView",
            "style": "IPY_MODEL_46f16b361dc04959a941793e6eacb420",
            "_dom_classes": [],
            "description": "",
            "_model_name": "HTMLModel",
            "placeholder": "​",
            "_view_module": "@jupyter-widgets/controls",
            "_model_module_version": "1.5.0",
            "value": " 1/1 [00:03&lt;00:00,  3.24s/ url]",
            "_view_count": null,
            "_view_module_version": "1.5.0",
            "description_tooltip": null,
            "_model_module": "@jupyter-widgets/controls",
            "layout": "IPY_MODEL_4cd72aec899b46949e7984b99d197ea8"
          }
        },
        "4777566581bb4adcabcbb9f7f5926294": {
          "model_module": "@jupyter-widgets/controls",
          "model_name": "ProgressStyleModel",
          "state": {
            "_view_name": "StyleView",
            "_model_name": "ProgressStyleModel",
            "description_width": "initial",
            "_view_module": "@jupyter-widgets/base",
            "_model_module_version": "1.5.0",
            "_view_count": null,
            "_view_module_version": "1.2.0",
            "bar_color": null,
            "_model_module": "@jupyter-widgets/controls"
          }
        },
        "07babb672c6b4d2b99ec9ffe829cd6a7": {
          "model_module": "@jupyter-widgets/base",
          "model_name": "LayoutModel",
          "state": {
            "_view_name": "LayoutView",
            "grid_template_rows": null,
            "right": null,
            "justify_content": null,
            "_view_module": "@jupyter-widgets/base",
            "overflow": null,
            "_model_module_version": "1.2.0",
            "_view_count": null,
            "flex_flow": null,
            "width": null,
            "min_width": null,
            "border": null,
            "align_items": null,
            "bottom": null,
            "_model_module": "@jupyter-widgets/base",
            "top": null,
            "grid_column": null,
            "overflow_y": null,
            "overflow_x": null,
            "grid_auto_flow": null,
            "grid_area": null,
            "grid_template_columns": null,
            "flex": null,
            "_model_name": "LayoutModel",
            "justify_items": null,
            "grid_row": null,
            "max_height": null,
            "align_content": null,
            "visibility": null,
            "align_self": null,
            "height": null,
            "min_height": null,
            "padding": null,
            "grid_auto_rows": null,
            "grid_gap": null,
            "max_width": null,
            "order": null,
            "_view_module_version": "1.2.0",
            "grid_template_areas": null,
            "object_position": null,
            "object_fit": null,
            "grid_auto_columns": null,
            "margin": null,
            "display": null,
            "left": null
          }
        },
        "46f16b361dc04959a941793e6eacb420": {
          "model_module": "@jupyter-widgets/controls",
          "model_name": "DescriptionStyleModel",
          "state": {
            "_view_name": "StyleView",
            "_model_name": "DescriptionStyleModel",
            "description_width": "",
            "_view_module": "@jupyter-widgets/base",
            "_model_module_version": "1.5.0",
            "_view_count": null,
            "_view_module_version": "1.2.0",
            "_model_module": "@jupyter-widgets/controls"
          }
        },
        "4cd72aec899b46949e7984b99d197ea8": {
          "model_module": "@jupyter-widgets/base",
          "model_name": "LayoutModel",
          "state": {
            "_view_name": "LayoutView",
            "grid_template_rows": null,
            "right": null,
            "justify_content": null,
            "_view_module": "@jupyter-widgets/base",
            "overflow": null,
            "_model_module_version": "1.2.0",
            "_view_count": null,
            "flex_flow": null,
            "width": null,
            "min_width": null,
            "border": null,
            "align_items": null,
            "bottom": null,
            "_model_module": "@jupyter-widgets/base",
            "top": null,
            "grid_column": null,
            "overflow_y": null,
            "overflow_x": null,
            "grid_auto_flow": null,
            "grid_area": null,
            "grid_template_columns": null,
            "flex": null,
            "_model_name": "LayoutModel",
            "justify_items": null,
            "grid_row": null,
            "max_height": null,
            "align_content": null,
            "visibility": null,
            "align_self": null,
            "height": null,
            "min_height": null,
            "padding": null,
            "grid_auto_rows": null,
            "grid_gap": null,
            "max_width": null,
            "order": null,
            "_view_module_version": "1.2.0",
            "grid_template_areas": null,
            "object_position": null,
            "object_fit": null,
            "grid_auto_columns": null,
            "margin": null,
            "display": null,
            "left": null
          }
        },
        "1ff3a436d71e4bf5b7c5861a8baca41e": {
          "model_module": "@jupyter-widgets/controls",
          "model_name": "HBoxModel",
          "state": {
            "_view_name": "HBoxView",
            "_dom_classes": [],
            "_model_name": "HBoxModel",
            "_view_module": "@jupyter-widgets/controls",
            "_model_module_version": "1.5.0",
            "_view_count": null,
            "_view_module_version": "1.5.0",
            "box_style": "",
            "layout": "IPY_MODEL_3de2cf31b53e432797698d2bf7d527bd",
            "_model_module": "@jupyter-widgets/controls",
            "children": [
              "IPY_MODEL_cc6ed85c15fb40cd82f8637222f3d041",
              "IPY_MODEL_66397a4ef3334b32b63ca4aaff8f0a08"
            ]
          }
        },
        "3de2cf31b53e432797698d2bf7d527bd": {
          "model_module": "@jupyter-widgets/base",
          "model_name": "LayoutModel",
          "state": {
            "_view_name": "LayoutView",
            "grid_template_rows": null,
            "right": null,
            "justify_content": null,
            "_view_module": "@jupyter-widgets/base",
            "overflow": null,
            "_model_module_version": "1.2.0",
            "_view_count": null,
            "flex_flow": null,
            "width": null,
            "min_width": null,
            "border": null,
            "align_items": null,
            "bottom": null,
            "_model_module": "@jupyter-widgets/base",
            "top": null,
            "grid_column": null,
            "overflow_y": null,
            "overflow_x": null,
            "grid_auto_flow": null,
            "grid_area": null,
            "grid_template_columns": null,
            "flex": null,
            "_model_name": "LayoutModel",
            "justify_items": null,
            "grid_row": null,
            "max_height": null,
            "align_content": null,
            "visibility": null,
            "align_self": null,
            "height": null,
            "min_height": null,
            "padding": null,
            "grid_auto_rows": null,
            "grid_gap": null,
            "max_width": null,
            "order": null,
            "_view_module_version": "1.2.0",
            "grid_template_areas": null,
            "object_position": null,
            "object_fit": null,
            "grid_auto_columns": null,
            "margin": null,
            "display": null,
            "left": null
          }
        },
        "cc6ed85c15fb40cd82f8637222f3d041": {
          "model_module": "@jupyter-widgets/controls",
          "model_name": "IntProgressModel",
          "state": {
            "_view_name": "ProgressView",
            "style": "IPY_MODEL_91f91fabee224bebb34e222b8121accd",
            "_dom_classes": [],
            "description": "Dl Size...: 100%",
            "_model_name": "IntProgressModel",
            "bar_style": "success",
            "max": 1,
            "_view_module": "@jupyter-widgets/controls",
            "_model_module_version": "1.5.0",
            "value": 1,
            "_view_count": null,
            "_view_module_version": "1.5.0",
            "orientation": "horizontal",
            "min": 0,
            "description_tooltip": null,
            "_model_module": "@jupyter-widgets/controls",
            "layout": "IPY_MODEL_bcac08956cdc40b7a47cf1da2c0df38c"
          }
        },
        "66397a4ef3334b32b63ca4aaff8f0a08": {
          "model_module": "@jupyter-widgets/controls",
          "model_name": "HTMLModel",
          "state": {
            "_view_name": "HTMLView",
            "style": "IPY_MODEL_a4930e7b8600430c94b242b062073f69",
            "_dom_classes": [],
            "description": "",
            "_model_name": "HTMLModel",
            "placeholder": "​",
            "_view_module": "@jupyter-widgets/controls",
            "_model_module_version": "1.5.0",
            "value": " 80/80 [00:03&lt;00:00, 24.93 MiB/s]",
            "_view_count": null,
            "_view_module_version": "1.5.0",
            "description_tooltip": null,
            "_model_module": "@jupyter-widgets/controls",
            "layout": "IPY_MODEL_239fe077b1184f398faaf8b0aa138173"
          }
        },
        "91f91fabee224bebb34e222b8121accd": {
          "model_module": "@jupyter-widgets/controls",
          "model_name": "ProgressStyleModel",
          "state": {
            "_view_name": "StyleView",
            "_model_name": "ProgressStyleModel",
            "description_width": "initial",
            "_view_module": "@jupyter-widgets/base",
            "_model_module_version": "1.5.0",
            "_view_count": null,
            "_view_module_version": "1.2.0",
            "bar_color": null,
            "_model_module": "@jupyter-widgets/controls"
          }
        },
        "bcac08956cdc40b7a47cf1da2c0df38c": {
          "model_module": "@jupyter-widgets/base",
          "model_name": "LayoutModel",
          "state": {
            "_view_name": "LayoutView",
            "grid_template_rows": null,
            "right": null,
            "justify_content": null,
            "_view_module": "@jupyter-widgets/base",
            "overflow": null,
            "_model_module_version": "1.2.0",
            "_view_count": null,
            "flex_flow": null,
            "width": null,
            "min_width": null,
            "border": null,
            "align_items": null,
            "bottom": null,
            "_model_module": "@jupyter-widgets/base",
            "top": null,
            "grid_column": null,
            "overflow_y": null,
            "overflow_x": null,
            "grid_auto_flow": null,
            "grid_area": null,
            "grid_template_columns": null,
            "flex": null,
            "_model_name": "LayoutModel",
            "justify_items": null,
            "grid_row": null,
            "max_height": null,
            "align_content": null,
            "visibility": null,
            "align_self": null,
            "height": null,
            "min_height": null,
            "padding": null,
            "grid_auto_rows": null,
            "grid_gap": null,
            "max_width": null,
            "order": null,
            "_view_module_version": "1.2.0",
            "grid_template_areas": null,
            "object_position": null,
            "object_fit": null,
            "grid_auto_columns": null,
            "margin": null,
            "display": null,
            "left": null
          }
        },
        "a4930e7b8600430c94b242b062073f69": {
          "model_module": "@jupyter-widgets/controls",
          "model_name": "DescriptionStyleModel",
          "state": {
            "_view_name": "StyleView",
            "_model_name": "DescriptionStyleModel",
            "description_width": "",
            "_view_module": "@jupyter-widgets/base",
            "_model_module_version": "1.5.0",
            "_view_count": null,
            "_view_module_version": "1.2.0",
            "_model_module": "@jupyter-widgets/controls"
          }
        },
        "239fe077b1184f398faaf8b0aa138173": {
          "model_module": "@jupyter-widgets/base",
          "model_name": "LayoutModel",
          "state": {
            "_view_name": "LayoutView",
            "grid_template_rows": null,
            "right": null,
            "justify_content": null,
            "_view_module": "@jupyter-widgets/base",
            "overflow": null,
            "_model_module_version": "1.2.0",
            "_view_count": null,
            "flex_flow": null,
            "width": null,
            "min_width": null,
            "border": null,
            "align_items": null,
            "bottom": null,
            "_model_module": "@jupyter-widgets/base",
            "top": null,
            "grid_column": null,
            "overflow_y": null,
            "overflow_x": null,
            "grid_auto_flow": null,
            "grid_area": null,
            "grid_template_columns": null,
            "flex": null,
            "_model_name": "LayoutModel",
            "justify_items": null,
            "grid_row": null,
            "max_height": null,
            "align_content": null,
            "visibility": null,
            "align_self": null,
            "height": null,
            "min_height": null,
            "padding": null,
            "grid_auto_rows": null,
            "grid_gap": null,
            "max_width": null,
            "order": null,
            "_view_module_version": "1.2.0",
            "grid_template_areas": null,
            "object_position": null,
            "object_fit": null,
            "grid_auto_columns": null,
            "margin": null,
            "display": null,
            "left": null
          }
        },
        "548316ade2d74642b419114d8b5af5a7": {
          "model_module": "@jupyter-widgets/controls",
          "model_name": "HBoxModel",
          "state": {
            "_view_name": "HBoxView",
            "_dom_classes": [],
            "_model_name": "HBoxModel",
            "_view_module": "@jupyter-widgets/controls",
            "_model_module_version": "1.5.0",
            "_view_count": null,
            "_view_module_version": "1.5.0",
            "box_style": "",
            "layout": "IPY_MODEL_670341007729425db01427430c14656e",
            "_model_module": "@jupyter-widgets/controls",
            "children": [
              "IPY_MODEL_c4ed9c666779499696ae7e6b8aa0b3d0",
              "IPY_MODEL_7bb5f44c624a4e52b124377b3378f376"
            ]
          }
        },
        "670341007729425db01427430c14656e": {
          "model_module": "@jupyter-widgets/base",
          "model_name": "LayoutModel",
          "state": {
            "_view_name": "LayoutView",
            "grid_template_rows": null,
            "right": null,
            "justify_content": null,
            "_view_module": "@jupyter-widgets/base",
            "overflow": null,
            "_model_module_version": "1.2.0",
            "_view_count": null,
            "flex_flow": null,
            "width": null,
            "min_width": null,
            "border": null,
            "align_items": null,
            "bottom": null,
            "_model_module": "@jupyter-widgets/base",
            "top": null,
            "grid_column": null,
            "overflow_y": null,
            "overflow_x": null,
            "grid_auto_flow": null,
            "grid_area": null,
            "grid_template_columns": null,
            "flex": null,
            "_model_name": "LayoutModel",
            "justify_items": null,
            "grid_row": null,
            "max_height": null,
            "align_content": null,
            "visibility": null,
            "align_self": null,
            "height": null,
            "min_height": null,
            "padding": null,
            "grid_auto_rows": null,
            "grid_gap": null,
            "max_width": null,
            "order": null,
            "_view_module_version": "1.2.0",
            "grid_template_areas": null,
            "object_position": null,
            "object_fit": null,
            "grid_auto_columns": null,
            "margin": null,
            "display": null,
            "left": null
          }
        },
        "c4ed9c666779499696ae7e6b8aa0b3d0": {
          "model_module": "@jupyter-widgets/controls",
          "model_name": "IntProgressModel",
          "state": {
            "_view_name": "ProgressView",
            "style": "IPY_MODEL_74af621799424bd18b5d2a7f7f7be4bf",
            "_dom_classes": [],
            "description": "",
            "_model_name": "IntProgressModel",
            "bar_style": "info",
            "max": 1,
            "_view_module": "@jupyter-widgets/controls",
            "_model_module_version": "1.5.0",
            "value": 1,
            "_view_count": null,
            "_view_module_version": "1.5.0",
            "orientation": "horizontal",
            "min": 0,
            "description_tooltip": null,
            "_model_module": "@jupyter-widgets/controls",
            "layout": "IPY_MODEL_dbbed50e6d5543acaff06fd1bee74e1d"
          }
        },
        "7bb5f44c624a4e52b124377b3378f376": {
          "model_module": "@jupyter-widgets/controls",
          "model_name": "HTMLModel",
          "state": {
            "_view_name": "HTMLView",
            "style": "IPY_MODEL_a161bc5c37e349c59e95b1cac04e29e6",
            "_dom_classes": [],
            "description": "",
            "_model_name": "HTMLModel",
            "placeholder": "​",
            "_view_module": "@jupyter-widgets/controls",
            "_model_module_version": "1.5.0",
            "value": " 25000/0 [00:37&lt;00:00, 775.11 examples/s]",
            "_view_count": null,
            "_view_module_version": "1.5.0",
            "description_tooltip": null,
            "_model_module": "@jupyter-widgets/controls",
            "layout": "IPY_MODEL_31b60ced33fc4483b94e0f4ab70c492a"
          }
        },
        "74af621799424bd18b5d2a7f7f7be4bf": {
          "model_module": "@jupyter-widgets/controls",
          "model_name": "ProgressStyleModel",
          "state": {
            "_view_name": "StyleView",
            "_model_name": "ProgressStyleModel",
            "description_width": "initial",
            "_view_module": "@jupyter-widgets/base",
            "_model_module_version": "1.5.0",
            "_view_count": null,
            "_view_module_version": "1.2.0",
            "bar_color": null,
            "_model_module": "@jupyter-widgets/controls"
          }
        },
        "dbbed50e6d5543acaff06fd1bee74e1d": {
          "model_module": "@jupyter-widgets/base",
          "model_name": "LayoutModel",
          "state": {
            "_view_name": "LayoutView",
            "grid_template_rows": null,
            "right": null,
            "justify_content": null,
            "_view_module": "@jupyter-widgets/base",
            "overflow": null,
            "_model_module_version": "1.2.0",
            "_view_count": null,
            "flex_flow": null,
            "width": null,
            "min_width": null,
            "border": null,
            "align_items": null,
            "bottom": null,
            "_model_module": "@jupyter-widgets/base",
            "top": null,
            "grid_column": null,
            "overflow_y": null,
            "overflow_x": null,
            "grid_auto_flow": null,
            "grid_area": null,
            "grid_template_columns": null,
            "flex": null,
            "_model_name": "LayoutModel",
            "justify_items": null,
            "grid_row": null,
            "max_height": null,
            "align_content": null,
            "visibility": null,
            "align_self": null,
            "height": null,
            "min_height": null,
            "padding": null,
            "grid_auto_rows": null,
            "grid_gap": null,
            "max_width": null,
            "order": null,
            "_view_module_version": "1.2.0",
            "grid_template_areas": null,
            "object_position": null,
            "object_fit": null,
            "grid_auto_columns": null,
            "margin": null,
            "display": null,
            "left": null
          }
        },
        "a161bc5c37e349c59e95b1cac04e29e6": {
          "model_module": "@jupyter-widgets/controls",
          "model_name": "DescriptionStyleModel",
          "state": {
            "_view_name": "StyleView",
            "_model_name": "DescriptionStyleModel",
            "description_width": "",
            "_view_module": "@jupyter-widgets/base",
            "_model_module_version": "1.5.0",
            "_view_count": null,
            "_view_module_version": "1.2.0",
            "_model_module": "@jupyter-widgets/controls"
          }
        },
        "31b60ced33fc4483b94e0f4ab70c492a": {
          "model_module": "@jupyter-widgets/base",
          "model_name": "LayoutModel",
          "state": {
            "_view_name": "LayoutView",
            "grid_template_rows": null,
            "right": null,
            "justify_content": null,
            "_view_module": "@jupyter-widgets/base",
            "overflow": null,
            "_model_module_version": "1.2.0",
            "_view_count": null,
            "flex_flow": null,
            "width": null,
            "min_width": null,
            "border": null,
            "align_items": null,
            "bottom": null,
            "_model_module": "@jupyter-widgets/base",
            "top": null,
            "grid_column": null,
            "overflow_y": null,
            "overflow_x": null,
            "grid_auto_flow": null,
            "grid_area": null,
            "grid_template_columns": null,
            "flex": null,
            "_model_name": "LayoutModel",
            "justify_items": null,
            "grid_row": null,
            "max_height": null,
            "align_content": null,
            "visibility": null,
            "align_self": null,
            "height": null,
            "min_height": null,
            "padding": null,
            "grid_auto_rows": null,
            "grid_gap": null,
            "max_width": null,
            "order": null,
            "_view_module_version": "1.2.0",
            "grid_template_areas": null,
            "object_position": null,
            "object_fit": null,
            "grid_auto_columns": null,
            "margin": null,
            "display": null,
            "left": null
          }
        },
        "dda1d6d66e3c4b97a388b05a000961f3": {
          "model_module": "@jupyter-widgets/controls",
          "model_name": "HBoxModel",
          "state": {
            "_view_name": "HBoxView",
            "_dom_classes": [],
            "_model_name": "HBoxModel",
            "_view_module": "@jupyter-widgets/controls",
            "_model_module_version": "1.5.0",
            "_view_count": null,
            "_view_module_version": "1.5.0",
            "box_style": "",
            "layout": "IPY_MODEL_7d841c9285324723a81b9b0c0288bb96",
            "_model_module": "@jupyter-widgets/controls",
            "children": [
              "IPY_MODEL_d3958b949e2b41ea80310e2dfa22d1c2",
              "IPY_MODEL_57938921eb574085b6614803ce470031"
            ]
          }
        },
        "7d841c9285324723a81b9b0c0288bb96": {
          "model_module": "@jupyter-widgets/base",
          "model_name": "LayoutModel",
          "state": {
            "_view_name": "LayoutView",
            "grid_template_rows": null,
            "right": null,
            "justify_content": null,
            "_view_module": "@jupyter-widgets/base",
            "overflow": null,
            "_model_module_version": "1.2.0",
            "_view_count": null,
            "flex_flow": null,
            "width": null,
            "min_width": null,
            "border": null,
            "align_items": null,
            "bottom": null,
            "_model_module": "@jupyter-widgets/base",
            "top": null,
            "grid_column": null,
            "overflow_y": null,
            "overflow_x": null,
            "grid_auto_flow": null,
            "grid_area": null,
            "grid_template_columns": null,
            "flex": null,
            "_model_name": "LayoutModel",
            "justify_items": null,
            "grid_row": null,
            "max_height": null,
            "align_content": null,
            "visibility": null,
            "align_self": null,
            "height": null,
            "min_height": null,
            "padding": null,
            "grid_auto_rows": null,
            "grid_gap": null,
            "max_width": null,
            "order": null,
            "_view_module_version": "1.2.0",
            "grid_template_areas": null,
            "object_position": null,
            "object_fit": null,
            "grid_auto_columns": null,
            "margin": null,
            "display": null,
            "left": null
          }
        },
        "d3958b949e2b41ea80310e2dfa22d1c2": {
          "model_module": "@jupyter-widgets/controls",
          "model_name": "IntProgressModel",
          "state": {
            "_view_name": "ProgressView",
            "style": "IPY_MODEL_36b3865264e84fd5a6c8e5f443677f17",
            "_dom_classes": [],
            "description": " 43%",
            "_model_name": "IntProgressModel",
            "bar_style": "danger",
            "max": 25000,
            "_view_module": "@jupyter-widgets/controls",
            "_model_module_version": "1.5.0",
            "value": 10803,
            "_view_count": null,
            "_view_module_version": "1.5.0",
            "orientation": "horizontal",
            "min": 0,
            "description_tooltip": null,
            "_model_module": "@jupyter-widgets/controls",
            "layout": "IPY_MODEL_301ae0bac86f4118b698cdbad92c770f"
          }
        },
        "57938921eb574085b6614803ce470031": {
          "model_module": "@jupyter-widgets/controls",
          "model_name": "HTMLModel",
          "state": {
            "_view_name": "HTMLView",
            "style": "IPY_MODEL_cd1c65e171fd4b5eb8bd6bdb11b6c05f",
            "_dom_classes": [],
            "description": "",
            "_model_name": "HTMLModel",
            "placeholder": "​",
            "_view_module": "@jupyter-widgets/controls",
            "_model_module_version": "1.5.0",
            "value": " 10803/25000 [00:00&lt;00:00, 108027.78 examples/s]",
            "_view_count": null,
            "_view_module_version": "1.5.0",
            "description_tooltip": null,
            "_model_module": "@jupyter-widgets/controls",
            "layout": "IPY_MODEL_76822c4aa7184262993a5a7552a240f5"
          }
        },
        "36b3865264e84fd5a6c8e5f443677f17": {
          "model_module": "@jupyter-widgets/controls",
          "model_name": "ProgressStyleModel",
          "state": {
            "_view_name": "StyleView",
            "_model_name": "ProgressStyleModel",
            "description_width": "initial",
            "_view_module": "@jupyter-widgets/base",
            "_model_module_version": "1.5.0",
            "_view_count": null,
            "_view_module_version": "1.2.0",
            "bar_color": null,
            "_model_module": "@jupyter-widgets/controls"
          }
        },
        "301ae0bac86f4118b698cdbad92c770f": {
          "model_module": "@jupyter-widgets/base",
          "model_name": "LayoutModel",
          "state": {
            "_view_name": "LayoutView",
            "grid_template_rows": null,
            "right": null,
            "justify_content": null,
            "_view_module": "@jupyter-widgets/base",
            "overflow": null,
            "_model_module_version": "1.2.0",
            "_view_count": null,
            "flex_flow": null,
            "width": null,
            "min_width": null,
            "border": null,
            "align_items": null,
            "bottom": null,
            "_model_module": "@jupyter-widgets/base",
            "top": null,
            "grid_column": null,
            "overflow_y": null,
            "overflow_x": null,
            "grid_auto_flow": null,
            "grid_area": null,
            "grid_template_columns": null,
            "flex": null,
            "_model_name": "LayoutModel",
            "justify_items": null,
            "grid_row": null,
            "max_height": null,
            "align_content": null,
            "visibility": null,
            "align_self": null,
            "height": null,
            "min_height": null,
            "padding": null,
            "grid_auto_rows": null,
            "grid_gap": null,
            "max_width": null,
            "order": null,
            "_view_module_version": "1.2.0",
            "grid_template_areas": null,
            "object_position": null,
            "object_fit": null,
            "grid_auto_columns": null,
            "margin": null,
            "display": null,
            "left": null
          }
        },
        "cd1c65e171fd4b5eb8bd6bdb11b6c05f": {
          "model_module": "@jupyter-widgets/controls",
          "model_name": "DescriptionStyleModel",
          "state": {
            "_view_name": "StyleView",
            "_model_name": "DescriptionStyleModel",
            "description_width": "",
            "_view_module": "@jupyter-widgets/base",
            "_model_module_version": "1.5.0",
            "_view_count": null,
            "_view_module_version": "1.2.0",
            "_model_module": "@jupyter-widgets/controls"
          }
        },
        "76822c4aa7184262993a5a7552a240f5": {
          "model_module": "@jupyter-widgets/base",
          "model_name": "LayoutModel",
          "state": {
            "_view_name": "LayoutView",
            "grid_template_rows": null,
            "right": null,
            "justify_content": null,
            "_view_module": "@jupyter-widgets/base",
            "overflow": null,
            "_model_module_version": "1.2.0",
            "_view_count": null,
            "flex_flow": null,
            "width": null,
            "min_width": null,
            "border": null,
            "align_items": null,
            "bottom": null,
            "_model_module": "@jupyter-widgets/base",
            "top": null,
            "grid_column": null,
            "overflow_y": null,
            "overflow_x": null,
            "grid_auto_flow": null,
            "grid_area": null,
            "grid_template_columns": null,
            "flex": null,
            "_model_name": "LayoutModel",
            "justify_items": null,
            "grid_row": null,
            "max_height": null,
            "align_content": null,
            "visibility": null,
            "align_self": null,
            "height": null,
            "min_height": null,
            "padding": null,
            "grid_auto_rows": null,
            "grid_gap": null,
            "max_width": null,
            "order": null,
            "_view_module_version": "1.2.0",
            "grid_template_areas": null,
            "object_position": null,
            "object_fit": null,
            "grid_auto_columns": null,
            "margin": null,
            "display": null,
            "left": null
          }
        },
        "050bbd7403794fe29f3eb15f423799c8": {
          "model_module": "@jupyter-widgets/controls",
          "model_name": "HBoxModel",
          "state": {
            "_view_name": "HBoxView",
            "_dom_classes": [],
            "_model_name": "HBoxModel",
            "_view_module": "@jupyter-widgets/controls",
            "_model_module_version": "1.5.0",
            "_view_count": null,
            "_view_module_version": "1.5.0",
            "box_style": "",
            "layout": "IPY_MODEL_401fff3cf17041b594aa99dadef56529",
            "_model_module": "@jupyter-widgets/controls",
            "children": [
              "IPY_MODEL_90e2879e7149415580a7ee1588efcb5f",
              "IPY_MODEL_01ae039642aa4eb989f3005448138652"
            ]
          }
        },
        "401fff3cf17041b594aa99dadef56529": {
          "model_module": "@jupyter-widgets/base",
          "model_name": "LayoutModel",
          "state": {
            "_view_name": "LayoutView",
            "grid_template_rows": null,
            "right": null,
            "justify_content": null,
            "_view_module": "@jupyter-widgets/base",
            "overflow": null,
            "_model_module_version": "1.2.0",
            "_view_count": null,
            "flex_flow": null,
            "width": null,
            "min_width": null,
            "border": null,
            "align_items": null,
            "bottom": null,
            "_model_module": "@jupyter-widgets/base",
            "top": null,
            "grid_column": null,
            "overflow_y": null,
            "overflow_x": null,
            "grid_auto_flow": null,
            "grid_area": null,
            "grid_template_columns": null,
            "flex": null,
            "_model_name": "LayoutModel",
            "justify_items": null,
            "grid_row": null,
            "max_height": null,
            "align_content": null,
            "visibility": null,
            "align_self": null,
            "height": null,
            "min_height": null,
            "padding": null,
            "grid_auto_rows": null,
            "grid_gap": null,
            "max_width": null,
            "order": null,
            "_view_module_version": "1.2.0",
            "grid_template_areas": null,
            "object_position": null,
            "object_fit": null,
            "grid_auto_columns": null,
            "margin": null,
            "display": null,
            "left": null
          }
        },
        "90e2879e7149415580a7ee1588efcb5f": {
          "model_module": "@jupyter-widgets/controls",
          "model_name": "IntProgressModel",
          "state": {
            "_view_name": "ProgressView",
            "style": "IPY_MODEL_2a87e3cbcb2d4913a6c098dd4e49f013",
            "_dom_classes": [],
            "description": "",
            "_model_name": "IntProgressModel",
            "bar_style": "info",
            "max": 1,
            "_view_module": "@jupyter-widgets/controls",
            "_model_module_version": "1.5.0",
            "value": 1,
            "_view_count": null,
            "_view_module_version": "1.5.0",
            "orientation": "horizontal",
            "min": 0,
            "description_tooltip": null,
            "_model_module": "@jupyter-widgets/controls",
            "layout": "IPY_MODEL_4e211300e2974846ad32e52d2c5e5266"
          }
        },
        "01ae039642aa4eb989f3005448138652": {
          "model_module": "@jupyter-widgets/controls",
          "model_name": "HTMLModel",
          "state": {
            "_view_name": "HTMLView",
            "style": "IPY_MODEL_2547dda2186f412aaa2b3db51b2dccfc",
            "_dom_classes": [],
            "description": "",
            "_model_name": "HTMLModel",
            "placeholder": "​",
            "_view_module": "@jupyter-widgets/controls",
            "_model_module_version": "1.5.0",
            "value": " 25000/0 [00:36&lt;00:00, 836.86 examples/s]",
            "_view_count": null,
            "_view_module_version": "1.5.0",
            "description_tooltip": null,
            "_model_module": "@jupyter-widgets/controls",
            "layout": "IPY_MODEL_a14ce270b25e4bc3ad9eadf12dba73c5"
          }
        },
        "2a87e3cbcb2d4913a6c098dd4e49f013": {
          "model_module": "@jupyter-widgets/controls",
          "model_name": "ProgressStyleModel",
          "state": {
            "_view_name": "StyleView",
            "_model_name": "ProgressStyleModel",
            "description_width": "initial",
            "_view_module": "@jupyter-widgets/base",
            "_model_module_version": "1.5.0",
            "_view_count": null,
            "_view_module_version": "1.2.0",
            "bar_color": null,
            "_model_module": "@jupyter-widgets/controls"
          }
        },
        "4e211300e2974846ad32e52d2c5e5266": {
          "model_module": "@jupyter-widgets/base",
          "model_name": "LayoutModel",
          "state": {
            "_view_name": "LayoutView",
            "grid_template_rows": null,
            "right": null,
            "justify_content": null,
            "_view_module": "@jupyter-widgets/base",
            "overflow": null,
            "_model_module_version": "1.2.0",
            "_view_count": null,
            "flex_flow": null,
            "width": null,
            "min_width": null,
            "border": null,
            "align_items": null,
            "bottom": null,
            "_model_module": "@jupyter-widgets/base",
            "top": null,
            "grid_column": null,
            "overflow_y": null,
            "overflow_x": null,
            "grid_auto_flow": null,
            "grid_area": null,
            "grid_template_columns": null,
            "flex": null,
            "_model_name": "LayoutModel",
            "justify_items": null,
            "grid_row": null,
            "max_height": null,
            "align_content": null,
            "visibility": null,
            "align_self": null,
            "height": null,
            "min_height": null,
            "padding": null,
            "grid_auto_rows": null,
            "grid_gap": null,
            "max_width": null,
            "order": null,
            "_view_module_version": "1.2.0",
            "grid_template_areas": null,
            "object_position": null,
            "object_fit": null,
            "grid_auto_columns": null,
            "margin": null,
            "display": null,
            "left": null
          }
        },
        "2547dda2186f412aaa2b3db51b2dccfc": {
          "model_module": "@jupyter-widgets/controls",
          "model_name": "DescriptionStyleModel",
          "state": {
            "_view_name": "StyleView",
            "_model_name": "DescriptionStyleModel",
            "description_width": "",
            "_view_module": "@jupyter-widgets/base",
            "_model_module_version": "1.5.0",
            "_view_count": null,
            "_view_module_version": "1.2.0",
            "_model_module": "@jupyter-widgets/controls"
          }
        },
        "a14ce270b25e4bc3ad9eadf12dba73c5": {
          "model_module": "@jupyter-widgets/base",
          "model_name": "LayoutModel",
          "state": {
            "_view_name": "LayoutView",
            "grid_template_rows": null,
            "right": null,
            "justify_content": null,
            "_view_module": "@jupyter-widgets/base",
            "overflow": null,
            "_model_module_version": "1.2.0",
            "_view_count": null,
            "flex_flow": null,
            "width": null,
            "min_width": null,
            "border": null,
            "align_items": null,
            "bottom": null,
            "_model_module": "@jupyter-widgets/base",
            "top": null,
            "grid_column": null,
            "overflow_y": null,
            "overflow_x": null,
            "grid_auto_flow": null,
            "grid_area": null,
            "grid_template_columns": null,
            "flex": null,
            "_model_name": "LayoutModel",
            "justify_items": null,
            "grid_row": null,
            "max_height": null,
            "align_content": null,
            "visibility": null,
            "align_self": null,
            "height": null,
            "min_height": null,
            "padding": null,
            "grid_auto_rows": null,
            "grid_gap": null,
            "max_width": null,
            "order": null,
            "_view_module_version": "1.2.0",
            "grid_template_areas": null,
            "object_position": null,
            "object_fit": null,
            "grid_auto_columns": null,
            "margin": null,
            "display": null,
            "left": null
          }
        },
        "ae017cad86aa485eb0ae9b1d22ec7243": {
          "model_module": "@jupyter-widgets/controls",
          "model_name": "HBoxModel",
          "state": {
            "_view_name": "HBoxView",
            "_dom_classes": [],
            "_model_name": "HBoxModel",
            "_view_module": "@jupyter-widgets/controls",
            "_model_module_version": "1.5.0",
            "_view_count": null,
            "_view_module_version": "1.5.0",
            "box_style": "",
            "layout": "IPY_MODEL_998b760ddc4e4d768a4ec72f5ea1dc21",
            "_model_module": "@jupyter-widgets/controls",
            "children": [
              "IPY_MODEL_301f1df4c58d41d0b0677123492ce343",
              "IPY_MODEL_99a7818a48e641f4bb48e2f0ff5b328c"
            ]
          }
        },
        "998b760ddc4e4d768a4ec72f5ea1dc21": {
          "model_module": "@jupyter-widgets/base",
          "model_name": "LayoutModel",
          "state": {
            "_view_name": "LayoutView",
            "grid_template_rows": null,
            "right": null,
            "justify_content": null,
            "_view_module": "@jupyter-widgets/base",
            "overflow": null,
            "_model_module_version": "1.2.0",
            "_view_count": null,
            "flex_flow": null,
            "width": null,
            "min_width": null,
            "border": null,
            "align_items": null,
            "bottom": null,
            "_model_module": "@jupyter-widgets/base",
            "top": null,
            "grid_column": null,
            "overflow_y": null,
            "overflow_x": null,
            "grid_auto_flow": null,
            "grid_area": null,
            "grid_template_columns": null,
            "flex": null,
            "_model_name": "LayoutModel",
            "justify_items": null,
            "grid_row": null,
            "max_height": null,
            "align_content": null,
            "visibility": null,
            "align_self": null,
            "height": null,
            "min_height": null,
            "padding": null,
            "grid_auto_rows": null,
            "grid_gap": null,
            "max_width": null,
            "order": null,
            "_view_module_version": "1.2.0",
            "grid_template_areas": null,
            "object_position": null,
            "object_fit": null,
            "grid_auto_columns": null,
            "margin": null,
            "display": null,
            "left": null
          }
        },
        "301f1df4c58d41d0b0677123492ce343": {
          "model_module": "@jupyter-widgets/controls",
          "model_name": "IntProgressModel",
          "state": {
            "_view_name": "ProgressView",
            "style": "IPY_MODEL_65d6ca583e144f84bba3280f0c878dc3",
            "_dom_classes": [],
            "description": " 47%",
            "_model_name": "IntProgressModel",
            "bar_style": "danger",
            "max": 25000,
            "_view_module": "@jupyter-widgets/controls",
            "_model_module_version": "1.5.0",
            "value": 11641,
            "_view_count": null,
            "_view_module_version": "1.5.0",
            "orientation": "horizontal",
            "min": 0,
            "description_tooltip": null,
            "_model_module": "@jupyter-widgets/controls",
            "layout": "IPY_MODEL_546fc113c6be4da193804e45831ebbf1"
          }
        },
        "99a7818a48e641f4bb48e2f0ff5b328c": {
          "model_module": "@jupyter-widgets/controls",
          "model_name": "HTMLModel",
          "state": {
            "_view_name": "HTMLView",
            "style": "IPY_MODEL_4e31944beaa74af281aa05e71d9a58b1",
            "_dom_classes": [],
            "description": "",
            "_model_name": "HTMLModel",
            "placeholder": "​",
            "_view_module": "@jupyter-widgets/controls",
            "_model_module_version": "1.5.0",
            "value": " 11641/25000 [00:00&lt;00:00, 116407.61 examples/s]",
            "_view_count": null,
            "_view_module_version": "1.5.0",
            "description_tooltip": null,
            "_model_module": "@jupyter-widgets/controls",
            "layout": "IPY_MODEL_3e254e7fc04c446e83e36f17ffbfcdb9"
          }
        },
        "65d6ca583e144f84bba3280f0c878dc3": {
          "model_module": "@jupyter-widgets/controls",
          "model_name": "ProgressStyleModel",
          "state": {
            "_view_name": "StyleView",
            "_model_name": "ProgressStyleModel",
            "description_width": "initial",
            "_view_module": "@jupyter-widgets/base",
            "_model_module_version": "1.5.0",
            "_view_count": null,
            "_view_module_version": "1.2.0",
            "bar_color": null,
            "_model_module": "@jupyter-widgets/controls"
          }
        },
        "546fc113c6be4da193804e45831ebbf1": {
          "model_module": "@jupyter-widgets/base",
          "model_name": "LayoutModel",
          "state": {
            "_view_name": "LayoutView",
            "grid_template_rows": null,
            "right": null,
            "justify_content": null,
            "_view_module": "@jupyter-widgets/base",
            "overflow": null,
            "_model_module_version": "1.2.0",
            "_view_count": null,
            "flex_flow": null,
            "width": null,
            "min_width": null,
            "border": null,
            "align_items": null,
            "bottom": null,
            "_model_module": "@jupyter-widgets/base",
            "top": null,
            "grid_column": null,
            "overflow_y": null,
            "overflow_x": null,
            "grid_auto_flow": null,
            "grid_area": null,
            "grid_template_columns": null,
            "flex": null,
            "_model_name": "LayoutModel",
            "justify_items": null,
            "grid_row": null,
            "max_height": null,
            "align_content": null,
            "visibility": null,
            "align_self": null,
            "height": null,
            "min_height": null,
            "padding": null,
            "grid_auto_rows": null,
            "grid_gap": null,
            "max_width": null,
            "order": null,
            "_view_module_version": "1.2.0",
            "grid_template_areas": null,
            "object_position": null,
            "object_fit": null,
            "grid_auto_columns": null,
            "margin": null,
            "display": null,
            "left": null
          }
        },
        "4e31944beaa74af281aa05e71d9a58b1": {
          "model_module": "@jupyter-widgets/controls",
          "model_name": "DescriptionStyleModel",
          "state": {
            "_view_name": "StyleView",
            "_model_name": "DescriptionStyleModel",
            "description_width": "",
            "_view_module": "@jupyter-widgets/base",
            "_model_module_version": "1.5.0",
            "_view_count": null,
            "_view_module_version": "1.2.0",
            "_model_module": "@jupyter-widgets/controls"
          }
        },
        "3e254e7fc04c446e83e36f17ffbfcdb9": {
          "model_module": "@jupyter-widgets/base",
          "model_name": "LayoutModel",
          "state": {
            "_view_name": "LayoutView",
            "grid_template_rows": null,
            "right": null,
            "justify_content": null,
            "_view_module": "@jupyter-widgets/base",
            "overflow": null,
            "_model_module_version": "1.2.0",
            "_view_count": null,
            "flex_flow": null,
            "width": null,
            "min_width": null,
            "border": null,
            "align_items": null,
            "bottom": null,
            "_model_module": "@jupyter-widgets/base",
            "top": null,
            "grid_column": null,
            "overflow_y": null,
            "overflow_x": null,
            "grid_auto_flow": null,
            "grid_area": null,
            "grid_template_columns": null,
            "flex": null,
            "_model_name": "LayoutModel",
            "justify_items": null,
            "grid_row": null,
            "max_height": null,
            "align_content": null,
            "visibility": null,
            "align_self": null,
            "height": null,
            "min_height": null,
            "padding": null,
            "grid_auto_rows": null,
            "grid_gap": null,
            "max_width": null,
            "order": null,
            "_view_module_version": "1.2.0",
            "grid_template_areas": null,
            "object_position": null,
            "object_fit": null,
            "grid_auto_columns": null,
            "margin": null,
            "display": null,
            "left": null
          }
        },
        "9884ee3bb3b2402189ed9d0ac8dcabd5": {
          "model_module": "@jupyter-widgets/controls",
          "model_name": "HBoxModel",
          "state": {
            "_view_name": "HBoxView",
            "_dom_classes": [],
            "_model_name": "HBoxModel",
            "_view_module": "@jupyter-widgets/controls",
            "_model_module_version": "1.5.0",
            "_view_count": null,
            "_view_module_version": "1.5.0",
            "box_style": "",
            "layout": "IPY_MODEL_20bdf2e195504a99a00582d1f2220bba",
            "_model_module": "@jupyter-widgets/controls",
            "children": [
              "IPY_MODEL_20a6702928e74abe8066600b03ab796f",
              "IPY_MODEL_d0bdab754f074c5ab5dd2fc85e090ad0"
            ]
          }
        },
        "20bdf2e195504a99a00582d1f2220bba": {
          "model_module": "@jupyter-widgets/base",
          "model_name": "LayoutModel",
          "state": {
            "_view_name": "LayoutView",
            "grid_template_rows": null,
            "right": null,
            "justify_content": null,
            "_view_module": "@jupyter-widgets/base",
            "overflow": null,
            "_model_module_version": "1.2.0",
            "_view_count": null,
            "flex_flow": null,
            "width": null,
            "min_width": null,
            "border": null,
            "align_items": null,
            "bottom": null,
            "_model_module": "@jupyter-widgets/base",
            "top": null,
            "grid_column": null,
            "overflow_y": null,
            "overflow_x": null,
            "grid_auto_flow": null,
            "grid_area": null,
            "grid_template_columns": null,
            "flex": null,
            "_model_name": "LayoutModel",
            "justify_items": null,
            "grid_row": null,
            "max_height": null,
            "align_content": null,
            "visibility": null,
            "align_self": null,
            "height": null,
            "min_height": null,
            "padding": null,
            "grid_auto_rows": null,
            "grid_gap": null,
            "max_width": null,
            "order": null,
            "_view_module_version": "1.2.0",
            "grid_template_areas": null,
            "object_position": null,
            "object_fit": null,
            "grid_auto_columns": null,
            "margin": null,
            "display": null,
            "left": null
          }
        },
        "20a6702928e74abe8066600b03ab796f": {
          "model_module": "@jupyter-widgets/controls",
          "model_name": "IntProgressModel",
          "state": {
            "_view_name": "ProgressView",
            "style": "IPY_MODEL_bad11dd14e734818a9ab1ca33892d5e4",
            "_dom_classes": [],
            "description": "",
            "_model_name": "IntProgressModel",
            "bar_style": "info",
            "max": 1,
            "_view_module": "@jupyter-widgets/controls",
            "_model_module_version": "1.5.0",
            "value": 1,
            "_view_count": null,
            "_view_module_version": "1.5.0",
            "orientation": "horizontal",
            "min": 0,
            "description_tooltip": null,
            "_model_module": "@jupyter-widgets/controls",
            "layout": "IPY_MODEL_7d8e636369124aa19b284a84494580c2"
          }
        },
        "d0bdab754f074c5ab5dd2fc85e090ad0": {
          "model_module": "@jupyter-widgets/controls",
          "model_name": "HTMLModel",
          "state": {
            "_view_name": "HTMLView",
            "style": "IPY_MODEL_54945cc7a6b244d491bd1879227d1037",
            "_dom_classes": [],
            "description": "",
            "_model_name": "HTMLModel",
            "placeholder": "​",
            "_view_module": "@jupyter-widgets/controls",
            "_model_module_version": "1.5.0",
            "value": " 50000/0 [01:07&lt;00:00, 809.27 examples/s]",
            "_view_count": null,
            "_view_module_version": "1.5.0",
            "description_tooltip": null,
            "_model_module": "@jupyter-widgets/controls",
            "layout": "IPY_MODEL_700ff474b76e4846852535d0712cd854"
          }
        },
        "bad11dd14e734818a9ab1ca33892d5e4": {
          "model_module": "@jupyter-widgets/controls",
          "model_name": "ProgressStyleModel",
          "state": {
            "_view_name": "StyleView",
            "_model_name": "ProgressStyleModel",
            "description_width": "initial",
            "_view_module": "@jupyter-widgets/base",
            "_model_module_version": "1.5.0",
            "_view_count": null,
            "_view_module_version": "1.2.0",
            "bar_color": null,
            "_model_module": "@jupyter-widgets/controls"
          }
        },
        "7d8e636369124aa19b284a84494580c2": {
          "model_module": "@jupyter-widgets/base",
          "model_name": "LayoutModel",
          "state": {
            "_view_name": "LayoutView",
            "grid_template_rows": null,
            "right": null,
            "justify_content": null,
            "_view_module": "@jupyter-widgets/base",
            "overflow": null,
            "_model_module_version": "1.2.0",
            "_view_count": null,
            "flex_flow": null,
            "width": null,
            "min_width": null,
            "border": null,
            "align_items": null,
            "bottom": null,
            "_model_module": "@jupyter-widgets/base",
            "top": null,
            "grid_column": null,
            "overflow_y": null,
            "overflow_x": null,
            "grid_auto_flow": null,
            "grid_area": null,
            "grid_template_columns": null,
            "flex": null,
            "_model_name": "LayoutModel",
            "justify_items": null,
            "grid_row": null,
            "max_height": null,
            "align_content": null,
            "visibility": null,
            "align_self": null,
            "height": null,
            "min_height": null,
            "padding": null,
            "grid_auto_rows": null,
            "grid_gap": null,
            "max_width": null,
            "order": null,
            "_view_module_version": "1.2.0",
            "grid_template_areas": null,
            "object_position": null,
            "object_fit": null,
            "grid_auto_columns": null,
            "margin": null,
            "display": null,
            "left": null
          }
        },
        "54945cc7a6b244d491bd1879227d1037": {
          "model_module": "@jupyter-widgets/controls",
          "model_name": "DescriptionStyleModel",
          "state": {
            "_view_name": "StyleView",
            "_model_name": "DescriptionStyleModel",
            "description_width": "",
            "_view_module": "@jupyter-widgets/base",
            "_model_module_version": "1.5.0",
            "_view_count": null,
            "_view_module_version": "1.2.0",
            "_model_module": "@jupyter-widgets/controls"
          }
        },
        "700ff474b76e4846852535d0712cd854": {
          "model_module": "@jupyter-widgets/base",
          "model_name": "LayoutModel",
          "state": {
            "_view_name": "LayoutView",
            "grid_template_rows": null,
            "right": null,
            "justify_content": null,
            "_view_module": "@jupyter-widgets/base",
            "overflow": null,
            "_model_module_version": "1.2.0",
            "_view_count": null,
            "flex_flow": null,
            "width": null,
            "min_width": null,
            "border": null,
            "align_items": null,
            "bottom": null,
            "_model_module": "@jupyter-widgets/base",
            "top": null,
            "grid_column": null,
            "overflow_y": null,
            "overflow_x": null,
            "grid_auto_flow": null,
            "grid_area": null,
            "grid_template_columns": null,
            "flex": null,
            "_model_name": "LayoutModel",
            "justify_items": null,
            "grid_row": null,
            "max_height": null,
            "align_content": null,
            "visibility": null,
            "align_self": null,
            "height": null,
            "min_height": null,
            "padding": null,
            "grid_auto_rows": null,
            "grid_gap": null,
            "max_width": null,
            "order": null,
            "_view_module_version": "1.2.0",
            "grid_template_areas": null,
            "object_position": null,
            "object_fit": null,
            "grid_auto_columns": null,
            "margin": null,
            "display": null,
            "left": null
          }
        },
        "76ba838137094e5c8d1ea41980b3b779": {
          "model_module": "@jupyter-widgets/controls",
          "model_name": "HBoxModel",
          "state": {
            "_view_name": "HBoxView",
            "_dom_classes": [],
            "_model_name": "HBoxModel",
            "_view_module": "@jupyter-widgets/controls",
            "_model_module_version": "1.5.0",
            "_view_count": null,
            "_view_module_version": "1.5.0",
            "box_style": "",
            "layout": "IPY_MODEL_2042879c51674210b2443d2acf9dc6d5",
            "_model_module": "@jupyter-widgets/controls",
            "children": [
              "IPY_MODEL_790d6f169193467ead847be372977a8d",
              "IPY_MODEL_ea3e65c1c937415d975535602378ca50"
            ]
          }
        },
        "2042879c51674210b2443d2acf9dc6d5": {
          "model_module": "@jupyter-widgets/base",
          "model_name": "LayoutModel",
          "state": {
            "_view_name": "LayoutView",
            "grid_template_rows": null,
            "right": null,
            "justify_content": null,
            "_view_module": "@jupyter-widgets/base",
            "overflow": null,
            "_model_module_version": "1.2.0",
            "_view_count": null,
            "flex_flow": null,
            "width": null,
            "min_width": null,
            "border": null,
            "align_items": null,
            "bottom": null,
            "_model_module": "@jupyter-widgets/base",
            "top": null,
            "grid_column": null,
            "overflow_y": null,
            "overflow_x": null,
            "grid_auto_flow": null,
            "grid_area": null,
            "grid_template_columns": null,
            "flex": null,
            "_model_name": "LayoutModel",
            "justify_items": null,
            "grid_row": null,
            "max_height": null,
            "align_content": null,
            "visibility": null,
            "align_self": null,
            "height": null,
            "min_height": null,
            "padding": null,
            "grid_auto_rows": null,
            "grid_gap": null,
            "max_width": null,
            "order": null,
            "_view_module_version": "1.2.0",
            "grid_template_areas": null,
            "object_position": null,
            "object_fit": null,
            "grid_auto_columns": null,
            "margin": null,
            "display": null,
            "left": null
          }
        },
        "790d6f169193467ead847be372977a8d": {
          "model_module": "@jupyter-widgets/controls",
          "model_name": "IntProgressModel",
          "state": {
            "_view_name": "ProgressView",
            "style": "IPY_MODEL_a433942413d24f7baf3b1df7fe115a2f",
            "_dom_classes": [],
            "description": " 60%",
            "_model_name": "IntProgressModel",
            "bar_style": "danger",
            "max": 50000,
            "_view_module": "@jupyter-widgets/controls",
            "_model_module_version": "1.5.0",
            "value": 29828,
            "_view_count": null,
            "_view_module_version": "1.5.0",
            "orientation": "horizontal",
            "min": 0,
            "description_tooltip": null,
            "_model_module": "@jupyter-widgets/controls",
            "layout": "IPY_MODEL_8a9f8fdcbcb84ab5a08437a62304d02b"
          }
        },
        "ea3e65c1c937415d975535602378ca50": {
          "model_module": "@jupyter-widgets/controls",
          "model_name": "HTMLModel",
          "state": {
            "_view_name": "HTMLView",
            "style": "IPY_MODEL_68dae1bfd7ea4a6a9ee65e0f7a434e06",
            "_dom_classes": [],
            "description": "",
            "_model_name": "HTMLModel",
            "placeholder": "​",
            "_view_module": "@jupyter-widgets/controls",
            "_model_module_version": "1.5.0",
            "value": " 29828/50000 [00:00&lt;27:14, 12.34 examples/s]",
            "_view_count": null,
            "_view_module_version": "1.5.0",
            "description_tooltip": null,
            "_model_module": "@jupyter-widgets/controls",
            "layout": "IPY_MODEL_74c93e6df82c49cab5e1eb75fd879de7"
          }
        },
        "a433942413d24f7baf3b1df7fe115a2f": {
          "model_module": "@jupyter-widgets/controls",
          "model_name": "ProgressStyleModel",
          "state": {
            "_view_name": "StyleView",
            "_model_name": "ProgressStyleModel",
            "description_width": "initial",
            "_view_module": "@jupyter-widgets/base",
            "_model_module_version": "1.5.0",
            "_view_count": null,
            "_view_module_version": "1.2.0",
            "bar_color": null,
            "_model_module": "@jupyter-widgets/controls"
          }
        },
        "8a9f8fdcbcb84ab5a08437a62304d02b": {
          "model_module": "@jupyter-widgets/base",
          "model_name": "LayoutModel",
          "state": {
            "_view_name": "LayoutView",
            "grid_template_rows": null,
            "right": null,
            "justify_content": null,
            "_view_module": "@jupyter-widgets/base",
            "overflow": null,
            "_model_module_version": "1.2.0",
            "_view_count": null,
            "flex_flow": null,
            "width": null,
            "min_width": null,
            "border": null,
            "align_items": null,
            "bottom": null,
            "_model_module": "@jupyter-widgets/base",
            "top": null,
            "grid_column": null,
            "overflow_y": null,
            "overflow_x": null,
            "grid_auto_flow": null,
            "grid_area": null,
            "grid_template_columns": null,
            "flex": null,
            "_model_name": "LayoutModel",
            "justify_items": null,
            "grid_row": null,
            "max_height": null,
            "align_content": null,
            "visibility": null,
            "align_self": null,
            "height": null,
            "min_height": null,
            "padding": null,
            "grid_auto_rows": null,
            "grid_gap": null,
            "max_width": null,
            "order": null,
            "_view_module_version": "1.2.0",
            "grid_template_areas": null,
            "object_position": null,
            "object_fit": null,
            "grid_auto_columns": null,
            "margin": null,
            "display": null,
            "left": null
          }
        },
        "68dae1bfd7ea4a6a9ee65e0f7a434e06": {
          "model_module": "@jupyter-widgets/controls",
          "model_name": "DescriptionStyleModel",
          "state": {
            "_view_name": "StyleView",
            "_model_name": "DescriptionStyleModel",
            "description_width": "",
            "_view_module": "@jupyter-widgets/base",
            "_model_module_version": "1.5.0",
            "_view_count": null,
            "_view_module_version": "1.2.0",
            "_model_module": "@jupyter-widgets/controls"
          }
        },
        "74c93e6df82c49cab5e1eb75fd879de7": {
          "model_module": "@jupyter-widgets/base",
          "model_name": "LayoutModel",
          "state": {
            "_view_name": "LayoutView",
            "grid_template_rows": null,
            "right": null,
            "justify_content": null,
            "_view_module": "@jupyter-widgets/base",
            "overflow": null,
            "_model_module_version": "1.2.0",
            "_view_count": null,
            "flex_flow": null,
            "width": null,
            "min_width": null,
            "border": null,
            "align_items": null,
            "bottom": null,
            "_model_module": "@jupyter-widgets/base",
            "top": null,
            "grid_column": null,
            "overflow_y": null,
            "overflow_x": null,
            "grid_auto_flow": null,
            "grid_area": null,
            "grid_template_columns": null,
            "flex": null,
            "_model_name": "LayoutModel",
            "justify_items": null,
            "grid_row": null,
            "max_height": null,
            "align_content": null,
            "visibility": null,
            "align_self": null,
            "height": null,
            "min_height": null,
            "padding": null,
            "grid_auto_rows": null,
            "grid_gap": null,
            "max_width": null,
            "order": null,
            "_view_module_version": "1.2.0",
            "grid_template_areas": null,
            "object_position": null,
            "object_fit": null,
            "grid_auto_columns": null,
            "margin": null,
            "display": null,
            "left": null
          }
        }
      }
    }
  },
  "cells": [
    {
      "cell_type": "markdown",
      "metadata": {
        "id": "3Th1AMWOO7Ou",
        "colab_type": "text"
      },
      "source": [
        "**Natural Language Processing (NLP)**\n",
        "\n",
        "1. Bag of words\n",
        "2. Latent Dirichlet Allocation(LDA) ([Tutorial Video](https://www.youtube.com/watch?v=BuMu-bdoVrU) watch 1st 1/2 of video))\n",
        "3. RNN\n",
        "4. LSTM"
      ]
    },
    {
      "cell_type": "code",
      "metadata": {
        "id": "5kZr4tjzQjfc",
        "colab_type": "code",
        "colab": {
          "base_uri": "https://localhost:8080/",
          "height": 34
        },
        "outputId": "5d6a1d09-7248-4b94-d44e-17122fbc3b79"
      },
      "source": [
        "#Download IMDB dataset\n",
        "import tensorflow as tf\n",
        "#tf.enable_eager_execution()\n",
        "\n",
        "import os\n",
        "import sys\n",
        "import tarfile\n",
        "import time\n",
        "import urllib.request\n",
        "\n",
        "source = 'http://ai.stanford.edu/~amaas/data/sentiment/aclImdb_v1.tar.gz'\n",
        "target = 'aclImdb_v1.tar.gz'\n",
        "\n",
        "urllib.request.urlretrieve(source, target)"
      ],
      "execution_count": 2,
      "outputs": [
        {
          "output_type": "execute_result",
          "data": {
            "text/plain": [
              "('aclImdb_v1.tar.gz', <http.client.HTTPMessage at 0x7f4b4e3f16d8>)"
            ]
          },
          "metadata": {
            "tags": []
          },
          "execution_count": 2
        }
      ]
    },
    {
      "cell_type": "code",
      "metadata": {
        "id": "FJ1lVRgLRdRf",
        "colab_type": "code",
        "colab": {}
      },
      "source": [
        "import tarfile\n",
        "with tarfile.open('aclImdb_v1.tar.gz', 'r:gz') as tar:\n",
        "  tar.extractall()"
      ],
      "execution_count": 0,
      "outputs": []
    },
    {
      "cell_type": "code",
      "metadata": {
        "id": "duaGixe7vBye",
        "colab_type": "code",
        "colab": {
          "base_uri": "https://localhost:8080/",
          "height": 121
        },
        "outputId": "7bf159f6-5522-4630-cccd-65b29a57df43"
      },
      "source": [
        "!pip install pyprind\n",
        "import pyprind\n",
        "import pandas as pd\n",
        "import os\n",
        "\n",
        "# change the `basepath` to the directory of the\n",
        "# unzipped movie dataset\n",
        "\n",
        "basepath = 'aclImdb'\n",
        "\n",
        "labels = {'pos': 1, 'neg': 0}\n",
        "pbar = pyprind.ProgBar(50000)\n",
        "df = pd.DataFrame()\n",
        "for s in ('test', 'train'):\n",
        "    for l in ('pos', 'neg'):\n",
        "        path = os.path.join(basepath, s, l)\n",
        "        for file in sorted(os.listdir(path)):\n",
        "            with open(os.path.join(path, file), \n",
        "                      'r', encoding='utf-8') as infile:\n",
        "                txt = infile.read()\n",
        "            df = df.append([[txt, labels[l]]], \n",
        "                           ignore_index=True)\n",
        "            pbar.update()\n",
        "df.columns = ['review', 'sentiment']"
      ],
      "execution_count": 4,
      "outputs": [
        {
          "output_type": "stream",
          "text": [
            "Collecting pyprind\n",
            "  Downloading https://files.pythonhosted.org/packages/1e/30/e76fb0c45da8aef49ea8d2a90d4e7a6877b45894c25f12fb961f009a891e/PyPrind-2.11.2-py3-none-any.whl\n",
            "Installing collected packages: pyprind\n",
            "Successfully installed pyprind-2.11.2\n"
          ],
          "name": "stdout"
        },
        {
          "output_type": "stream",
          "text": [
            "0% [##############################] 100% | ETA: 00:00:00\n",
            "Total time elapsed: 00:02:11\n"
          ],
          "name": "stderr"
        }
      ]
    },
    {
      "cell_type": "code",
      "metadata": {
        "id": "JVJ_jnvPwTIx",
        "colab_type": "code",
        "colab": {}
      },
      "source": [
        "import numpy as np\n",
        "#Shuffling the DataFrame:\n",
        "np.random.seed(0)\n",
        "df = df.reindex(np.random.permutation(df.index))"
      ],
      "execution_count": 0,
      "outputs": []
    },
    {
      "cell_type": "code",
      "metadata": {
        "id": "sLJH7rcoxl_I",
        "colab_type": "code",
        "colab": {}
      },
      "source": [
        "#Saving the assembled data as CSV file:\n",
        "df.to_csv('movie_data.csv', index=False, encoding='utf-8')"
      ],
      "execution_count": 0,
      "outputs": []
    },
    {
      "cell_type": "code",
      "metadata": {
        "id": "1tGfZ6-rx8bg",
        "colab_type": "code",
        "colab": {
          "base_uri": "https://localhost:8080/",
          "height": 155
        },
        "outputId": "cd789d11-d704-4dbe-f34b-081295d20bbf"
      },
      "source": [
        "import pandas as pd\n",
        "\n",
        "df = pd.read_csv('movie_data.csv', encoding='utf-8')\n",
        "print(\"Shape: \", df.shape)\n",
        "df.head(3)"
      ],
      "execution_count": 7,
      "outputs": [
        {
          "output_type": "stream",
          "text": [
            "Shape:  (50000, 2)\n"
          ],
          "name": "stdout"
        },
        {
          "output_type": "execute_result",
          "data": {
            "text/html": [
              "<div>\n",
              "<style scoped>\n",
              "    .dataframe tbody tr th:only-of-type {\n",
              "        vertical-align: middle;\n",
              "    }\n",
              "\n",
              "    .dataframe tbody tr th {\n",
              "        vertical-align: top;\n",
              "    }\n",
              "\n",
              "    .dataframe thead th {\n",
              "        text-align: right;\n",
              "    }\n",
              "</style>\n",
              "<table border=\"1\" class=\"dataframe\">\n",
              "  <thead>\n",
              "    <tr style=\"text-align: right;\">\n",
              "      <th></th>\n",
              "      <th>review</th>\n",
              "      <th>sentiment</th>\n",
              "    </tr>\n",
              "  </thead>\n",
              "  <tbody>\n",
              "    <tr>\n",
              "      <th>0</th>\n",
              "      <td>In 1974, the teenager Martha Moxley (Maggie Gr...</td>\n",
              "      <td>1</td>\n",
              "    </tr>\n",
              "    <tr>\n",
              "      <th>1</th>\n",
              "      <td>OK... so... I really like Kris Kristofferson a...</td>\n",
              "      <td>0</td>\n",
              "    </tr>\n",
              "    <tr>\n",
              "      <th>2</th>\n",
              "      <td>***SPOILER*** Do not read this, if you think a...</td>\n",
              "      <td>0</td>\n",
              "    </tr>\n",
              "  </tbody>\n",
              "</table>\n",
              "</div>"
            ],
            "text/plain": [
              "                                              review  sentiment\n",
              "0  In 1974, the teenager Martha Moxley (Maggie Gr...          1\n",
              "1  OK... so... I really like Kris Kristofferson a...          0\n",
              "2  ***SPOILER*** Do not read this, if you think a...          0"
            ]
          },
          "metadata": {
            "tags": []
          },
          "execution_count": 7
        }
      ]
    },
    {
      "cell_type": "markdown",
      "metadata": {
        "id": "5QFMaMrtykFQ",
        "colab_type": "text"
      },
      "source": [
        "**Bag-of-words**\n",
        "\n",
        "The bag-of-words model allows us to represent text\n",
        "as numerical feature vectors. The idea behind bag-of-words is quite simple and can\n",
        "be summarized as follows:\n",
        "1. We create a vocabulary of unique tokens—for example for each word—from the\n",
        "entire set of documents.\n",
        "2. We construct a feature vector from each document that contains the counts\n",
        "of how often each word occurs in the particular document."
      ]
    },
    {
      "cell_type": "code",
      "metadata": {
        "id": "KXrEHEhszHQE",
        "colab_type": "code",
        "colab": {}
      },
      "source": [
        "#Vectorize\n",
        "import numpy as np\n",
        "from sklearn.feature_extraction.text import CountVectorizer\n",
        "\n",
        "count = CountVectorizer()\n",
        "docs = np.array([\n",
        "        'The sun is shining',\n",
        "        'The weather is sweet',\n",
        "        'The sun is shining, the weather is sweet, and one and one is two'])\n",
        "#By calling the fit_transform method on CountVectorizer, we just constructed the vocabulary \n",
        "# of the bag-of-words model and transformed the following three sentences into sparse feature vectors\n",
        "bag = count.fit_transform(docs) "
      ],
      "execution_count": 0,
      "outputs": []
    },
    {
      "cell_type": "code",
      "metadata": {
        "id": "tjzqxbQBzWan",
        "colab_type": "code",
        "colab": {
          "base_uri": "https://localhost:8080/",
          "height": 34
        },
        "outputId": "2deb634e-4a21-42ae-9b72-2224cad1771c"
      },
      "source": [
        "print(count.vocabulary_)"
      ],
      "execution_count": 9,
      "outputs": [
        {
          "output_type": "stream",
          "text": [
            "{'the': 6, 'sun': 4, 'is': 1, 'shining': 3, 'weather': 8, 'sweet': 5, 'and': 0, 'one': 2, 'two': 7}\n"
          ],
          "name": "stdout"
        }
      ]
    },
    {
      "cell_type": "code",
      "metadata": {
        "id": "UukSMSdt0s8k",
        "colab_type": "code",
        "colab": {
          "base_uri": "https://localhost:8080/",
          "height": 69
        },
        "outputId": "c6d25a5c-c4a5-4ddb-e4c6-a768087a0277"
      },
      "source": [
        "print(bag.toarray())"
      ],
      "execution_count": 10,
      "outputs": [
        {
          "output_type": "stream",
          "text": [
            "[[0 1 0 1 1 0 1 0 0]\n",
            " [0 1 0 0 0 1 1 0 1]\n",
            " [2 3 2 1 1 1 2 1 1]]\n"
          ],
          "name": "stdout"
        }
      ]
    },
    {
      "cell_type": "code",
      "metadata": {
        "id": "-aE3UPyS2NiA",
        "colab_type": "code",
        "colab": {}
      },
      "source": [
        "#remove all of the HTML markup\n",
        "\n",
        "import re\n",
        "def preprocessor(text):\n",
        "    text = re.sub('<[^>]*>', '', text)\n",
        "    emoticons = re.findall('(?::|;|=)(?:-)?(?:\\)|\\(|D|P)',\n",
        "                           text)\n",
        "    text = (re.sub('[\\W]+', ' ', text.lower()) +\n",
        "            ' '.join(emoticons).replace('-', ''))\n",
        "    return text\n",
        "\n",
        "df['review'] = df['review'].apply(preprocessor)"
      ],
      "execution_count": 0,
      "outputs": []
    },
    {
      "cell_type": "code",
      "metadata": {
        "id": "ZFWeYgT16IH_",
        "colab_type": "code",
        "colab": {}
      },
      "source": [
        "#Word stemming: Find the root words\n",
        "\n",
        "from nltk.stem.porter import PorterStemmer\n",
        "porter = PorterStemmer()\n",
        "\n",
        "def tokenizer(text):\n",
        "    return text.split()\n",
        "\n",
        "def tokenizer_porter(text):\n",
        "    return [porter.stem(word) for word in text.split()]"
      ],
      "execution_count": 0,
      "outputs": []
    },
    {
      "cell_type": "code",
      "metadata": {
        "id": "7B446trn6Ly5",
        "colab_type": "code",
        "colab": {
          "base_uri": "https://localhost:8080/",
          "height": 52
        },
        "outputId": "5cc06474-244f-4586-d612-9887a97b7481"
      },
      "source": [
        "print(tokenizer('runners like running and thus they run'))\n",
        "print(tokenizer_porter('runners like running and thus they run'))"
      ],
      "execution_count": 13,
      "outputs": [
        {
          "output_type": "stream",
          "text": [
            "['runners', 'like', 'running', 'and', 'thus', 'they', 'run']\n",
            "['runner', 'like', 'run', 'and', 'thu', 'they', 'run']\n"
          ],
          "name": "stdout"
        }
      ]
    },
    {
      "cell_type": "code",
      "metadata": {
        "id": "jW7sMb1O6zcK",
        "colab_type": "code",
        "colab": {
          "base_uri": "https://localhost:8080/",
          "height": 69
        },
        "outputId": "276bb2e1-42fa-4432-e13d-c45887aaeda7"
      },
      "source": [
        "#stop-word removal\n",
        "import nltk\n",
        "nltk.download('stopwords')\n",
        "from nltk.corpus import stopwords\n",
        "\n",
        "stop = stopwords.words('english')\n",
        "[w for w in tokenizer_porter('a runner likes running and runs a lot') if w not in stop]"
      ],
      "execution_count": 14,
      "outputs": [
        {
          "output_type": "stream",
          "text": [
            "[nltk_data] Downloading package stopwords to /root/nltk_data...\n",
            "[nltk_data]   Unzipping corpora/stopwords.zip.\n"
          ],
          "name": "stdout"
        },
        {
          "output_type": "execute_result",
          "data": {
            "text/plain": [
              "['runner', 'like', 'run', 'run', 'lot']"
            ]
          },
          "metadata": {
            "tags": []
          },
          "execution_count": 14
        }
      ]
    },
    {
      "cell_type": "code",
      "metadata": {
        "id": "RuJSG2fA71-4",
        "colab_type": "code",
        "colab": {}
      },
      "source": [
        "# Here in class we are only using the first 2.5K for training and the last 2.5K for testing\n",
        "# Please run at your own to divide the DataFrame of cleaned text documents into 25,000 documents for training\n",
        "# and 25,000 documents for testing\n",
        "\n",
        "X_train = df.loc[:2500, 'review'].values\n",
        "y_train = df.loc[:2500, 'sentiment'].values\n",
        "X_test = df.loc[47500 :, 'review'].values\n",
        "y_test = df.loc[47500 :, 'sentiment'].values\n"
      ],
      "execution_count": 0,
      "outputs": []
    },
    {
      "cell_type": "code",
      "metadata": {
        "id": "-_p75tD78JVG",
        "colab_type": "code",
        "colab": {
          "base_uri": "https://localhost:8080/",
          "height": 639
        },
        "outputId": "c9844050-dc03-4143-f7ed-100eb2240f65"
      },
      "source": [
        "# Use a GridSearchCV object to find the optimal set of parameters for our\n",
        "# logistic regression model using 5-fold stratified cross-validation\n",
        "\n",
        "from sklearn.pipeline import Pipeline\n",
        "from sklearn.linear_model import LogisticRegression\n",
        "from sklearn.feature_extraction.text import TfidfVectorizer\n",
        "from sklearn.model_selection import GridSearchCV\n",
        "\n",
        "#TFIDF, short for term frequency–inverse document frequency. Down weight the term frequency by relevance.\n",
        "tfidf = TfidfVectorizer(strip_accents=None,   \n",
        "                        lowercase=False,\n",
        "                        preprocessor=None)\n",
        "\n",
        "param_grid = [{'vect__ngram_range': [(1, 1)],\n",
        "               'vect__stop_words': [stop, None],\n",
        "               'vect__tokenizer': [tokenizer],\n",
        "               'clf__penalty': ['l1', 'l2'],\n",
        "               'clf__C': [1.0, 10.0]},\n",
        "              ]\n",
        "\n",
        "lr_tfidf = Pipeline([('vect', tfidf),\n",
        "                     ('clf', LogisticRegression(random_state=0, solver='liblinear'))])\n",
        "\n",
        "gs_lr_tfidf = GridSearchCV(lr_tfidf, param_grid,\n",
        "                           scoring='accuracy',\n",
        "                           cv=5,\n",
        "                           verbose=2,\n",
        "                           n_jobs=-1)\n",
        "\n",
        "gs_lr_tfidf.fit(X_train, y_train)"
      ],
      "execution_count": 16,
      "outputs": [
        {
          "output_type": "stream",
          "text": [
            "Fitting 5 folds for each of 8 candidates, totalling 40 fits\n"
          ],
          "name": "stdout"
        },
        {
          "output_type": "stream",
          "text": [
            "[Parallel(n_jobs=-1)]: Using backend LokyBackend with 2 concurrent workers.\n",
            "[Parallel(n_jobs=-1)]: Done  37 tasks      | elapsed:   15.1s\n",
            "[Parallel(n_jobs=-1)]: Done  40 out of  40 | elapsed:   16.0s finished\n"
          ],
          "name": "stderr"
        },
        {
          "output_type": "execute_result",
          "data": {
            "text/plain": [
              "GridSearchCV(cv=5, error_score=nan,\n",
              "             estimator=Pipeline(memory=None,\n",
              "                                steps=[('vect',\n",
              "                                        TfidfVectorizer(analyzer='word',\n",
              "                                                        binary=False,\n",
              "                                                        decode_error='strict',\n",
              "                                                        dtype=<class 'numpy.float64'>,\n",
              "                                                        encoding='utf-8',\n",
              "                                                        input='content',\n",
              "                                                        lowercase=False,\n",
              "                                                        max_df=1.0,\n",
              "                                                        max_features=None,\n",
              "                                                        min_df=1,\n",
              "                                                        ngram_range=(1, 1),\n",
              "                                                        norm='l2',\n",
              "                                                        preprocessor=None,\n",
              "                                                        smooth_idf=True,\n",
              "                                                        stop_words=None,\n",
              "                                                        strip_acc...\n",
              "                                                'our', 'ours', 'ourselves',\n",
              "                                                'you', \"you're\", \"you've\",\n",
              "                                                \"you'll\", \"you'd\", 'your',\n",
              "                                                'yours', 'yourself',\n",
              "                                                'yourselves', 'he', 'him',\n",
              "                                                'his', 'himself', 'she',\n",
              "                                                \"she's\", 'her', 'hers',\n",
              "                                                'herself', 'it', \"it's\", 'its',\n",
              "                                                'itself', ...],\n",
              "                                               None],\n",
              "                          'vect__tokenizer': [<function tokenizer at 0x7f4b48522950>]}],\n",
              "             pre_dispatch='2*n_jobs', refit=True, return_train_score=False,\n",
              "             scoring='accuracy', verbose=2)"
            ]
          },
          "metadata": {
            "tags": []
          },
          "execution_count": 16
        }
      ]
    },
    {
      "cell_type": "code",
      "metadata": {
        "id": "wJW8e-pXBXLs",
        "colab_type": "code",
        "colab": {
          "base_uri": "https://localhost:8080/",
          "height": 72
        },
        "outputId": "9e374daa-a87b-479a-8a46-0b39e1bfaa9c"
      },
      "source": [
        "#Print out the best parameter combination and the best cross validation scores\n",
        "print('Best parameter set: %s ' % gs_lr_tfidf.best_params_)\n",
        "print('CV Accuracy: %.3f' % gs_lr_tfidf.best_score_)"
      ],
      "execution_count": 17,
      "outputs": [
        {
          "output_type": "stream",
          "text": [
            "Best parameter set: {'clf__C': 10.0, 'clf__penalty': 'l2', 'vect__ngram_range': (1, 1), 'vect__stop_words': ['i', 'me', 'my', 'myself', 'we', 'our', 'ours', 'ourselves', 'you', \"you're\", \"you've\", \"you'll\", \"you'd\", 'your', 'yours', 'yourself', 'yourselves', 'he', 'him', 'his', 'himself', 'she', \"she's\", 'her', 'hers', 'herself', 'it', \"it's\", 'its', 'itself', 'they', 'them', 'their', 'theirs', 'themselves', 'what', 'which', 'who', 'whom', 'this', 'that', \"that'll\", 'these', 'those', 'am', 'is', 'are', 'was', 'were', 'be', 'been', 'being', 'have', 'has', 'had', 'having', 'do', 'does', 'did', 'doing', 'a', 'an', 'the', 'and', 'but', 'if', 'or', 'because', 'as', 'until', 'while', 'of', 'at', 'by', 'for', 'with', 'about', 'against', 'between', 'into', 'through', 'during', 'before', 'after', 'above', 'below', 'to', 'from', 'up', 'down', 'in', 'out', 'on', 'off', 'over', 'under', 'again', 'further', 'then', 'once', 'here', 'there', 'when', 'where', 'why', 'how', 'all', 'any', 'both', 'each', 'few', 'more', 'most', 'other', 'some', 'such', 'no', 'nor', 'not', 'only', 'own', 'same', 'so', 'than', 'too', 'very', 's', 't', 'can', 'will', 'just', 'don', \"don't\", 'should', \"should've\", 'now', 'd', 'll', 'm', 'o', 're', 've', 'y', 'ain', 'aren', \"aren't\", 'couldn', \"couldn't\", 'didn', \"didn't\", 'doesn', \"doesn't\", 'hadn', \"hadn't\", 'hasn', \"hasn't\", 'haven', \"haven't\", 'isn', \"isn't\", 'ma', 'mightn', \"mightn't\", 'mustn', \"mustn't\", 'needn', \"needn't\", 'shan', \"shan't\", 'shouldn', \"shouldn't\", 'wasn', \"wasn't\", 'weren', \"weren't\", 'won', \"won't\", 'wouldn', \"wouldn't\"], 'vect__tokenizer': <function tokenizer at 0x7f4b48522950>} \n",
            "CV Accuracy: 0.858\n"
          ],
          "name": "stdout"
        }
      ]
    },
    {
      "cell_type": "code",
      "metadata": {
        "id": "PLWSST-aBaca",
        "colab_type": "code",
        "colab": {
          "base_uri": "https://localhost:8080/",
          "height": 34
        },
        "outputId": "8cba57ee-289b-4fcc-c08a-33e2ff1ae9fa"
      },
      "source": [
        "#Use the best estimators: We achieved about 90% accuracy\n",
        "clf = gs_lr_tfidf.best_estimator_\n",
        "print('Test Accuracy: %.3f' % clf.score(X_test, y_test))"
      ],
      "execution_count": 18,
      "outputs": [
        {
          "output_type": "stream",
          "text": [
            "Test Accuracy: 0.857\n"
          ],
          "name": "stdout"
        }
      ]
    },
    {
      "cell_type": "markdown",
      "metadata": {
        "id": "hP2JSJjrP4Th",
        "colab_type": "text"
      },
      "source": [
        "**LDA: Topic modeling with Latent Dirichlet Allocation**\n",
        "\n",
        "Topic modeling describes the broad task of assigning topics to documents. Documents consists of words. Words have associated probability over given number of topic. Key input is number of topics. Unsurprised learning method.\n",
        "\n",
        "Word -> Latent (Topics) -> Document \n",
        "\n",
        "The input to an LDA is the bag-of-words model that we discussed earlier\n",
        "in this chapter. Given a bag-of-words matrix as input, LDA decomposes it into two\n",
        "new matrices:\n",
        "\n",
        "• A document-to-topic matrix\n",
        "\n",
        "• A word-to-topic matrix"
      ]
    },
    {
      "cell_type": "code",
      "metadata": {
        "id": "-HRI-wT-Ql0L",
        "colab_type": "code",
        "colab": {
          "base_uri": "https://localhost:8080/",
          "height": 138
        },
        "outputId": "2b3ebf62-5788-44ff-fbf4-d0e9ff9f9131"
      },
      "source": [
        "#Load dataset\n",
        "import pandas as pd\n",
        "\n",
        "df = pd.read_csv('movie_data.csv', encoding='utf-8')\n",
        "df = df[:5000] #Please take out this constrant and run the whole database at home. It will take around 10 mints to run the model\n",
        "df.head(3)"
      ],
      "execution_count": 19,
      "outputs": [
        {
          "output_type": "execute_result",
          "data": {
            "text/html": [
              "<div>\n",
              "<style scoped>\n",
              "    .dataframe tbody tr th:only-of-type {\n",
              "        vertical-align: middle;\n",
              "    }\n",
              "\n",
              "    .dataframe tbody tr th {\n",
              "        vertical-align: top;\n",
              "    }\n",
              "\n",
              "    .dataframe thead th {\n",
              "        text-align: right;\n",
              "    }\n",
              "</style>\n",
              "<table border=\"1\" class=\"dataframe\">\n",
              "  <thead>\n",
              "    <tr style=\"text-align: right;\">\n",
              "      <th></th>\n",
              "      <th>review</th>\n",
              "      <th>sentiment</th>\n",
              "    </tr>\n",
              "  </thead>\n",
              "  <tbody>\n",
              "    <tr>\n",
              "      <th>0</th>\n",
              "      <td>In 1974, the teenager Martha Moxley (Maggie Gr...</td>\n",
              "      <td>1</td>\n",
              "    </tr>\n",
              "    <tr>\n",
              "      <th>1</th>\n",
              "      <td>OK... so... I really like Kris Kristofferson a...</td>\n",
              "      <td>0</td>\n",
              "    </tr>\n",
              "    <tr>\n",
              "      <th>2</th>\n",
              "      <td>***SPOILER*** Do not read this, if you think a...</td>\n",
              "      <td>0</td>\n",
              "    </tr>\n",
              "  </tbody>\n",
              "</table>\n",
              "</div>"
            ],
            "text/plain": [
              "                                              review  sentiment\n",
              "0  In 1974, the teenager Martha Moxley (Maggie Gr...          1\n",
              "1  OK... so... I really like Kris Kristofferson a...          0\n",
              "2  ***SPOILER*** Do not read this, if you think a...          0"
            ]
          },
          "metadata": {
            "tags": []
          },
          "execution_count": 19
        }
      ]
    },
    {
      "cell_type": "code",
      "metadata": {
        "id": "tXh2wRTqQ_T7",
        "colab_type": "code",
        "colab": {}
      },
      "source": [
        "# use the CountVectorizer to create the bag-ofwords\n",
        "# matrix as input to the LDA\n",
        "from sklearn.feature_extraction.text import CountVectorizer\n",
        "\n",
        "count = CountVectorizer(stop_words='english',\n",
        "                        max_df=.1,   #we set the maximum document frequency of words to be considered to 10 percent (max_df=.1)\n",
        "                                     # to exclude words that occur too frequently across documents.                        \n",
        "                        max_features=5000)  #we limited the number of words to be considered \n",
        "                                            #to the most frequently occurring 5,000 words\n",
        "X = count.fit_transform(df['review'].values)"
      ],
      "execution_count": 0,
      "outputs": []
    },
    {
      "cell_type": "code",
      "metadata": {
        "id": "9QXtjM18R4s5",
        "colab_type": "code",
        "colab": {}
      },
      "source": [
        "# Fit a LatentDirichletAllocation\n",
        "# estimator to the bag-of-words matrix and infer the 10 different topics from the\n",
        "# documents(take 10 mints to run the whole dataset)\n",
        "\n",
        "from sklearn.decomposition import LatentDirichletAllocation\n",
        "\n",
        "lda = LatentDirichletAllocation(n_components=10,\n",
        "                                random_state=123)\n",
        "\n",
        "X_topics = lda.fit_transform(X)"
      ],
      "execution_count": 0,
      "outputs": []
    },
    {
      "cell_type": "code",
      "metadata": {
        "id": "cWMGitJGSp5v",
        "colab_type": "code",
        "colab": {
          "base_uri": "https://localhost:8080/",
          "height": 363
        },
        "outputId": "d0df27f9-53ca-4d6d-c28e-e7d9a0ae903c"
      },
      "source": [
        "# To analyze the results, let's print the five most important words for each of the\n",
        "# 10 topics. Note that the word importance values are ranked in increasing order.\n",
        "# Thus, to print the top five words, we need to sort the topic array in reverse order\n",
        "\n",
        "n_top_words = 5\n",
        "feature_names = count.get_feature_names()\n",
        "\n",
        "for topic_idx, topic in enumerate(lda.components_):\n",
        "    print(\"Topic %d:\" % (topic_idx + 1))\n",
        "    print(\" \".join([feature_names[i]\n",
        "                    for i in topic.argsort()\\\n",
        "                        [:-n_top_words - 1:-1]]))"
      ],
      "execution_count": 22,
      "outputs": [
        {
          "output_type": "stream",
          "text": [
            "Topic 1:\n",
            "book read horror series different\n",
            "Topic 2:\n",
            "guy tv horror music girls\n",
            "Topic 3:\n",
            "death family believe day mother\n",
            "Topic 4:\n",
            "worst horror minutes effects budget\n",
            "Topic 5:\n",
            "series episode kids episodes car\n",
            "Topic 6:\n",
            "comedy jokes game laugh humor\n",
            "Topic 7:\n",
            "girl role goes wife woman\n",
            "Topic 8:\n",
            "war woman american mr women\n",
            "Topic 9:\n",
            "role performance family performances wonderful\n",
            "Topic 10:\n",
            "action series shot set shows\n"
          ],
          "name": "stdout"
        }
      ]
    },
    {
      "cell_type": "code",
      "metadata": {
        "id": "7JvZ85mOVJrb",
        "colab_type": "code",
        "colab": {
          "base_uri": "https://localhost:8080/",
          "height": 193
        },
        "outputId": "9f35eada-a9b1-48cb-b79e-c66ad183d22e"
      },
      "source": [
        "horror = X_topics[:, 5].argsort()[::-1]\n",
        "\n",
        "for iter_idx, movie_idx in enumerate(horror[:3]):\n",
        "    print('\\nHorror #%d:' % (iter_idx + 1))\n",
        "    print(df['review'][movie_idx][:300], '...')"
      ],
      "execution_count": 25,
      "outputs": [
        {
          "output_type": "stream",
          "text": [
            "\n",
            "Horror #1:\n",
            "Stan Laurel and Oliver Hardy had extensive (separate) film careers before they were eventually teamed. For many of Ollie's pre-Stan films, he was billed on screen as Babe Hardy ... and throughout his adult life, Hardy was known to his friends as 'Babe'. While touring postwar Britain with Laurel in a ...\n",
            "\n",
            "Horror #2:\n",
            "I am listening to Istanbul, intent, my eyes closed: At first there is a gentle breeze And the leaves on the trees Softly sway; Out there, far away, The bells of water-carriers unceasingly ring; I am listening to Istanbul, intent, my eyes closed.<br /><br />I am listening to Istanbul, intent, my eyes ...\n",
            "\n",
            "Horror #3:\n",
            "Several years ago the Navy kept a studied distance away from the making of \"Men of Honor,\" a film based on the experiences of the service's first black master chief diver's struggle to overcome virulent racism. Ever eager to support films showing our Navy's best side the U.S.S. Nimitz and two helico ...\n"
          ],
          "name": "stdout"
        }
      ]
    },
    {
      "cell_type": "markdown",
      "metadata": {
        "id": "w9WE3D2GKG-d",
        "colab_type": "text"
      },
      "source": [
        "**Recurrent neural networks (RNNs)**\n",
        "\n",
        "Typical machine learning algorithms for supervised learning assume that the\n",
        "input is independent and identically distributed (IID) data, which means that\n",
        "the training examples are mutually independent and have the same underlying\n",
        "distribution. In this regard, based on the mutual independence assumption, the\n",
        "order in which the training examples are given to the model is irrelevant.\n",
        "\n",
        "What makes sequences unique, compared to other types of data, is that elements\n",
        "in a sequence appear in a certain order and are not independent of each other. For example: predicting stock prices"
      ]
    },
    {
      "cell_type": "markdown",
      "metadata": {
        "id": "FvrOS0draOyY",
        "colab_type": "text"
      },
      "source": [
        "![image.png](data:image/png;base64,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)"
      ]
    },
    {
      "cell_type": "markdown",
      "metadata": {
        "id": "1-5cwk2ua6cY",
        "colab_type": "text"
      },
      "source": [
        "![image.png](data:image/png;base64,iVBORw0KGgoAAAANSUhEUgAAAqoAAAELCAYAAAARLaS8AAAgAElEQVR4AeydB5wURfr3n9nZnJecg4iAIIgiKkFARcGccz69O1//5pzOdHp6Z7wz53TmdGf2DCAqAqIiikiUnBc2786GeT/fZ7aG3mE2z+zM7NQDsx2qu7r6qa6qXz2pXF6v1yuWLAcsBywHLAcsBywHLAcsBywHoowDCVFWHlscywHLAcsBywHLAcsBywHLAcsB5YAFqvZDsBywHLAcsBywHLAcsBywHIhKDligGpXVYgtlOWA5YDlgOWA5YDlgOWA5YIGq/QYsBywHLAcsBywHLAcsBywHopIDFqhGZbXYQlkOWA5YDlgOWA5YDlgOWA5YoGq/AcsBywHLAcsBywHLAcsBy4Go5IAFqlFZLbZQlgOWA5YDlgOWA5YDlgOWAxao2m/AcsBywHLAcsBywHLAcsByICo5YIFqVFaLLZTlgOWA5YDlgOWA5YDlgOWABar2G7AcsBywHLAcsBywHLAcsByISg5YoBqV1WILZTlgOWA5YDlgOWA5YDlgOWCBqv0GLAcsBywHLAcsBywHLAcsB6KSAxaoRmW12EJZDlgOWA5YDlgOWA5YDlgOWKBqvwHLAcsBywHLAcsBywHLAcuBqOSABapRWS22UJYDlgOWA5YDlgOWA5YDlgMWqNpvwHLAcsBywHLAcsBywHLAciAqOZAYlaWyhbIcsBywHLAcsBywHLAcaAEHqqqqxOv16q8Ft0fNLS6XS9xutyQkxLdMMWxAtaysTObMmSOfffaZ/LrgV9m6dauIyxU1H0BzC8JHn5SUJMN3202mTJ0i++67r6SmpjY3G3u95YDlgOWA5UCUcgCAs2bNGiktLZXq6moBKMQiMV5R9uzsbOndu3csvkKzy+zxeKSgoEDAHtVV1VLjrWk3QDUlJUXrMiMjo9l8aQ83uLx80SGmbdu2ybPPPivPP/e8/PbbIiktKwnxEyKXXXJiiuw6bIicc845cvrpp0tubm7kCmOfbDlgOWA5YDkQEg4sW7ZMBSvffDNTNm7YIACfmBWu1ALVvv36ygEHHCCTJk2Srl27hoRP0ZhJZWWlCsOKi4ulpqZGEhMTJcHtitmJBjwGmQHPAN3eGq+kpKYo3sjMzIzGKghrmUIOVB9//HG56sqrpKCwQLr17SJ7jt9Ndtq1r+R1zJWUtGQJOSoOK3t8mTOnrqqqlqJtxbJk/nL59rO5sn7lJsnJyZW///0u+eMf/9gGpbCPsBywHIhGDiB5q6ioUEmOUTlGYzmbU6bk5GRJS0tTrVGsShWb+r4//PCD3HDDDfLBBx/oLelZqZKZkyHJqclNzSKqrmO8AuRUeipl25YCqSitlKTEZDn5lJPklltukX79+kVVeVtbmKKiItm0aZNmk5GZLqkZqeJ2J6i6PEYF4vouYCUAKsDbU+6R4qIyqfR4BKlqly5d1CSgtbyLlftDBlRB/hdccIE88sgj0mtAdznv+tNkt72HSEKCS6oqq6SmRqcHscKXHcvp8s3OkpITFbT+NHOBPPuPV2Xl4jVyyimnyNNPPy2I5y1ZDlgOxAcHAKVojxgoAavuRLe4sSXTviI2eaCChBqvVFfX6DslJSZJdk62SnLaI2C999575fLLLxeXW+SIM6bIxMP3lU7dO0p6VpokpyTFZiVSaq9XKj1VUlxYImuXb5APX/lMpr/7rVCfD/zzATn//PNj990cJS8sLFSQmpScJLkds1WSGgYlseOJkdml7fFepcVlUritSJKTkqVb925qjhiZErXtU0MGVBcsWCD7jd9PthZulfP/coZMPmGCVHmqhc4cMWq7+HhcjEEuSUxK1Bnb9Hdnyr9ueFrcLre89dZbcuihh7Zt7dmnWQ5YDkSEA/Rn+fn5ahNHARgoU1KTJTGp1vEhZkU5XqmprpGqymqpKKsQT0WlAvAOHTqojVxEmB2mhy5atEimTp0qqPynnDRJjvvTYdKlZycFeDXVPnVrmB7dBtm6xJUgvsmT2y0rF62Wlx56W2Z+PFcGDx4s//3vf2XgwIFtUI7wPQJJ4/r161WTkdMhW9Iz0toHzqiHZWAP3rkgv1DKSsulY8eOkpeXV8/V7et0SIAqtjxjxoyRuXPnyvWPXCx7TRopZSVlClDbF7vqvk16Zpos/HGJ3Pan+6TaUyOzZs2S3Xbbre5F9shywHKgXXGAyTcDZEV5hdAHZGRnSGKi2/+OsT4pd0pOPRUeKSoo0XfFMadz584xbfdnKmnjxo0yduxYWbJkiVx2959VklpWUq5AwFzTnraowpPTkuXTN2bIgzc8LX1695GZ386UHj16xOxr4qC9ZcsWyc7NkszsjHYNUgMrCZOO8tIKlarGg4NVSGIevPjiiwpSjzxniowGpBa3f5DKh4MYftCIAXLxnefqrO7qq68O/J7sseWA5UA74gAgdd26dQKAy+2UI0hy3IkJOkgCUGMdpFJV5j3YJqckS8cuuZKVkymoWQHosf6OlP/6669XkHrONSfLhMP3lZKi0nYLUqlTTDnKisvl4BMmyv+75UxZuWqlMF7Fal1iaoOHP3bE6VnpMfseLekamUgCzjE1QquDlLW9U0iA6s8//6x8GjJyYFx9MLy0p7xSdh7aXzJz02XBgl/VXq29fzT2/SwH4pUDhL4BpCKdSk2rtUmPRQ/RJlagAhmXS9LSUyUpKVEn5DiOxTKVlJTIl19+KSlpSTJ8n13VhyKW36c5ZefbxXckq0OmfPP1NwIvYpHw8gegJeHdnxCbIcRaynfaZEJigiSlJKnDnJpXtjSzGLmv1UCVD+bDDz6U3M7ZKl3EOy2eqKamWrLzsmTfyXvKihUrZN68efH0+vZdLQfihgMMCEgwsEPN6ZCl7x2rEqnmVBqex9jlI0FGmrN58+aYluLMmDFDsE894Jj9pP+Q3upR3Rx+xPK12Bz37N9dJhyyjyxbvkzgRSwSE0baXgqTxXY8UayvblzikrS0FPGKN2YnG/W9W7DzrQaq5eXlsnz579KxawfJ7ZStKoZgD2rLc3SmTjurwGdrWogmYYQBwf6na88uKM3UZibwefbYcsByIPY5gPSJkD+ELmK1mHgiQAELnmALSJ9PvMpYpQ8//EiLjplalacqVl+jxeWurKySYXsP1vu/+uqrFucTyRuNFBGzmzahEOGFBsvajGfQHhOTExXnaLzfBjOO/cRW1zIMQ6qalZPRIDhsK1YluBM0QC4eq2amxfJj2HNAhMnCYy7BlRCy8rrcLknPTNf8GwLIbcUD+xzLAcuB0HMAoEp4Ouw26ffikYiFTV8aqypj6uz35cu16rr26hQVghXGJ8at+oi0htLru6++896aGunYxectjlNZrJJPIFU/30LxXjwDUOzUFPue27rcCeLPz0k8g3NNxRC6rGozwK3zWbG2H5JahrHRsBYtZSBmK2GjFv20TDtU7FeSUhL1vCvBpRKRaf+dKYvmLdVBJ2QVFhJOhqw0NiPLAcuBEHIAYIpNnA5S2MTFIU6FBwqqEnzCgFgF674Vp0QlUiH8RFqcVUp6ioY2c2bgB6ZekZSUWnvoEIES5liEU4NitQ6dvArnPqp1nKaJCKFE01fhXFWLecf9JUUltQ58vqVuyRsBWklxKQ8I5yvFZN4hg1fR8MEz2//w5c/l8b++KKg3UlKTZNuWQnns1hfknac/krSMVA0nM3/mArntz/fLupUbQwdW7bcVkw3AFtpyoKkcwNNYpVsEqGwj8klvWodQguUR7FxTXomJP79Y9zQmwL8KVyIICqgD6O5LH5F7r3xMg9Wz9Cf2wGt/36BACCHLwzc9K3dd/JB4q7eDmqbUVUPXJKX6gKopQ0PXxmsavCkvKVegSnQBvpeaqhrJ37RVCvKLgk5Wia6AsCwYHiI/gG/B1iIpLSlXoZkvE1+9Eoe5tKhMSkvLmyxVjZe6abseN8wcxcFh1dK18saj78kuw3eSURNGqFfca4+8Kx+/Ok2qKis1IDCeq0ecfbB67r7y0H/iztYszNVgs7ccaNccaMuBnWcVFZZIwdZC/8DHOQLyN4eKi0p1NRvn4FlUUKznmpOPXtuI/X+z84vjG1LTkuWT16bLVx/OkpHjdpPUjBRZu2K93HjWXXLflY+qRhAzi5Hjhsk3H8+Rd1/43/ZIE63lmxWsNMpBJmO0HWIkE+GDY8wcPRVVIi7RduhsU5yjXW1at0VXrwzsK0pLSmXLunypKK0QV8Bkl3xY2RJP/pLC9h0qrVHGB7mgHQHVRFn+60opL6uQAUP7qaR0y4atsnVzgb52wZYiXe6U9F79u6tTwKJ5y3S2FPhBBeGTPWU5YDlgOdBmHKBPQoLLwinG5ICH48xVWlqma4AzMDZEvjxqNA9s9hkMEeJxHjtF1Jk8w/Z/DXExPGmYoXk8lTLvm18UkPbdpZeq41cuWSMLf1iidYKEjYgLvQf00HihP379s8+/gmV6LYWVA7SJqqpqBaNIuJGmYj9KkH3aEJNF1PSBNqW+trRjw8Q3prS4XPMEjO54hfi0NfjYVLOip22XzgpuF188HweGyNimQqMmDFeHh3/f/6Z8/+VPeu6zt7+SCw+/XrZtLpDOPTrK8H2HyMY1m+T7r+YLJgOWLAcsBywHookDJUVlOiDiqMlAiVMHk++KUk+j4JI+kZWztm7aJtWV2502jCCNFbWg4oISv7Q2mt69vZcFzd6CuYt1/GG8GrBrX1kyf7nM/Pg7X70UlsrbT38oq5atkz4De8no/XeXX79fLD/NXBA1trXtvY6IOYsqH7U/7am6ploqyn1tjwkEQi8AKxNJ1P2q8q/x6tK1AFjfuWp/+8JLP69LruTkZfnPBfLQOGqqM3gwNBt4Q5wctw+gmuDSZf5+nr1QV1Dp2ruLznwOO+MgDW5MXe594B5y/SOXaGgZJAuDRuysVbzw+yVSE0Lbnzj5buxrWg5YDoSJAwyK2NhjH4fTC840DHrq0KF+XF6/NCeYaIb+beuWAsnftM0nRXW76vhnkJ6YlKQDMGAWyR7PtNR2HEBK99UHs/SBw0YPkeTUJJWkzvx0rp5jQvLivW/I6qVrNW7vbqOH6Pkv3/9WwyG2XUnj80m0kUpPlUpPUf1zjGo+t2O2Srmpv07dOmgcV1X3r98im9fn6+SQSWXBlkLZtH6LbFq/WcEuISxz87IlLS21TlsM5C4mjJABvYHp8XqcGO0vTgeK8T6qEggROrMZPhxDfBib123V2U7H7h0kKzdDpQ99BvaUzt076GXde3eRkWOGqiEzJzr16Kjn16/a6Pu4CA+yPUuTtd1aDlgOWA60OQfQEFVVV0t6dpqCSFSBeB/THyLFKSooUZUxA6azL9SC0o95vZKdmylJKcl+86fAl0C1DBhGegMYttQ2HGA8Y9KxbMFKfSBqf6TnE48co97gz/z9VeHcTU9cLskpSVrvfXbuqdcuX7hKpeBMYJDkWWoeB3zzMexf9L9vyPfuGP2ANkU784Wx3C7Pc07ozH5Kaoq4E9yaIRM/AC4aC1aP4gHU9w5ttJ5iJ2gBfddzj3lGPZfHzemoBqpUMA3SnVQbXkpEUlIT1U6Lj8FUPnWLBAICtPKDfGJ5H/pU8bwjbhkzHHON7tg/lgOWA5YDUcEBr9qpURR3bV9Gf4VDB+pGIg+kp6WIBjv3+mxOtxfbK16XaFzn5OREqa6pf/bt7ANNX7o9H7vXUg4gVOGfSrs1rFndOgB8AFRRI0NEo0H4wpbFJKCkJLd06JqnkwiTxnnU0dhJoo4Wi1OVV039Y0AqannwALUCMExIdOs2sA3goa91WJ+yoRbgMplIJtyXS2pjrlaqpJWYy5pFnC3x2tT6aM51UQtUme1vXLNZPSLnfjlfZ5F8CB0658reB+wh4w7ZWzKy0oQl4aDE2hUqcBIINtPkI/THpkPgUNuBu2tF7c1hmr3WcsBywHIgXBxAWVRVWe0bRN0JOiFHcpqRla4gBfCanZslLDSCipBJuyH6OAZNQvMxcnqrt6eZa8yWCT2gCmkt/aOV3hjOtGxLHQFO8jdulaJtPtvf1PRU1erBWwNM0ScDOHGMgwA6IBoAlKlLNIdIuhG2uBLdYsYpjtXRpmVFjNu7fPyvkOJCnwOUAlUwgStBJZ+p6Snavjg2bYF2VlVT5ccKgcwz7UW3gFmNseqThtKuaF+B4Dcwj8Dj7YrihlfXDLyvvR9HJVAFpBIP9fl7X5eKMt+s01TEqiVrZd7MBfLG4+/LBbedJSPHDlNpKg5SJrQDscjMSlHmPkDv2hUbJC09RU9hAwR169VZZz+VtYDXXG+3lgOWA5YDoeQAg9d2LY8PGJqlWJ0DGvs13hrEPXXAY+A1CZKg4IdY0UiGarCjS03WVYcY8HwSpPrfgAHWxWBaa0pF+VTMVP8tNiUYB1wE5U+Red/+Iu889aEs+3WlFG3zLTGLFLxrn85y8AmTZPKx47WOqEfqyQdQkZICWH1iO1PHaBORmmICQopxiAMIc6+5Llhx7Lm6HOA7Ly4s0Z9JUSDpSvC1x6oaDQkF1sjrmKPAFYk4E4+yUiYL250Ra6tJJxWFBUWSlp66faU6r0haerIKzQC5KpE1D2ziFo9/GiF2sZTRCNSaeHu7vWy78UWUvCIVhFEysU+dIDW3U7baXJliMmsFzPrCRbj0Y8nrlKMqFdQqWsler0pduWfx/OXy0j/fkm2bC3WmQ2xCKK9zrsZStQ3fcNZuLQcsB0LNAQZL1pWnvyotLlXJDjan2LTR95BuiH1VHZsTDWyR2gBe8CjWbe1S0Q3cUjdJES2nLEity5imHyUlJQm+Dm898YEKUQxIJQdMNVb8tlreefpDmT9roYJT6htJa0qaT2ii41Vt/TNxgCorq6V4W7EgQGEs4xqIezARYFJiqWkcYHJIPUC0K7QOAMz0jDT/ZEHbJw6M5RV+sw1i2OokwRG32GghyLOMcFO1JoemJHjta5SORnxezOTQ3Ge2BhTrku+2ig1bJKqAqumsn7v7dSGeHIRn3V8ev0wefO8OefCDv8mFd5zrX27uu2nz5PXH31OQmpGdLqMmjlAJA1JXAC/qswOP208GjRigM6clPy1XdQsdxc/fLtTBYdjeg3f42PzcsTuWA5YDlgOt5AD9zbb8QtmyIV8KWZWmqEydmEqKStXRifMMpKb/43HYn/rMmHYcrcAo5In6Eoldp64dVIrKltA3TSXADipmpLo+J46m3mmvMxxA6rZ53Ra55bx7ZP6sX/U0auQ9JwyXsVP20vGLk2j0bjv/Ppn9+Q9qmsE1Ow/rp9evWrJGPftR/XepdfJdsWi1/GnyVXo9jjkrl6zWa4kRbmxa9YT90yAHaFPEO2WSyD4OTpgPZudlaSz1Dp3zBOxAe9JrC0vVzhTNAhJvACNmGqTzo60g3MKWmJ8JJ2UKoc9owCbVl0eC5HbOkazcTH2mmXMggUW6DhgmZGZLJLKmHO1tG1Wqfz6K1cvWysz/+WLJUWF/uPYUXWUK6QN00PH7ScGWAnn+ntf1+OsPZ8uUEydJ116dZOIRY+TjV76Qrz+eI+MOHa0fZ8/+3eWOF69Tb0pmUXQsy35dIYt/XiZ7jN9Ndh7WX9Ur7a1i7ftYDlgORJ4DDEKEivKUVyoYZOlObEiRnCGNqSb+YlWNhrPxdshSSQ+lRkpX6vUFCDdvgWQNwRvxVDdvyNeBDqlQY8TgGIx4NtEBCIljNFDBrrPn6ucAUuzXH3tPNqzepBd179NVrnvoIuk/pI8CG1TO917xmMz54kdV4z5158syeI+BkpWTIeOmjlbN4S9zfpOppxygIGXoqEFy6d//qNenZaZK7wE9dTLxy3eLNP8xB41SG9X6S2RTnBxgMgfQVIVBjVcyctMVA/hV6i6c2dJU00G7oq0AFnUp28REYUIB9sCe2IBSYuCq85QG1wjetpxlCNynrYFFINM2Abg8g2czMeH5Ji3w/ng8jiqgil1O/sZtKv2kMvhIuvXp4peCco5Zp4bqQCbvFZVQlBSWSE1NB+nZr5teDxBFxcbsh+uhjKwMlUDwkTBbRdqKNBUwbMlywHLAciDUHGDw8Xg8OmE2IWpSU1PVHIklFBmYiguK/SH3MANIQx3scmmsTO43qkCkK4TAIdwUAy+qx3rw5w6vgapzu2HB9mSCmfMsBkVLzecA9YODFCsiGtp11C7Sb1AvBTeAoczsDNl38p4yZ9o8nRTkb9gmm9ZsVjO2rr06q1Ru3YoNUlpUqj4W1NPo/UdKv0G9NeIN5mwsyrBu5UZJzUiVHv26+cdH80y7rZ8DtBG0Bqj8vS6vhoqqY4eNLbcj/CU5ockwhJ0wmg8DVM351oLIYPd7aiMZAYgt1eVAVKE0Gr7TvgcVR3ZeZp0ZJB00jd84IQBIK1Q0L5KWmSbnXnuKFG4tlq8+mO0L4VELbk3nzkf30cufyy7Dd5KDT5jom23V5Yk9shywHLAcaDUHGIywLWTLLyU9RXI6ZKm0lNBQSEOz87L1OQyW9GUE34eS05I1RBF2+upYVTugAlwwh+rco5NKZYINeKbgpGEC1alznqDi1El5rQAI4AvIohzYPTaUj8nPbutyAEn02t83yKa1m/0JqPsBHAhIkOZh5rHH+OGSk5ep1yBFX/zTclX5dunRSY48e4os/22VzJ+9UJDUMXlgHOzWu4t07JonKenJ8usPi2XxT8vkqLMOVmFMoF2k/+F2JwgH1E5Gz8NX47TmvFDPOmZyZgJIm0hNTVG8QaQFbYfOG0O4z7OqKiv1WZjz2PZYl7lRNZWmD3V66+PxSEeP3RUAFaJDR/JgjrEjQU2GeIGOd9dRg+Rf7/5VGzv3O4mOg9nU//31D5LdIVPBrsnHeZ3dtxywHLAcaC0HkOQgiVFpjnglNSXFt187EtIfqQNUki82NM8jHjQSFcLkZGRnCB79hClKS0/zD15mkt7U8qnEyHGxkQRStqwc+sHmh9FxZBfHu74oDs5YterJb5BOLWcS3D4PfsMolWTXOlodesoBsuTn5TJ32jzZa9IIvQSQYoAKUlnMBkZNGCGHnj5ZnX1MPnbbOAf41jEprK6u1LizqmEFlNZO2EjH097UCTmqI1Nt1tQDbQQydVKbFPJNTu2kNdzPCXnB2yDDqAKqfER9d+mp8cyQfLL6ytcfzZZTLzpWakrKfGJ7Efnsra/8H03fQb2le58ufqkrnb8ucxZktQn4iRqsc48OqjZT4NoGTLaPsBywHIhHDtSV5gAYA4mB0uHw7w9Hw2CF6VN6RapOwFPTfDZtgfe35Ji88W5mRR3s4ezA2BIuolKuUY1falqyqu7JZf2qTbpsty/klM8pjslGYX6R/yF5XXJqTTe8Ggv3ugcv0jrAizzQRqOivFLOu/5UHbdI99tW+nOzOw1xQOMKYy5T7oueAK4gQkYqCyaIS+sQO2JjIogGwhc2bLvtaVu1j7Z6TkP8ita0qFL9q01PTob02qm7n1/MJpf/tlI9HVmlCsNz413JRTsN6SPpWWl+CSvnkGQ0VOmNpfsfbncsBywHLAdazAFWJ/KBU/qjYH2S7/z2BzjBLJLYjMx0v+PF9qtav4d6EW/nQGDU+pzjJwe0cXhuZ9ZK3HhzpKPYIyOlxtQCG0eWSjXAFQl6156dtkvwvL4QVroYwI7zGP18AFmYhQT7fuKH2y18U6+o1oIJIcTkAuco6gONQlkpSwh7VAOLlFVXwnS7m2z/3cJS2duayYGokqjyEdGBnnHF8fLXP9+vav8lP/8ulx17s/Tq311nPauWrvU32IG79ZdTLjzG3wk0893t5ZYDlgOWA2HjAICFKCMVVb4Yjp5yj064jdqR9IqKKvX+ZyAFiABkDHGMGlJXJdou4DHJrdoar2VTllZlFqc3Uz9IvQ88drw8fefLyoVPXpumHuEHnzhRl/7+8v1v5am/veQfs1hRsf/gvnV8IxozP7Oav5Z/YNQRmoOsvAz1XSEnTGn4KdGuatseiwFl5Wb566rlT7V3hpoDUSVR5eWY6QwZOVD++tzVsts+Q/R9CXq8fOFKja3Kh4donpBUf3n8ciGER2MNPdRMs/m1nAPLli2Tww8/XCZMmCD//ve/62RUWVkpZ555phx44IFyyCGHyPfff18n/eeff5ZDDz1U9ttvP3n5Zd/AUOeCFhycf/75MmnSJBk9erRceeWV/hxuvPFGmThxovzhD3/wr7tuEp977jlNI/2uu+4yp3XLoHLxxRfL+PHjdVte7gvUXeeiEB0sX75cjj76aH3WQw89VCdXePnHP/5RDjjgAP0F8nLp0qXKY+rhpZdeqnNvQwf5+flad9zH+7/wwgsNXR7XaYBP30p4vhWmkN7g6El/hfaovMwjBfm+hUc4xqkJe3v6uDoUcFgnzR5ElANIQqeeNEkOPHY/LQfauv8+/4lccOh1csEh18pDNz6j0lASWUXx3GtPluoGlrWN6Mu004fTntIz0qVj1w46UUS9j7SbiSJxVZOTE9VcMLdjjlGAtFNOxO5rbZ++R9E74Pnab3AfOf5Ph+ma1ksX/K4hOviwULPsPmZXOfS0yZKZne5fcSKKim+L0gAHiouL5b333tMrAJxO+vXXX+XVV1+VigrfbPfPf/6z7LHHHv5Lpk+fLh988IEeX3HFFf7zrdn57LPPZPHixepY16NHD39WM2fOFJ63cOFCBapOBxYANmlQx44d/fews2bNGgXRmzZtkl69eoU19E9ZWZl89NFHAhgeMsQ3qTOF4Z0AoCUlJXpq1apVdXj5+eefy4cffqhpF110kbmt0S0AGNDLM4k7OGbMmEbvidcLGCBRJSYmJtTa0OPZ74sCwEBZWeHRbwsVP/9ZGtNIVuOVZ7H23kwwEpISBAnq74tWyZL5y/2vYOweOcES34edPlnSs9L9wNV/od0JOwe0LSYlqv9LZXKltkfOqQ2rrupmQ0KFvRJa8YCoBKo0ftRkg0cOlBH7DtWGjcEznTg2QajHsCsxy6K14qX078MAACAASURBVP3trW3MgbS0NOEHyCLGpJOuu+46P0jlvFPltXnzZrn99tv18hNPPFGOOOII560t3ucZAOa33npL1+s2GeXl5ekugMxZDiS5//vf/8xlO8ThRcIKSM3OzpY77rgjrECVmJyZmZkKGllr3El//etf/SCV8wb8s49U9G9/+5tefthhh8kxxxzjvLXB/c6dOwug97vvvpPJkyfv8P4N3hyHidgq5nbK0XjPaIuQuJWVlPm8jjGbI+xUoktycrJ0WU0GT0uxxQHqlbind7xwrfz241L58eufZcXi1VLpqdKVpkaMGSq7jx2qtsbYmlqKDAdoWwgcEjPqwh5dAaoe5+vIlNQ+NZADdWssMDXCx8xIMXwGoKrhv9e3KouNIxfhimnF4wFWJsA4YNXQ22+/Le+//7451G1BQYH/+O6775Z169YpALz55pv950OxA8gLlIwCpiGNPVn7EKTBt956a51HGoklJ3/88Ud56qmnNB2Jb//+/etcG+oDyghYhYqKtnsVf/rpp/LKK6/oeSOho+yGHnnkEcFsADUz78M1TSX4kZubq7+m3hPP14E7+d5ZdhETJibglSxCwpKNLJWYkqQqf/hqQWrsfilmTBq0+wAZutcgXQIXSTmTXAArYxmA1lLkOWDbWeTroLkliGqgal5GPywraDDsiOktM1oDjMyWFzJSypycHB2wCwsL/ZJM1M3Tpk3T995ll11k4MCBDfJgy5Ytgg1mQ9S3b1/p2rWrXhKs40pO3lEVhGnCkiVL9J7u3bsrcHY+Y8aMGSrdBHRgwxlu4jmGh6jhDQFUeaeMjAz9bdy40S+95jzmDhDmAoMHDza3NWvrlDI368Y4vBieMxcgPir2cb64m761xU17CPYNxiGrYv6VAaS0DZendvLHykheX/zumH85+wKWAxHiQGiAqgWREaq+2HssKnEAlpNwknr22Wf1FA5NqOGxgywtLdVzL774osyaNUvVNqj/nfaiznzMPjawZ511ljkMur3//vvV2SloIkvuZmT4k3geg88111yjdplTpkyR3XbbTf7xj3/41etOdfqpp56q5gT+DJq5M2/ePL1j+PDhfiAaLIv09HS/RNUA1gULFsgDDzygl19++eVqSwtQNUD29ddfly+++ELTb7rpJjXDCJa3PRdaDvg0+j4pamLdz99KUkPL6ojnhumaqpMjXpIGCtB0JUoDmUQ4Kc5xh05u44QHrQaqDJAM5ATnj1fzKrx4WbMbCgRhEW7KUfd4vhcA1rZt2/wgDNtUzAD22WcfueyyywQwBdEQsa3E1hM68sgj5aCDDtL9hv6ccMIJ6uleH6BlJZIOHTo0lIVkZWX501GR4+SFAxLlx74T6SlkJIt33nmn3zThhhtu8N/bkp3dd99dvyOAeqDtqTM/VMrmHQ1Q/ctf/qJSXYD0hRde6AelmAZQVmO60FzbVOdz7b7lQCxzQGGkWl9gINweEFvza6PK49PAxKokn3GWeqypqWYtqeYzIMbvoL830Y7MGBDjr9Rg8VsNVBlI+/brK1s2btBQK2kZ8RUuig8Gdc/aFet1ecQuXbo0yPB4T6SDMfafbPHif/fdd5UtAFLOGfCHFPDJJ59UdTu2mLfddluT2EceeNy3hpwAceXKlXLLLbdodkhqAZKo1yHKOHfuXHniiSf0GA96zBNaQwB3+NRYB8R7mnIiAf7mm28EW18IZ6pOnTr588CU4bHHHpNffvlFbSbN+7SmnPF4b7xOxv11vX2xLf+pWNvRSapXNJJMTofsWCt+q8tL9Jz8jds0H+M02upM2zgDY5pVWVElZr+NixDZx7lwkK1UYY4ZAyJboPA+vdVAFalOnz695fdvlilQzczJ8CP98BY9enJnZrN6+Tr1wDZ2j9FTuugqCcAeCSWEIxJSSqh3797+8EkGoOFMZdTgw4YNk5133lmvbezP2rVr1bHJSBkDr0eKQH59+vQJTPIfGyclyjpnzhx1PiLRSHRN50BZv/76a5UQk77//vv782jpjgkXZfjQUD7mHdl+/PHHCvLxzEc67STsdmfPnq2nsPFtLZh25h1P+17sDeM4Sj5tR6VwMSyINI6TRVuLxbVTDL9ICxseq58RzxdqTLPUwkeE/Tb6Zfo8dWKjCuNEBe5nLI7llT6puBlP/WntcKfVQBXJz/EnHC+fff6ZfPXhbDntkmPVu7Ud8iroK6WkJctPM3+VJT/9LocecqjgpGOpfg7wvRi1Ok49eJ9DSABxpIIMSCQOKNJMCHvKps6cscE87bTT/KYFmoHjDwPtgw8+KBdccIHjbN1dUwbU70adzkIEJ510kl5o0n///Xe/Ov3kk0/WxQPq5tT8o+ZMdgxghpcbNmzQh11//fViJPtEWYDeeecdWbRoke6j/jfn9YT90ygHGBQZECoriX1aE5cmPvDAOAulJKXU274aZWaELyCsGgtkfPflPBk+ZqgupRnhIrXp45kAfzftR30mC4LEItHvoVEqKy2TtMw0XQ1MJ1Cx+DLNLDMTDeIxlxWXSWZWpl+r1sxsYuryALP+lpX9jDPOkKFDh8obj74r875ZEJa1qVtWsvDexQpZWzdtk6fufMmnTr3Vpx4O71NjO3eAqgFJOP5gmzp27FjBAcmQCV8FsCKO6VFHHSXYVDaVjj/+eCHuKlLEYD/Szj333AazM6CZsE6Uk44RO1RD2NlCBPjnGbwTgLatyQBmeIUEeq+99qoDwI1UlogF2OYCto899ti2Lma7eB51XllZpWGGGCzikTwVHsG+kZV+YpVYUa1v337yvze/lFVL1uhKh7H6Ls0tN0uU//r9Yvnmk++0r8CMKRaJSRPSYLbb8gulqrI6ZidOzeE//Q7LvxbkF+nyzGgH4EF7p5AAVWY2BGDHfuuzt2boOsbONavbIxNZ0SIxOVFmfjJXVi5eI3vuuafsuuuu7fFVQ/5OgaoKwJMBVDzM6XHPcX3qdGbQxp7VWUgkrzRg7K+C/Ugzkkjnfc59Z3k4j6rcufqTAYjmHpyX6jNNCFZGc18wKQBAGk/9phBtz0nw0gB9zgfyGl42t2MLVkbnM+Nln++K2JiVnviNh+nxVOn3E/hdxdI3gEZn3LixUlpYJr/MWairh8VS+VtTVneiW3785heVjLN0dFO1VK15ZrjupexMHqs8lVJaUqYmKc3t28JVtnDky7tVV1ZLSVGZCh0Qjjj7+nA8M1ryDAlQ5WVQ3aJunf7uTLn+zDtl2cKVuq4uMzhiB7JCC+Auln80cqSoLINXtK1Y13F+4vZ/y+BBg+XNN9/0OwlFS+VGazmcneOgQYPk0ksvrbeozPhZsz6QCGi/0047ySeffBKYFJLjQADI922kqDwgsEMMtgoVTlaEsnIuXGAK99VXX6l0E4lxIOGwtffeewvxYxsjJ2DA5paQVE5y8hqwbexfndfUt4/9MMDXko8DfBMZmRlSUlSqq+UFfgPtmU+8a3lZuZQWlyoPnG0h1t4brQ7aERwuH731efn20+91QZn2XJ+8c3pWmnzy+nR55cF3NLweJkKxTNQXJk7ZWdlSXFgsmzfkS1nJ9pUEkT7G8g+nN94RQQH2qIVbi2TT+i0qCOzUudMOi9TEcl02VvZW26iaB9AQXnjhBRkxYoTccMONctUJt8lOQ/vK6EkjZachfSU7L1MAeuGKYYUtddgE4ISCqKmRsuJyWfv7evlu+jz5/qv5asB95plnyr/+9S+/3aXhh93WzwG+kfXr1+sFN954o9821dyBdBp1OkTc1GDST6IFsJSnU8pp7g/FFo/5UaNGaVYjR46Uww8/vE62gEKTjuMS6sRA+vbbb/U9kOrS2TgHQhywmA0DfgLTiCQAgKVNNUbwihW7IECqcRQx9wFOTTnx9A+UVpvrgm2x9aXsprN0lj/Y9e39HO8PfwmZtm1LgeR1zJGU9BQhbma7JZdvUoZN3LYthSqhp23EOgFSibfMRPKOCx6QY887VI48+2Bd7pbVw2qqYyAWaiOVwPeqa9mnJMnmdfny9F0vy8evTtNFPnh3YlrHOvGOXbp20cnT1q1bZeuWbb6IKYluAeg1pQ+NVh4wLrDkMs7ajAm8C/03fbJTABGt5Q9luVxeuBFiwqkDY/VXX3lVFi1e3O5c8nr26CWT9p+oMT8BMZbalgMej0cBKhJHvPBZ1YpOl/BLY8aMaVZhUNeHSzJ79tlnqzS1Z8+eMn/+fA0X9cwzz+ik5uijj9YyA1QJGUXUA9JYkYsyIaFtyNmrWS/ZwMVITe+55x6NXYuU7Oqrr9ZVrO677z6VpsIbuoiFCxcK0m+c0DB7QFoMAEYqg7Q5nojvj4kWJgAs7ZyRlV47CffF/m0PvNBJiUtURYwEuaSwVFfW6tat2w7mJLH8vkQIQdhAuLnUjBQZvf9IGTl2mHTu3lGXtg2XYKWmdthNCId9IXl6vVJWWiEbVm2UuTN+kjnTfpTqyhohxjSh9NoDSA323TGJxO+BLTb5YYA3/sdqG6mN9+0/GeIdwKkRaNDvxouqP5CNIZOoOjPGa/mSSy5RY+2PPvpIFv66UJjthB4S+55Ku0TiSSXikRsO4hmpaWnSv18/wWt0wsQJYV/LPRzv0R7yRJWOxJXwVoA81N+sbsW31lygSkcWrsaPxJeBEIA3depUBZ8APhyeVqxYoVWBRAf1OgCQCAczZ87UyBEsbtAWhEPC9OnTFYiyLOzzzz8vSLkhyoMz2cEHH6wqtueee06l2IS3ao5kti3eoy2fgTQDZzu+wdLiMrVbBeSgMYplCY6Th96aGnVQQZWq75iQoO/sNDVxXh+r+z169BCz4Ahaji/f/VZ+nv2rZOVmSkb29tXpQv1+aampGlEpmOlPa58FgPJW10hRYYmqiws2F2mW9EGsrtdeQSovifaNb9SA1HACVQQlPCfQX6G19ee8n7o0YNV5Pt72wwJUYSIDIOrSQJVpuBjMakHnn3++5ObmhusRNt8o4QDxQAGrhxxyiLz//vuyePFidXYy5gTNKSYTHAAuJgTjx4+Xxx9/vDm313stK2+x7Cv5EbYKYvECZvsst0qZX3vtNQWwAG72mcyNHj1aV70yUQfqfUCIErABRip68cUXayxYFlUgIgKRDnDoQkqN0wX7mFsAXpHK4PAFoZKKR6J+kIZTZyXFJVJUWKxeuO6EBHHxC5MdUoIrwbd2fJiYzsCOuhGgSoQDBkmcNlA3tjeQaljI943NOFoP+hMWzti4YaNUVHjMJSHd8m1kpecob/Mrt4YnBqhLpFfHTtJtaDcVqgBS4yV2Mt9sW0wYmWQwfgQzTQvpB2Mzk7AB1bbkLVKoH3/8UVflQd1qqX1zgIEEQk0NUf8QQLO5hIodUxVmxgMGDGju7fVez8CHCt9M1CgzwAZTEQAfCw4gmYdYjhWpLiHeIiGpJDYsUqWrrrrKH7YLkwDKwyAOIW1ido+6/5xzzlF+cX7ffffV9Hj8g2QV7ZGxKWYSwj6DV7gCkLsS3OLS1aFCbrGlVUhUg6TE+FQ3ErmDX1vQXXfdpW0+0PmxLZ5tn9F6DiBNNc6umALFm81o6znYvBzaBVBFjcpAz5ZZTjhF8c1jr706HBxYvXq1ZmsC46Nih1qybOoxxxzjAxasGO0O3ZrRLGSAVsEATySRdGZIp0hDImdMDjAPYN9cGw6eNZQniwEAogFahigv5TeEwxbXUO7zzjtPTwPIbActWnfUK/0OPAmXupG8WYAiJSUjrNJNq240X314tmhbiL/M94ItpZXIhYfP4cyVCalp5wg5LIWXAzEPVLGh++mnn7Sxs0oQy122RLIWXjbb3EPFAeobCSTSShyQ6CzwTic2IragzaVwDRJIeTEnYNCHMAPo16+fHrOPnaohpK3GM9+ca6stjlCvvvqqqj5ZVIEfDmpoKJyhqZComnZlJ4LBa8dMPIKntv6s00EkXN9t60tpc2iMA19++aWa2fC9sEQ05j6WYosDCMQMIVFlEm8pfBxoPP5N+J4dkpxxpkEihf0UoACVpRHJh+QBNpOo4gDSCEIEsboSXuoAV2a3rEaFM1A0EB0XQIJFMCDANOdYfYuyIoU0K20hJSMNyW5bEyYItJePP/5Y9thjD7n55puF+LTYzAJGDz30UC0SZaaMRCqwFDkOAFTp4wxgjVxJ7JNbygEk4pgF0T8gifvhhx9ampW9L0IcMO2PtsjPOFVFqDhx8Vj3zYxOMUxIUFke0hj6M6AinTLrycfwq9miB+EA9Yw0csKECeo4h9H88OHDhTWroym+I44L2HgayRdhnrB/AwAOHjxYpa3mm8WLHptVc22Q1w7LKZ4PH3k+1L9/fy0bgJ/yIKE2UkL2WXnNlDksBbKZ1ssBJjuYZjCxgagHUzf13mQToo4DmC0RCsuAHPqvcePGtYnzT9QxI0YLhDQVcEodQrRN2x7DW5lhiaMa3iJvzx1QyvrqeCAb+0I+IsLpnHLKKdsvtHuWA5YDlgMxzAEGRrPCmRkYbYST2KvQp59+WsPBMWGlHvnhUMXk1VL0c4CJIlo9M2GkxNQhQob2HPYr0jUT06p/7OgAqc5QFKhVsQFs6lrpka4A+3zLAcsBy4HGOIC6kQERMupGJuqWYocDRBdB1W8cEKlH6vC7776LnZeI85Iatb+TDdQj5lHWqcrJldDuxyxQpdOmgSNpcM5u2Ce24bRp00LLKZub5YDlgOVABDhAXwegMapGUwSnQ4c5Z7fRywGcQJGKOwUrmG/gZ4GtvaXo5gDtsL42B0gFi1gKDwdiFqgyszEB3hG7A1BRhSF+Z58QQMxyLFkOWA5YDsQyBxgEjTTVvIeR4gSeN+l2G10coJ6ISoOJmrM+Aa0IVlAnW4puDlBvRijGBMNMOMwEknRL4eFAzAJVVs5hdZ+9995bHWlwNOjTp48GLseDmbAfmAZYshywHLAciGUOIE01A6TzPRgYmbBbin4OMFYtWrRIJxw4VmKjCsAB8BBl4/vvv4/+l4jzEiJNpc0RbQZnbSYf1CHHbJ3mOXHOqpC/fkwCVT4Qwursv//+umwqgdLpyBG9d+7cWS677DJ1pkL9b+24Qv7N2AwtBywH2ogD9HWmDzOSG6Ry/Ehj8GRrKbo5MH36dCkqKpITTzxRxybGKsAOIeywWZ07d27QyUh0v1Xblo5vHZ+ULVu27KBmR3vKedJZojqwTSDIMve2RNMKvgCIUmfgDZM/W+oPTS4g1rTVtuVM+39aTAJVGjzhIAhITuftFLkbyQMgFgmrVam0/4/YvqHlQHvlAAMh/Rv9HNI3jlE5Yu5k+j4zaLZXHsT6ewFKkagSsm7s2LFaf6ZeCVnHeUCUieoQ6+8brvIDAhn7+TnHfJ4HiC0sLNS0YPa+nCOdOLZmwtecclKHTA6DhRCkLk14qpaA4OaUI16vDSlQBSQSJw4Vh1nW0slYPhTS+DHrCSQC95PGUqgNdb58pGeccYbGfQzMwxwjjj/hhBMkLy/PnLJbywHLAcuBmOIAgzP9KlIcBknTL9K/sZwtac6lb2Pq5SJcWAAP483SpUsV4AQWh2WEAZiMR4EAhHpZsmSJ3s+41hDhREVs4uuuu04lb0bqxjjGikYXX3yx1iVSVUsNc4Dvn2+enyH4iJ2vaRtma9IBsQBVztNmAJzNIe4D3HKvsUsNvN+kc23g8wOvtcfN50BIgSofxOGHH66Bwoll6iQa55QpUzSN4OH33HOPM1l+++03f5DxwLQ6F4oo+GwqAGWmY8lywHLAciAWOUCfCigF0AQOgKgcGTwNmI3F94tkmVmRjbGI5ZjfeOONOkV59913ZcCAASrtZPELwKqTrrjiCl0oY8SIEboyojPNuU/9oRa+8MILg0rjAMDYq1566aXqHIzkzlJwDtQHEpFE0waMpJR2YiSu7Ju4p/C5JQsBkS9tzeQfvHSiIJa2GthO67venm86B0IKVKlIU0lm1miKwqzVGS8u0AmA9c6ZFUH77bdfox+FydduLQcsBywH2poD9HOBkh1nGUya6Q+daew3lm6uYcsAWx8xgPILlPjVd709v50DTsmaATYmFRBreIo0zgkgAZ8m/CGB+jExq494BtdgttEQ4VvBynDkbanpHKB9GZ4FA7LUq3FyMg5sTc+9+VdShmDlaH5O9g4nBxpuPc4rm7BPYzSSTjpPQ3xMrNTqbOzYihhixnPbbbfpIRLZ4447ziTZreWA5YDlQNRxACkOE2v6vK5duypYNIVEpYxjB4S6vlu3bnUm3ixGgqc3fSRpTsBk8mDLIIvKv750c61xJjXHdts0DjgnAE5pGdFinnrqKX8m8N854Xjuuedk/vz5mo72DylafYRGr6laPexXAwFzffnG43kAIPXkVPszicD0hToiPKURdpn64pgJB20N7YOl2ORASCWqdNrBROv/+9///KqVjh07KqecDfLee+/VuKeot2699dbY5KQtteWA5UDccICBkD6MnxkUeXmOGRw5F0xqygSdwZU0VMINgdDmgBwrxWn+p+cEqk5HphtvvFGldB06dNCJBnVqNIBMQP7617/qw/CBwGk3lNTQ9xDK58RiXoHfOG0IIRdtjbZkJgwcA2jR6tLWIEBqY1LtWORJvJQ5pECVj8PMHk3nzWzm6quv1o75+OOPF36QMUDH6erBBx/Uc3/4wx9k9913jxfe2/e0HLAciFEOOAGF6et4FUCqU3PklP6QbgZWJuXBJvUxyo6YLDbAJtCL+/XXX5f33ntPQc3tt9+utsG8HGAVQoKKwzB1h5bQUttxwCn1Zh8MwQQCaSnSVGc7pL5oa2yZkNi21nb1FI4nhRSoUkDT8E3DxjMSz0lo0qRJftMA8zLffvutX1xPuClLlgOWA5YDscgBQCkDJ4NooPSH9wHAGtt9gKqlyHKAyUZgPX3yySdaKOxFWTjG2KmayApO29SBAwdG9gXi8OkGrIIvjG0qmCOwHqk3IwUHqAamxyHrYvqVQw5UjTqFD4mO+5ZbblF7rF133VXOO+88fygVowIjHZo6daoceeSRMc1MW3jLAcuB+OAAA6YZNM0bY5vK4AkAQhUJOaU81l7OcCo6toxVxpcC6eqyZcsE+1PopptuUo9/I3jhOqStM2fOVNDzt7/9zaqS27gaDdik3SFNZfKAOh8TDci0SbZIU5kYouG1tqltXFFheFzIgaoRsWPg/84778grr7yiH5Bp2CadD+iJJ56QX375RaWwVo0Shtq1WVoOWA6EhQNOkMp+MHs5QKoBqkh3sJdjsEVNaQbdsBTOZtokDgA+jd0i9UecU8ANTk2nnnqqBoc39fTrr78KpgAQDr+htk1tUoHj/CInEKU9UWdMCI25IewxbZF02h5tzdRxnLMvpl8/5EDVNGw+EpyoIIIdjxo1SvdNOtIFo2Yhlh0rdFiyHLAcsByIBQ6YQZOyss/AiLqR/g21PucMsY/0h4GVdKN1Mul2GxkOAHAMiFm4cKHMmTNHC0J4RIh6MyCIYPzGhG3y5Ml16jcypY+/pzrblKkfpwkNbctcw9a2tfbzjYQ0PBVsMRJTGr5p2DfccIP06NFDuWY+LFbrYPbKB4X635xvP6wN7Zt8/fXXasgPny677DLZc889/Q9gdRU8UVE7wmf46VR3vPnmm/Laa69pw73zzjulb9++/nvtjuWA5UDLOcCEHICKqhGi/wOIGvs50gGxqCrp6wIlQC1/sr2ztRxArW9U/w8//LA63vTr10+uuuoqzRoQa8alRx99VMcr+l2cfi21PQcMCKVN8aOtmfoJLA2TQsZAY7rhTCc8XEP3Oq+1+9HBgZADVTMDpfPmhyT1nHPO8b+t+bAAqRCzU2ub6mdPvTssmPD2229rOnFmnUD1mmuu8acRl5EoCwaobtq0SZfoW7Nmja4M1rNnz3qfYRMsBywHmsYBI71h8CS0kbFNRdUIcZ5rIEAsfSF9o0nXBPsnohwwy9JSCOP8i3rf1BH1ZySuZrxCIGAl4pGpNtoUbQgbcPZNzHZTGurLTDy4xtSjSTf1TFs1dq3ONLsfvRwIueqfxu+kO+64o86sxjnD4WMi0D8fnZPwrDzxxBPVRsh5Pp73zaAHD5z7rKBiACxpeBUjwTH0r3/9SwCp8P3uu+/2d7wm3W6jkwM4diD9thSdHKDP4odkh4GPLQOjmaibUnPeLG5CurPtmmvsNjIcMCDUPB2VP+OOIUCPE5QeddRROtk36WaLPesLL7xgDu02TBygvaEx7NWrlyBwCWxrpLP4Ru/evfW6wPqlWGZCib34+vXrdflbE4mDtsqkct26dfoz8ZDD9Do222ZwIORAFcmBIaR7xjbVnAOcGkLNwvJygbRgwQLBdMBIXwPT4/E4WKODD1988UUddtBYDaH++Oyzz/RwyJAhuqa1SbPb6OYAHemLL74os2fPju6CxmnpTDtjcIM4dvZXHJtrSAegOkFPnLItql4bIGokpRSM8IjO8YlzrCBmKFj4ROqfSAAG7Jhr7TY6OYDkHIxCvVP/HJuJJHbk9Luc58e+rdfoqMeQq/5PPvlkGT58uL7dgAEDdhDPH3roofLhhx9q+s477+wP4+Jkx/fffy/Mbn/77TfB2xI1t3M95Xnz5gl2mThpjRs3Li6kFGbVDfhkBkCW8XvggQeUdccee6xgi+psXM8//7x88803ej0qK6c028lvux99HKADPfvss7WtLF++vI6kJ/pKG38lMm2QNzfex8725UwHzGCbyuAXSJjmYKYTLC3wWnscWg4gkXvppZfUfhiAOmHChDoPoM9FUoqUjfohGkAgMUZRtyxUg/Mw9T5x4kS/5grb5K+++koBz+jRo/2+GoH52OO24QBglLrs3LmzPpC2CXClDW/evFm6dOnin1AyuaTukdJaiiwHQg5UEbvzq48Al/zqI9TWP//8s850kCLyIWG8DngFrKJmYTUrlq976KGHVAVw0kkn7TATri//WD3vlMaYWT62KM+YhQAAIABJREFUqagy9t13X7n++usVqNLoaGCcN0v9HXbYYcIEwVLscICOE+Bz+eWXC+YzLDOME52l6OAAbYz+iQkFICfQXg7AYtIZGI3NuLP09HX8AqV4zmvsfng5MGbMmHofQL3ss88+9aaTgPYPsIrAgHEPMywWtmFswmEY/4xDDjlEbSIvuugiefLJJ2XYsGEN5mkTw8MB+lTGR2OfCrag/WGSw5hKO3WOs7RhrrEUeQ6EHKi29pUAWDgOHXDAAXLhhReqOg2PSySFP/74o6q6n376aXXCwmzg3HPP1c4k0F6lteWItvudqn8aDzN1wDvEDL5jx466T2Okg0USjSQOOuigg3Rr/8QWB6hL6JhjjpF//OMfQogcpxNdbL1N+yotQBXwSR3RNp3tkzcNTA8GRgG5XMeAaACrMx/aOapH0hlE2VqKLg6sXbtWwQ+CgIMPPlgnLqZfBpQSepGoNwAg2u+7774rQ4cOja6XiJPS0FZNezWvTBsEO2AKQFt0Euec7dGZZvfblgNRB1SZodIhA06Z6TBbZaaKFPass87yz1BhEwAM560VK1a0+w8K6RqNhhkh+/fdd58ag2NUfu211wohN2hoNERmhyygwD7xaQHzlmKTA9Qh3z9S1VtvvVWN/JGQW4osB2hrJhRfsJI0ls49gFDac35+vkpuUEsy4aRPow0blTPfAD+eZ8FqMG5H7hw+AJdeeqnfNGfLli06mfzpp5/kyy+/FJYIN2rmM844Q1j4hkmJrce2rzMz6TPg09ifcgxYRfhDO6PtIhjDdtWE1Wz70tonOjlQdwrhTInQPl7s2KcCUqFPP/1UnYCYkW7YsKGOKgZvdpYt7NSpk85kI1TkNnks4JTGRAdHB/jggw/qc//yl7/oAEYDMw3wmWeekffee0/TianqVGe0SWHtQ0LKAWb2OOr8/e9/l1mzZsljjz0W0vxtZpHhANoj2jX9F2CGdgpw5QfgMeexkUMiC3i1ACcydRXsqbRLnB3xD4CQgKPuRxv4ww8/aLxqp33j9OnT1XkY6bhVKQfjaHjPUV/YHZs25DzmfGZmpgp/iAYAUEU41t41teHleOhyjzqgirqaaAGGkJZiU8JAzYeF1MEQHu+o3whXQefenomBipkePzpDBjIa1vjx4/2vbRrgRx99pDND+Ij9qqXY5wATETpNzAAAq5h2WIpdDgBUUDs6nSTpw6hjYwYAiDXEeQtuDDeiY4vzDWRsHhGaUIdmYuEcq7iOfnuPPfawNskRqj4whFMLQvtyHuMUxzETRmzOmVBYig4ORJXqHwkDdjzGaYTBmRWZWBAAgHbKKaeomhvAikkAtqqE8CGNc9FCqBSQ9lJGvHpR4aFWoIxIPWkErA6FrRJbyt8YMaDRgJCqMFuH/u///k8IOwWZRscgh/kEdOWVV9YB/XrS/olZDqCKwi4bKTnxh3EoDBYyJ2ZfMI4KDqBxAlX2+dGOjcrfyQ76lKb0E8577H54OUD0GqTeJiINElOEBf3799dzmGedd955MnXqVHW2IsoNfheMDZbangOBwDNQWoowyAlc276E9on1cSCqgCqFRK1pvCIBqjiRmFirAC9Wsvrkk0/UHIDwTMxmP/jgg/rer83OU1acvQDWv//+uwJUI+VFEkIj4Mc5jrmOhoJ6YcSIESr5JK5sfQRIdTY0AO4VV1zhv5xBzDmQwUOAbCARrgqbR36BRBqdbENRGQLvscdtywEmIpjFYAaAvRtqqtNOO61tC2Gf1moOIG2j/dMnQNQr7df0ExwbMiHn0B45z5t0u40MB9BmEZbKSL7pxxGcoOmCCEv11ltvqfaDCCxG+8WExJLlgOVA0zkQVUAVMOaMVYf0MTB8CB0Dv2ghBg4AHjH0CJsFYEXFAOhE2gkgZIDhx/sAVFEZsaABBvesgrFy5UqNl7nLLruoUf7AgQN3eD0GNacqCdtU4+nPxaTzbENI3ZzAlvNIdQnl9cgjj+wAVPFeJQbuyy+/bIGqYWKUbhnoADXUMSuPMZlj0mJMP6K02LZYDg6gXaG/M4TE1LRX+gqOaZPUM+0adTJbtE6WooMDgf00klUjXaWEjAOEU7RkOWA50DoORBVQbd2rtP3dSEaxO8IBDMAJUEAaiQSYMEJIJ7F7cUo6KSWdGWlIRfEKXbJkiYLIxYsXa/gSlvHDm99JDGoEjEZtxIAWGJyac3vttZeCXiRu7AcSzmiYEBgJtTOdNCQDxpTAmWb3o48DZlLCso4stcp3ZO2Ro6+e6isRIMZIU7mG9m0kc/QjtGEkqdQzUQBo386Jan352vOWA5YDlgPtjQMWqLawRgGmzz33nPzyyy8KUAGdU6ZMkb333tsvGWkoa+xUkR7zwyYNT36coLDRxVGGyAfHHXeczsrJBxMHAHF9RH6NmUBgKoE0jqDU5IXxP4GpAdUssgA99dRTmsagiBmGjflXH8cjfx7pGuFTAKqoFvkmcbayFP0ccDpRUVqndJVjgKlx0on+t7EltBywHLAcCB8HGvfiCd+zYzZnog0QpxTgB0DEYN7YIDHANJeQnhxxxBFy++23a/B+zAMArTjMhNLw/rvvvlObRmypsJ3adddd5Z///KcWl/WqAcxIbQGyvNcTTzzR3Fex17cxB1AhI4nDXpXv8eGHH27jEtjHWQ5YDlgOWA5YDoSPAxaoNpO32Jd+/vnn6n2PFAQVPCrXUNgHAg5Z4QQpJmpBQCqg2DhlNbOoO1yOicH++++vDmkmDAf2cBARCng2klycAQA/mC1Yin4OoB7meyGeI5MRbJ8tWQ5EigOtCaPFvXzPxrQlUu8Qzuc6TcGc5h/hfKbN23IgljnQLoCqafiARbMfjkpZvXq1elsT65UA3VdffbWCAxNoPxTPRJWLYwyhh3gXJKv33HOPqulbkz9gF6mpM1LAtGnTdF1q0nDuMlECOMYUoLF1rltTHntvaDmAqcZOO+2kq1fhLNeQmUhon2xzCwcHDGCjLSI154fZDn0caeYYQNcaYBjqsrOe/YABA9ThFedSJ91///2aRjqhBp3Ee+B4RNrhhx8essm58xmR3MdMZ+vWreoghwCCMYP+nTjhmOygzYrWiA6EWMThl3IGTiB4J9L4se8kvkt8H0hj5cRo+k6d5Wxsn3Lz3s62yD5Ee2SfH+0z2tpjY+8WK+kxa6NKwyeuJD+WIES6SUMnNBTOB9iA4bAQKuBKY6WjJRwQ9qjEw3MuTBDqCmeZTEAr60Wj0mUJzUsuuUS9f1vyLEJnISklsgCEdBXCPpUwKl26dNFBgnPz5s3TKAKYCFiKHQ7gKY6E/K677tLvBa/xs88+O3ZeIM5KGjj4UX8AUM7XeL3iVcmiV/RfbYi75CScqsply5Z8HSRdCS5JcLl8+64E3SYlJUpySoqkJCf7Q2CFqh9srIqILMJEnv6X9zHEOcyjWKgECuw7X3vtNXnppZc0DROolphQmWdFasuYhDBj0aJF8uWMGfLtt7Nk3br1UlJSKiU6VpWJp7xURNyy0y67KLC5//4HRCRBUtLSJSMjXdLT0yQjPV369e0jY8eNlTH77qv9Mg64bVWHgfwDqFGXgVpDzgGwSefHt+skfCBwCOQ+NHiB9zuvjfS+AZq8g8fDxNC3vHF9bZF3SUn2LchRUFCobTShtv2Rpr/atpmYlKRtES0lExSk6JGqy0jzuaXPj3qgCkBk1jlr9mz59NPPVPJXVFSiDb+4pESqKkolLTNPevfpI+99+KlKOV2JKZJZC1azMjOkZ4/uqtKeMGE/jb9Ko29Oo6FBAhiZUXIvUknU9OEmVjFBaksIIqQTbDluSVDi999/X50zAKQQa1TTYHgfAlPzPtjKQjh2kRYYeUAT7Z+o5oCRuhG6CntVJjjXXntts773qH7BGC4cgyFgBul3RYVvIOQcg7zbnSCJtb8kd4K4GeQSkLqx9YFRHyCFAYkirhSpqfEqN6qrfatcVdd4paq6WiorqqSsrFSqq33h6tzuRHEnuiWZATMlRUFkuICgiSEaqNIGfBqQSqEBMYZYxAQQC02cOFFD9Jm0aN5Sl2ip3nnnP/LNzJmybNnvkr9loxY5OUGkf69c6dMtRzr3SZMOOR2kU266dMxJk045aZKVkSTiFdlWvLPkF5TJ5oIy2VJQKpu2lsrmgiJZPP9r+fjjj/yv361HLxk4YIDst9841eKNHDnSnxapHSSoALlgoIvzgFiIbwKhUbQQfSRCLeqvvKJCqiq3S0TBBW63S9uiOyFBkt3EJ3e0RZfo+7JGj0tc+kouF6vGiW9yyYpz2g5rpKbaK1U11eIpr5Ky0hJtj7RY2kaiO1F0Qpmc7G+PwfgYLTyLdDmiFqgyA0cd/cUX0+Srr7+WRYuXyJZNG+rwKzVRJCcrUTrkiuS48iUpo0IS8lKkuKRCigr45Qt3LFn8m8yc9Z288eZbMnr0KNl/0iShoQ8aNKhJM3fKwo+PGCljW4BU86JIb7GB/c9//qM2q0hGTeBoc01Ttkg4cJQyAJ0By4SwwhaVaAWG6FSc8WzNebuNDQ4YCQehqwCqLC4xbty42Ch8OywlYJSBEe0Pg6MHqWk1dsUJkpzEQiC+bWoSYNInbXG5GAh9qkXd5w+km9p9RsfaNeZVAstgWQNorRFPVbV4KqulsqpGKqsYmH1lACQjkc3MzFAtFPGXQ0nBADDvTRg/iEEaoMA3agjtDqH5IIBqLAzYjAfvvfeePPPsc/LDD/NEvD5VcI+OqTK4X2cZO6K3jBneS3p3z5G0JLekpST6fykpSSLJblF046mWciYW/DxVUlZeKWWV1bJ01Vb58vuVMnP+almycrOsX7taf7PmfKeS2vPOO1f9DTBBCzcFqw/zTTuf7axTvnfqGYoWkGoAqq8NlEklALW6SgFnYmKCJCcmiW6T3JKS5JakRLeOl862SPtjwqhUu9FG6fiefdoQrzCPhCdVte2x0tEePZ4K7RPcib6JK+MzmmDaoxmjfQ+xf+GAy+v8uiLME2x33n77HXn8iSdk/k/ztDQpbmamebL3sJ5y4F79ZPjALpKZlqyNPj01SbfJKYm+hl9dI9UV1VJKY9fGXykl5VWyYl2BTJ+7Qr78YaUsWrFJthT5OpXOXbvLMUcdKeecc7aCuGCvT4PEoxrQDEhleddQ2qQGe2awc4TC+vTTT7XRn3/++Qq0g11nz7UPDjAhQbKN3TDq1JYQ3ykDBtEjmOwQn9dS23CAfgOAhuqTOkDSycCXkpQoGWlJOhACUJGcutwJKl3TkjkGvBaX1AlmXSLe6hqpqvYqYDX9oqcSSa5LJ+qqbs7IUGlrawdJFiLhe0PrwzeM3TSTpeuvv1569eolhxxyiDz++ONCsHz6VEAQEU/effddPTdnzhw1X2nxu4fxRszK/vvf/8qzzz0vP3w/V580pF+enDB5qI5NfbvnSK/OWeLKThWpqhapqkHM5gOkplyKzzlXe2IH0KOzE9CQSJJbxO2Syq1lsnJjkSxfnS/vfb1U3vh0gazZXCqJyWly4AGT5OyzzpLJkw8MmwAFB2Kkowg3MEdjsoF0HIkq5wCiBQUFKhk0qxpidsT3DwDjXGu/K8O+5m5R5VMOpPbaDquqFYzSDtNSEyU1OUkS3S5BeorkVPkeWEfNfWjg9cHaI1LXqmop91Tr5IT2WFXjVUlrWlqqglbMGSOBNQKLHw3HEQeqfEQ0fsDpF59PE5EaofGffcTucvDe/aV31xzJ65wpkpgg4qkWQZ3l7MydH1XAB6EMpiMwjT7BJRVbS7XRL1i6SZ76z4/y0TdLpbJGpHefvnL6aafKmWee6bfj5H68qFG589GgdqfjjQQxG8RJBlUTdoiXX36536Y0EuUxz2R2yoBEhxCpzsiUpT1tic+L9A3nlJYCVfgBEGCWjnkHgwZ2zpbCwwHm/PRn1FdpaZlKU8yA6AOniZIAKIWcfVh4irNjro7+UaVLnmopKvXoQInUh+8kKytTo320dIBklbSrrrpKvzXiQfP9EcUEnmDjj20qq+PRjy5dulRNkA466CBVIT/zzDNy1lln7VjuCJ/BZv+mm2+W/7zzjpZkUJ9cOfOwEXLspMGyy86da8emqlpQGoa6NSI99M0pieItrZA5v6yTFz78Wd743y+yfmu5pGdkySUXX6iCFOeKhaFgHT4g/JCWYw7GtwMQZWtMycxiMgBZJmccMx4AUttaosokEWCKeQngFEoGmKYwSUyW5CTfUsU+3jgmDaFgVnPyMO3RJVKD5qO6WkrKKvVXUemT9DKJRONJ3x3P42tEVf+AG2J13nf/A7Li9+WS6BKZMmYnOf/4PWXCnn0lo2Omb1ZaWS3iqfLNQhvq4A1o5WMxM1Z20EAAcDGAzkyRgR0yZGD/jjKwdwfZdUBneenD+bJq5Qq5+94H5LdFi+SWm2/2B7pftmyZevR16tQpokuLMotFHQ8opNNnYQA8ZCNNqOyefvppjYKAXZKl1nMAwIMEgwUk6HRbQ8aGjIUA/v73v+t3gwOdpdByAD4zQNM2y8srVJ2fnpKs0tPUlESV4gSqCENbgibkZvpHl6jNaro7QaW8JcluKSn1SLmnUrYVFChoZDLcErMAcw+TLEAqy0vDE/qvAw44wB86DX7xI/IIW8ypotE8BZB68823KEhNShA5fL9d5KzDR8iEUX0ku1OmSEWVSFlleCcejHnUXU01th3iSk6U0aP6qlnBiIFd5Ml3fpBZv6yXe+/7p/IcrV+4zNMAS9QtIJU6RYCDsAIyylmO2QfYBjMFacKX2uJLPB6Pfm8AVVT7mNLQ/tC+pibTDt21eUcQoJq3M+3RKzqBTVEbdbeWs7jMo5phnPDQxtBGMA2gTcUjRUyi+sorr8g1116nAHWPXbrIBSeOksP3Gyidu+f6QClqk4ZAaShqC+kGZgPllTJr/hp57O0f5IX356vGhpn9TTfdpGoqVD5IWg8++OBQPLVVeRB2CO9YOoArr7yyjvS3VRm38GbstOi4WEWLiYel0HCADglpAL9QzKQBEEgYUMtOnTpViCphqfUcYABB7QkY04Ex2S05GamSlZHsk54akNH6R4UvB1U/e6XSUy2FpR4pKsVUoUYdUgGszZGIodb/05/+pCAX05U//vGPGrXk3HPPVaEEfZcJQ4U5E6YA8O7WW2+VG2+8MXzv2Myc0WjccMON8s47bwsA9bLT9pHLT99HOvfMESmv8glQwj0+NVZmNIXJiWoe8OOPq+X6h76QD2Yul4zMbLnyisvlsssubZHjbeBjmTSj6mfMQYKKtJS+npXTAMT0K0aiyjH7AFnsZ9sqFjfgmHIC7BBUpqUmS05miqSnJooLcBcL7dAwnhcgDF11jYLVwhJAq0dwisS2vKWTSJN9LG7bHKgyg77iiitl7tzvpF+3LPnHpZPluClDfbxDalrrydqmzOTDALSmJsmGVVvl5se/lEff+lHSM3Pk9FNPUjsRwlHhfBVpYmB84IEH1CSBUFPXXHON2glFqlws20oHQdxXJEqWopcDSEAAwCy5SrQHVlSz1HIO8N3zw9YsLTVJcjNTJT2t1hki0iCmpa+V4FJv5eKyCtlWiONXlUrN0CghPWuMXnzxRTn99NPV0xuVPivgoYpGMona+I033pDjjz9e9/v376+h8diiIQqXFLCxMjvTMd249NJLVUABQL3wpL3k6jP3lS49clWgEZHxyVnA+vaRFCYlyDdzVsgND38hX8xdJR06dJJHH31Y+V3fbU05zzdugCpglX6eLfVJfwJQJU4q5zAZgYd8K20RNYZnYZaAsCTR7ZasjBTJziAsW63k1K9ZbcqbRuE1tTbM9DHbisqlsKRCowtkZWZqu2qpiU4UvmmDRWpTOTKSyVtvvU1Bare8NLnxvPFy3IFDfLOdisrIgFTYw8eMBLe0Urr2ypNrzxorp00ZItVVlbJhk68RIHaPBqJjGD58uKpdcD7D+9SS5UBTOICUA8kqZgDYOmNDaKllHGCwRpKKaQZ2b3nZqarmV+l3rIJUWFHjVaeSrPQUfSdsbAEBWxWQN26GAliBkLghUYVGjRrlBy30XxAOOt9//73us7BINIBUCvPCCy/IU08/q+W66OTRchUgtWdedINUSlvrvDVmVF+59fyJst/uvSQ/f7Pcffc9agusL9TCP9QZ3zVCEmPziROVqUuj8aF/QfUONUcK38Ji6XcJiOb7xFExJytVcrNSNOyT5hnrIJWXUEmwV00W8rJS9R1x/CouLtH+hzqJB2ozoPrJJ5/IiN1HyhdffC63nz9Bln9wkZxz3J6+BoadTzR8VFR6SYX06ZEjL/zjeJn73Gni2TBPnnrqGfnTn/5cJw5gJD+OSZMmaQQC7HAwoaChWrIcaAoHkEAMHjxYzVpwsGI5YEtN5wDAlHjK69avF5d4pUeXbOneOUtt4DSXWAaphg1er6pPszJSpTdxQDtkSnlpqaxctUoHR3NZsK2Z0ANoAKMAGsxNDKEKRrJPOt8i1998880mOWJbyoJJwp///GcZ2i9HFrz+R7n7+qnStUOGjglRK0l1cgxfjvJKGbdnX5n+wjny0JUHyezZs2TYbsNVsu28tCX7gCK+f6R4zomFAarYpZrJMOrpcBHPQIKLoKaivFw65WVIn+65kpedpt77MaXmbyqTamMtd8xN19i8OVkpqs1ZtWq1Oo41NZtYva5NgCoDIvadaW6PzHjydLnu/yZJKqr28ii1acTxqtQjQwd2lvcfPEH+cs6+8sEH78uI3XeXb7/9NuJ1zUyWJQjpLIhBaMFGxKskpgoASEAdi3MVphsvv/xyTJU/UoVlYsjKQ9jB5WWlSa+u2ZKemhxb9m/NYV4t6M7JTFUgkJmWJJs2bVaAYCRngdkF2iRim2riNXMtfZdxuuGY8GtmtTyTF5Jq7FWxdQwkQiIRVYBrQkWExBo+fITa/v/f8XvKnH+fI0MGdBYpqoiclq81L4cJXZlH/t8Z+8js58+SHnmJukgAUWta4kdgJKqmSIE2kgaokk7dsnAMkxEnAS6RfrINJMAv9dkU6SBtcNXq1VJYWCSZ6cnSq1uO5Gal+cILt4dJYiBzAo9rvBrSrlNuhk4ikxJFVz9jxcyW1G1g9tF6HFagykeLMT1eiGOH95Tv/32ujNurn0hxua9zj1aumHIxQ62sllsuO0De/sexUrB5vYwZO06ww4o0EfYDL1kaN0ugIhGwZDnQVA4wODAAsSIQK78RVshS/RzADo7lMPFf6dk5S6U4CdiPxcPgiDQnwSVdOmRKt06ZQrDy1WvWBO1zUPkiReVHCKrrrruuDlMBMYBZTAQAqDiEBhJLRj/66KN1pHbmGvq6t99+W21gzbnWbKdPnyZjxoyVNauWySt3HCX/uukwScY8gb4/lgkNZalH9hreS+a9cp4cNWGgTkxPPvmUZr8VQNSAUeo1UFpKGn0JRP0HWzkRZydAZiCA5R7GLtJMHvUVEDtZXxv0So/OWdK1Y5YkEbYyHtpgIFOIqpDkVj50zsuQ0tLaSXRJSeCV7eI4rED1p59+kldeeVWSE11y6al7S4/euSLYooaLGDgYSZpKXFtrrFzvLTQCT5UcNmEXOe+okeKt8cUzZYnCSBPhqejwUbHxs2Q50BwOGAkGNqsEX581a1Zzbo+ba5FA4zBCV4F0EY/i6LBVavsqwB4XhxVW1tI1zgNAQteuXQUp6jnnnKPe/8TVdBKe4KTxQ5oaLOYnIQEBsYAaJlHOSTgapF133VWBEz4P1E1LCUHKk08+JVVVlXLalN3kmAMH+wBqWzv0Mg41NG41lt4QAzxVktkxUyMWZGckyfsffKAhDhu6JTANu3bAJz8mGQa0muswBTDpbAPTuc6YDJh9p1S9oTTzDL4B2iCTQ5/Tos8WOipMBk0h23qr5pIujTCSmZaiYayIoGH69bYuTjifFzavf0TR48aPlxXLlsjnj5wq48cPFCkKoy2lO0HKSz2yckOh9O6arV649c60XC6pqKiUlesLpWeXLEnPSPHFWW2I04xSmSly632fyk1PfCXHHX+8vP7aaw3dEfY0RP133XWXLFiwQE0rCKHV1mS9/tua46F/HgMRAwEhgrB/Brha8nEA+29sUlkWEXvFzPSUNpXg6JKorFiTmOBTb1Is+qIAgNhQfQEKuFxX3qm9sKqqRlwJvnXNmz3Yu1xSWFIum/JLNBA5QfyDgZOGytRQGkAXIcewYcPU1GLlypWqlt9jjz1UhU19YGcNUMVW8c0332xRRJYrrrhC7rnnHjltylB54Y6jfGp+zL7aktwJsiW/RAqKK2Snnrm+J2MWh9c6pnEukeVrCiQzPUk6E1e8peVLT5ZpMxbLQRe+Kt179pYZM77UyB9t9arUE4CUvoYtYIpJDSAXEw++USYmJo1vykhfNarApk0KUrt1zJC0tOQ2NckIRRsM5HOwNslyx2gunO008L56j12iUTo2F5RKakqKLqzRniIChEWiih0KNpRLlyyRR6+ZKuPH7hxekFrrkXjoZa/LIZe+pvH9paE3SxCpSXDJkVe+KVMveV3DyzQ4o+XroKcvqZC/XDBRTp2yq7zx+uty3XXX1/vdtEUCjX7ChAna+AnvwuTAkuVAcznAhAeVHmGrULs+/PDDzc2iXV4PX8wg2i0SINXrlTWbimRL4XbtDfFNC4vLhcGzUXK5pLqGPIpl9aYi3Ve06xLZWlQuqzcUSjXRTpqhhNJner2SnZkqXTtm6gQHx7JQSXEYwPEDIHwa6n+ccAEtLBzAM37++WcFpcRrxTY/MzNTsDFtLt19990KUvcf1VeeueWIyIDURLes3VAoQ054XG56YoZISpLGRV24dJP8/YkZvvpKS5J7/j1LBh77mKxYvc0HYJv7slxf6pGJ+w2UF289XFauXCFHH320SihbklVz76HekHyj/UOijtka9Uz7YstkkP7HpIEfSIOIrrFp0yZJTHBJ906uaSBfAAAgAElEQVRZPm1GU7795haynuuZoGobLGhiG6yNgVpPdjrJrKyqllUbCmXd5uI6bXJLQams2Vykk+J6768vwSuSm50m3TpmKq/Xr/fFsq3v8lg73xCca/G7fPfdHJkx4yvp1SVTDkGSWtl4WJMWP4wbExNkyYp8mf7DKtl9l66SmZsuUt1AR17tlbSsNNljUDf5et4q+W3ZZhH/ihUNlIQG4k6Qsw7ZTcOuMpNnphhJ6tevn3rOMutE8mApdBwwtlehlBaFrnShzYnBhBn4scceqzF6CXge78QgSRxRll70O021FVNcLvF4qsRTWS0pSW6VfjJoEkuxuNQXAqhBgKkDpviWY/RUSbUzjA0r9CW7dcnGchxvGsyonheu8UpGarKkpiTpykRO9Xw9dzTpNE41ABe+Q4ANgIVfr1691BkHwHPyySfrt0qfR1qgeUFjD8Ihy/gZnHvk7pKYkdxySWVjD2soPckt0+aukE3bymTciN4iyW7ZsKFQbn/mG3nj898kAftLccn43XurxPXTOb+3HKhSDk+1TBk7QIbt1ElDg3322WcNlS5kafQt/JhUQD5pok+CynmOTbQIjulvkaZyvqgIVbZXQ8CxwlRzNAmtfgE0r54qqQjWBstq22DAQ5BneZ1tzZleOyFk1SlPVXXdNikuXZHK46mWCpaKb8wk0Zmvf9/rX4GrvKKiXUUDCDlQpSM57fSzxO2qkjfvOla698jRBuLnZUM72OJkp4pkp/m2DdntmHzQgiUkyE2Pz5Dq6hq56vR9dJk5k1zvtrpGrj5zH53RXPfol1KD/qspH0epRw7cf5A8du1UWbToN7nwwovqfURbJPTu3VuGDBmisyiWV411onOik8LpwvyQHHPeSRwDrMw1bDkOvM55T1P3MeqnU0UNxcCJhzO2V8z6W5o/eeKEYMob7J2ClY/nsc6zuY9ytbQMwfJ3nsPhAQcYTAD++c9/CqugxSvBi/z8rdrx47TRlK4hKK8YnIyNYVP6M5OJ1yv5heXidrskG3MDcEalL+g3TaGxyRPXbthcLJu24qTiUrWpyZpQS1npyUKMVJ4BOGgJuRJEJTjJiQmyceMmfwzNluRl7kGiz/d9xBFH6CniRDMBZ/EA+jf6hsmTJ2sayzez5vzee+9tbm/SFnMpFiC484KJcvLRI0RKW27nqmYTqOl1zEoTwYysKZSYIIVbiuW6h6dLvx45ctLkIbpK4gdfL5EXP/pF8ZgrNUnDN7Ji46C+HeT6R6bLxrUFLQerldWSnZch/7nnOOmQnSwXX3Jpm0hV6T/pm82CERzz/dIH0s7oV5mUQExSqGPScJ4qLimVDjlp6rzYYpDaija4tbBcktwJkl1brw22QZcIUtEV6wq0rQZ2GoDedZuLJL+gXBJcvti02z8VX5tMdCdIfmFZ/WB3+w077tWa93TtlKWTW/xWWmPDveMDIncm5ED13//+tyxZ/Jtcdso+Mnp0/6aHoEp2y9KV+TLupCdlr2Me1S3HzDIbpOREWfTbenn9899k72E9ZPeBXXzB+xu8yRcgeUj/jjJ2eC9576slsuDX9Y0/y+RZ4pE/HD9KJu/VR157402VQJmkSGxZAICGv2jRopiPqUpnhmMP9mjmR3B6M+M2/MW7FKmfuYYtAcQBda0hOkhUTdj7jhw50v8jf1bVMZ1tc55Bx4vXOIMt+ZDvjBkzmpQX74NHvnlPVkiDF40BleaUz3ktgwiAmtBVX3zxhTz//PPO5LjYB7ht3rxFBY0dc9JaZjMGp1gXvaJK1btrNhTK+k3FTVPruVxSVl4pZZ4qleS6k9xSUV4lG/NLxe1OUEnoqg0FUsoa80HALxKo9ZuLpaTMI9mZKb5vpe48T5eVZP1zBl6uCxxUm1TRKJjcCYLXsddbo+2mtZMo1PisVGXaOyZN2DLSDqZPn66hrsy3zzF9n7m2KWXGOeuxx5+UQX1y5ZKT9/IthxrAm6bk478mNVE+mrFExyzGrT9c9zbGwI3zM8kt/5m2SFasL5Qjxw+UnH4d5b13fpRrHpquWc9fulF2OeRf8tk3SyW9R64cPXEX2ZBfIq9+skA1iP7nN3envFJ2GtRN/u+E0bJyxe9t0r4NGDVF5Zh+lnoMlgZoRUK/raBAiOXbgUlAgKDC5NXolmc42iCTNzQTjVKdNpgkO7TBqhqhDZaxnC5tkJmsmiB6dflhc2zaFW1y7aZildDmZgVZ4Y22lOSWtNREQctBmc29jZbVeYEX5XCCdMnzjYOA1ZZORJ3ZRno/MdQFmD3bZy8EAJTmzNRdLikuq5Sv5632F4njRivL5ZLlawtUmrpTj1xJZubTlNAiVGhasvTtniNf/7Ralq7eJsOG1vVQ9Rck2E6iSybu2U/+N2elzJ49W1dfCXZZW5zDc5aGT4gPJIAtAVNtUc6mPIOZN16/P/zwg/9ybJbM4GROAv4YdJzXIQFtLMSJub++Lfm+88478uqrr9aJ+UdwaZw4KF9zZ6nkia3jp59+6n8s7xP4Tv5Exw7PA9Sa90SCzrnWAgLHI3bYhd8AA5yqHnvsMRk/fryChx0ubKcnAOv8kpPdkoxJUFMGtnp4UV3t1UGHLBhAmkQuujDUpV5BWgmxj7oQZwsskCorUR3WP+ASticjLUnV8yX0o0Eo6f+zdx7gcRXX3z6r3VWXbMuW3AsumGJjUw02mN5b6CSEFr5QAkngDwkkoSUkEHoJkBBCJ9RAML13CBhjwHSwjY1tbMu2JKuXLd/znruzvlqvpJW0K+1KM8+ze9vcuTNn2m9OG3+WTtotLV3jqGqS4bByb3KzfdLU3KyieMMdi/PJDm+xSAWomoCh6NixY/WShenEiRPNIzUi7azYH05qVeU6OXKXrSSnKEekqZtuqLweXRTM+3Kl5qux2TGA6tBAzZslH3/r+IndBCMqj0fKK+r0R0KIf79dVilV+HIVkXHDHUOrj79ZHXdxopES/WsJ6s5VRMfd15lnnpnom12Kh3oGXFMTuGZMJDBmu9sL18xljipJWArhKgMCk9QH1Z2VyUh7R1cfNO/Q3zb0QXRsQxIMO6oLYVQNyWYkTbxi8CPfxjgKd1L5uagR+VWFZ6PPh2GWo/LgSE/y8zaKkdgN+mS2T1UJGpucPummf2KJpFesBEfOxDINcLjzzrtk+qalss/M8SKsCjoRGITRByNw5LrD4PHIq/OXarQp40tVfJJQo6Y1ZPtky/FD9N2X5y3pGBS7M9MclJMOmSaDi3Pkmmuvj3Qsd4SeOwe8lJWVKVBloM/kAHjDcMIE3NRMnTo1Ljh0x8MKmF9nQaT5DkcGTNowO+kA1gioVWAJv+WWW0b91rrfSeSchYNbLQNDEdJjwG4vMJgj/kLEacJ+++2ng7u5TtWRiQJuFX4w//KXv+iElqpvpVu6LPaYckqKciUrUXDZRiGYY1X03hlr3lBYuSqMfkxuzH65uT7B4lnBq9eru9MARHWsi3BzdEKPfG/Y4CIZPKjQmSTbmORzfF5dLKGDF24H9LZRtOhtT1aWcr3QzXNoF33U6RP6G1b/JrBfPLtFEaZPn95q33ri4uYq0UCfvvSPl6mQ7tzjZoiAz9ugTaJpUjdaR5EXjIi43fc9Hgk3tsi7C1ZotG0mD1Vj42MOnabqCNxkLlv43zNk/53Gq9/xrTcdqnHf//wHCdQ2dQ+sNgdkzxnjZc/txsij//lPdCvbdvPcjYcset1cb0CTUWFCMsZzAotvrlmIV9fUCC6XcOrf3Trqeh8Mqva26YNwO6N90OeVMcMHqO5s5fpGWbpqvSxbVS31jYDwLOV+L1u1Xj0LYTzFOIL/5UEDCsTTjk44i2NCI3qqUdirtzr35/EI0iAkHWy0kOkhqRzVW265RVpamuTsY3cQf2GOWhp2m0C0MiqPCYPlClaqgAizdPGILFxWqZ8ZXlrQOaX4QEhGlToK3gu/r+ycTUFLUEaMKZH/96Ot5cp731MO3Mknn9zt4nYlAUS1GBugywVQxRNApgYmE/fuX0xGWP3iH84dEGegEmACINXEA+wy2HFk8AMQwmllpW64kdxzA0VAIQMmokYz2cKtwbKYdDGsIT6iKpM+aZEu3yDfPI8VsxCX+2Zfc/LL3ufUmZsrSlrkj/RIg3e4njdvnurh8R7PdthhhyiINmVP1RF9McSueANgYwC8Shx55JGp+lxS04WG5J/FB7RNNLDQAaTn52XrJNTdSbLN7zKumRADlhjacFVjAC7RtM1FQDOvwuVh8qurb1adNia/sIQl1++T0kH5jiAqJl3zOXNU91RZHhVV0hb5RpcCACPXr5wi9iCnbbu5ZJ1J85xzzmkV3YBUbl544YW6SHvyySeVI3fGGWd0ak/5p556Sj6aP09OP3yabLbF8OTMT61y67qAyQI3niP1ANfauJbyeqSqok5wJUQYPsRxO1VQmCvDhhTovdwcr0wYN9gxRA6GpKzEAXPVtU1SWdUgpaVFIqEucoNZlOT55TfH7ySvzHtYbrjxRrn3nntcme/+Kf0PRgLjKmpL7vbg3r0M3XsTaH88Q/UKgKUictpkB+3YvN/po7u9x3xDqywY7LAPkmcYavRHzvHKAefVq9cO1mzVr2K+E5tnvBvQC6Efi8dW78ZGbu8armqOX8cwdtJjXGOBQD/nnHSpky6n3963U/As8RE8gY+///5cgSG6/8wJ6iQ/gVfajQKLnI757Gtfy5dL1kpetl92nDJCdt1urHi8nmjHxycgwRfZHUMvaISGIxsdICIMZDpqpMEYtjyDfKdDICg/3X+KAlW8HPQWUCXfOMFGv4stHgFVxsKy02XqxRfoODj0xoDCBHbfMtxNcy9evJkzZ2o8Bkb0QQGcdErogOgasf2bb76p7pfosHBJZ82apRMfQIbvQjtE/iagUgHAJB0AIu+x4ofLCa0RIzKocg/6Y9SB2BIwyzsEBgJAttuFDgM3+QIQk18AKd8hf4BB3LTsueeesuOOO6oeLoCLYEB7LD30YYr+jGjuiiuuUHc+N9xwg5x99tkp+lrykjULE7gJ0Ji6g7PN/fYCtA4EglIMMEjBJEl7wAIfzksg4IgF83K8kp2NRXMkZ+bYDufFlAEOK2oAgE4mtlZjoInUxpEpkUmRsU8/6Vy0EbuD2x6PFOXnSG1DTXSB0MEbXXpMXz3ggAPkvvvuU07rpEmTtN+h9z1kiCMdayth+ivhyD22aCtKt+/rxJ/nk6UL18oL7y1Wjhr6gntsP1ambDY8qpbG8GAwC07sNYTDyjHnXJ+hOhdpC9E43c5hJIHGFsE116BCn7z2+hsRVZeIE/0kfIN+xta5GGWi5874yRiN6gb9sa3A2IYKW262X1Jl5Z9QHySDkU7h9JI4OeZ5OCwDinJlAEbgHpE162plfU2TDC0pFr/xUuDCG3FSSektOPw19c7imzGQsnNk7gEncM6POSidQ9KAKhNaTW2dDCrMjoqrulNw9LnQz/nP6/PktsfmS8X6BvH5vOoU+aJTZspBu28WBapYsBIcBeRIA/N5RLCWpbMjKiEgKmOiwnhAXUAYFrs4IgYnVuL/4bAU5fl1sO9t9rrZEYTVEnWRiYEBDOVv3M6YgJjcgD5zj3gARDqaCcRjFQoY+fLLL5X7wntwL1GNwO/inDlzFGTy/jvvvCP4UkS8zfVzzz2nkx+6qCbgUJx9xdGRmzZtmlreA4LvuusueeihhxT8MqjSyZkk99prL90umPiAVQIDA+AH62RzjR9B8kpgkIDzgCUyeqiUCeDLLlHkz73jGO8hQjPvagI98Mf3mHjQWSVPqDEghu0o8B51wLs6gbfxAnGIS5z2gKSJRzIdpUkc6oVFDfQnfX4dDcotLeg5wyVpH9C2UZT2b7O2ZkenuiblhCoY8TBueWVQca7qlTE5Omtsh0NqwExswgbboMPKZATtiIveaaJB6Yn3DLVANhNzom9vHI8xG8iV6vEHsLrvvvuqjipeAnA3hTQJIITXCuo4Xli7rkJvJ0OcHC997uFKbPWySvnj7W/LS3O/k5r6ZuU0v/LBEvnrWbvL5pOHqSU/4mTVf1bu+QbOqKlvBaZwZCMqGYHIeMHGD3wjimDbykiH98Piz/aqykb5+modZzqr79vRJ6gHxsTrrrtOx1vdBGjnnXXMheseL9B2MHZy9EK7s3KKl7ojNG2rD5YU525YMCqfy5HI0U/iBdMHteMRJbKbK9HVYKsbAJX+3N6YGS8/8e7RJ2lL7j5JuswxgFXGRhYHzJuMl+2Nvyb9zozDZg7gm+2lbdJsK17SgCoT6rLlK2TzsYOlAAXoNirXFLajIyx0nPdj6eiFCxFJb21VvRz8f/+Rx688TA7bf4p+Z9qkMnngxS/k+/JqB4jmeGXux8vkF1e+qDtPERcCHH7GA7K8vEauPGs32XPnSapOsGQV+mgiqifU2TyHwjpJjC7LlcXfLdVKp8J7IyBCoSEAnACrmRiYgDCYoPMQAN9wKmM5iMTD8bcBg4A39FiJBw1QCQCsEgB+iArhakIjA4IxUMKyH8t2Oi2cVAw33IG45AcQjK4c6bKRBXqsJgByERXT6RctWiQPPvigPProo6p+Qf7IK3nBmIrAAA33hzKSb5ya/+pXrV2cUYeIKTF0cG8xCVjmfb7V04Gy4LP38ssvV/dVBx10kHK24uWDQYf41Afn9D0zEMbGp602NzdHFyPQExUM3nEHVCGgGekR2kvT/Z7Z8pF3yRM/vsEkyo/6MYG0iRcFEZ0dD0xCcY4UB44nzsMR6/u8Hod75vEod5VF9oghhSquA4SooVNDOMbXopMwYyGGpnBiEe/xaxUSzLcD3gEF3tbuq1ollugFefZKtt8nDZH+m+ibXYkHqEIdhf7DwomFJxIJ+gtqQIZ7Z8Zj6vabb76V4jyvDBuMn+1uGJC1k+HPFq+RLY6+Xd1+ARKYx9h16sm3Fso7C1bI23ccL5tNLJPCkgLVWfxyyTr5buV6mQyAjRjBkPyaqnp58qUvZOvJw2T0uMGydKWj+jSitFCKUQ/A2rw7gW7kzZIpE8pkzluLVA8+2UCV7DHW/frXv1ZGAVIrxkLGdWwPkHQhJWL8NUH7eCik4N7cS9aRPkjfcfdBxPSMJUg46IOoYeAbmGViu30wtKEP+gyHOOToK6M73lUOOGMDVcP4oBLhyEKlSzRQF45ZugDGr6oZi0mLsY+5hDmO8ZcfdGBhb8bq2DGY94jHmG3GYeZb6o8x1R14zlhrADJpMda669rEp84Z302aJp77+xtGafNWF49wuNaWr5LJO04VPw6UVRm4i4lFuKMA3sevPkK232qkrFlbKydf+ox8ErGUvOmRD+WwvbfQzrbnDuNEbhH55JtyCdc1iSfHL7X1LfLJt+W6omXcppF+tWSdLFxeKVVwWH1ZEq5r1nfI5Z7bjev8IjUE2z9HJo0plbnfLlEuH9y73giIkg1oykSgSqOkwbr1UzE4QkfSNHboauLhacEEuKKIy5l4Y9NAnI9bKETXiOX/9a9/yfnnn6+d4uuvvxY4qExsd955p3I2cf9Eh6EjE5d34GTCuTn00EOjHM7Jkyer7iZ5hKPzu9/9TvVZAcTozgEyAaKk4zb6gtuK+IvVK14A3Dp5iNR5F4CHQRegl7RNueEO06F7KzBIUSa4v9AT8B1P3YU6oM6oKzPYcI9BzT2g0U75ueNRh9wzAIOyQg/eJ5j0OCcegxr3ODcDnUZ0/RGH75I2gSOLC348o474HvkLhYK6MDYqQa5kun3KpJjtz5KhpUUK6hDZA0iYnODAVNc3S6ku8h3n31qu5qAUqnqiAygRhzKh4o9xaEmhDCjq2Am6Q9+Ns9+IdxSPSC42AKhJdWtShEeAo3bHloBJyl1XfB1aI6VAtYfz7gbqi/5HO2TjFfoUC1PGELPIAxDNnj1bJR4ff7JAJXIjy4oTc2HYhQziQmz7LYbLs7/dR0aNGCjzFyyXE//4jO4Etm59gzz8whdyCYZRHo8cMGuC4MT/g89Xyn7MZQ0tMmPqCBk3fIAsWbleDj3vMbnr4gPlpCkjZO7njkRG1eqSxe33ZckW44fIc/PKoz5qUzG+AH4YY2EEAFT4Blvkop5VUlKiW+UCWidMmKD9lPkakJ+KgBcO7YNlRbpAw9BpTWWkD4bCUlPXLLkxfZB+4mgOR/pgtk9dx8XrgwOL8nSHKO1L7SwYwSP8YgNGVNxG59uofcTG6cw1gBnpUCAsChzpM+5AP3TPrwaIMl5Sb4yN9CsC8RhnCaZvM+YyNjMvuIMBqSYez6h3k66Jy7umzZm45jvuOaD7o0Xkiwz6UBbnvKpE3kmLf5Nx9/GgnSfKYftsoQ6OR40vlb22HxsFqmsqGxyubTAko8uKZMjAPFm4rELq65qlwO9TTurph28tQwblKVHRM/nJflvIqnV1MgF3IICa+mZZtKLS4YoOLer8KhsHu9k+GTwgX2prVmlDcOe/J89pTDQq6sFM6j35/WR8C0Di3l0LkAoANw3ZfIPrZcuWmUs1dqKj8D6N3P1s0KBBqlOJXijBHDmn09A56Kys/B0lfodjxwCKnigglXDzzTdHQSqdHYCGU3Le58f166+/riAI8IuLLb5FXMCyCRi98T2+/dJLL2meeQa38tRTT1VOA9ekh5ssOjyB+oWr6x5U9EEP/0FjJpujjz5at1pFzxcw4A4AQTPoxN6n3CZQlnjx+AYDoHnGufvavM89AkfafFvpmTjmPY4mbd4hv3yTgVm/A2hjFmlnonGnlfh5ZIcdVJC0/cHt8AqTJQF9UzM5weXESMN55tznGr+oDreGCXcDLTWBjf7CmoaqRpmJ0SGZxsS9DnSAC2q+u1ESnbjBBKsA35MVbbfu1+GUY+z5/PPPx+WsuOMmck7e6UuMeWYC5h59hXaGmg7GiPRrQFB2do4MKfGLD/rrjlyJfKVzcaibnx08TWZgpxEMycghhTL133PlzY+c8aq8st7ZNTFLZNrEMk0cUKoqasGgjBsxUH51zLbyn1e+lvw8v0wcNUj1WuG6Erbine4sKNzFiViGDx5cqgsI1JPMYs4drbvn1AX9zF1H1BvXLMRRc2KxgU4+46PX6+syR7LjvEZ2VAMI0gcjqhTaz3St1roP0p4d922t+6CnHkQRpw8yZrj62Mb5cfTSUddhUadg1RU/oK4YcUhE33Y92DihxO5EvIB4w964uMCMoe7E6EOMh2ZMNRxW2oaOjzEIO14abc0B7u9wzndiA9+PbYdJA6omszqIxlkpxGamo2vSOf2IbZwJo6ZR9Uu339IBDbyLQ+xgc1Aru2z0IB0crrrvPfngi5Wy28zxMnmTIfK3iw90JpuIH8GLz9rdSQ8QHQrLJwvL5cvv1sk5x24vI8YO7poVqOEaRfypdVSuVD1nkmUigKMQayGfqm8mM10GLSYUOJcmoAdJJzGrOO4TDzUTYxjBPQAh4IkJC44NPxNwrYRLJ3SIAb2ASNNWEekDZBlECUygJqByYEQjdJpbb73VPFLO6nnnnae05hkDMbvlIMZCVYD8wjEAxGF4hZqCCRiHUSZcTpltHHmGGBMuLfmkjMQDKD/99NP6KoCZPMWCdpNuTx6hH/Sm7KzAEwm8Ezv4MCDFC8Tl19bzeO9wj3fiBdKJ98x9jwHTtAMnlfhpxUs/kXukxqRXjLTJAA1UIvxeMRrZmp9IGfCDiESprhHvFEHlwDJvYbBUZHY/0kmxnXxGHPKXsKU0wUUfytvQhPqAz3EJ6HqWSHnai9MWvXmH79JmACrdDfQTaMaE6m4r3DNtjXPGBUAY/VQZSvGbXXezo++PHzlQjt17M8cuAo71gHyZPHZwFKjq5grQuiUku2w3VrmvbDizZnmVlJYVia8lKOecPEvOOW22g1NaglK9rFKefXuhbDWpTPbacXzUICsZGUbCDGAy9aJtMBkJx6ThHsN5xHfcP+Ytxm3G3JKSwZ3zwBPzrbYunT6YJcWFrfsgfa0msiWqs1h0+pTpg6gFtOqDBTlShFcjQkd9MDYzEW7xkEERDqTpd+odxnH0X5CXHDsf96fj9Ul3n3HHdZ9TR8w5LP4Sie9+N5HzttI0bcOk0f3RIpISotfsnHz59vt1DuDrJkcCTkMhK9+IuI5BGme5JqBcjgiskIG/MSAXnLST3PX0Arng1tfkrR03ET/vmT2xzUvG8bUHyU+WnH/zazK4OE/+cMqsTvt81SSzPNJY0ygLl62VkaPHtNInNJ/sqSMNCaBKBdPpMy0AtDEmMvqXTGQ77bRTK5BKmeAaoytqjNd4D300JisAICoBhgsJRxaup6EHQCRWtQDXUwb8ud1dwWEFjJEWelVurih7jTOwm8mQzkYa7sGY5wSAsdF9JR7pciSfAHMClsuIvky+qUPiUDYToAXlM2DK3O/pI20MVQbUEgDX0C82kG/KQhlMAFS4y8N96pJ4lNcdiEd8EwAYtAfKbtLkHd43126XN+Y9jqY/UDfENd8iPfoM3+LcfI9tUwPBgOBJBMOVZDA1ND+6vWEco7IIjaBUDBlk0IBcYV9wdBydiQ1uTUccG3fpI+exCeOJoq5ZVQ6GlhQ4i/fYOHGS6egWtMVQRUIBKSsrjdaNeQ/6Y7GPgY2pN/Oss0fqDnE/OyEa9Rj6IOmip4qKDSpBLP5oo7Szy/7yV/muJSjr19bJgIF5KRH/Y5BTXJi7QToXCul2taZ80XIHQ+LP88sN5+wps35+v/ztkQ/lT+fs6YDQxhYRfoT8bPnnEx/LsvIauefSgyWPTQrMPGYS7eoxGJIvvlsnK5Z9L8ccc4xsu+220TGtq0nGvkffYrzABoDxknGRHwwCGAUwGViAM1YTYLKUr1mj/S87RvU6Nu1OX+vCbYM6knnfNUyZW9Ej9cniott9MJpi5CROf+Mb9CG+qfL/1sNibAoJXfMZ+mQg1CKlpUN0sWZeZM7EHoJgxkXGQeqMsZU+xrPZXFIAACAASURBVNhrAs+4NvOeeY95KTaYsd20d9LnXdJ0B8Zf8mG+b54Rz7zLvQ3Iz8To4hGgOnLUKPn2+zVSj6Ujq352a+hGiM18bN1GG1gwJIMG5cub/zhOPvxqlTRVNYifDh37gskLOm3V9XLaYVvL9MlDZfDggq6tUrM8UlnbKN8sXSfb7LhVrwJVBmnDWYjVFzHFTucjDROdUQPw2MAA46FYjh2dCN1O0zYQO8N5pfykgd6TCYA7VuikSaMnTiwYpZPxHHUBtqA1AfALuOF7iKXgyhDorBhukZYJxMHACnG/iWMMEwC5xoALsRYiSAJpmoDOKoZepux06FhOLK6vyKtJy7zbU0foB0hlG1nEqbipAsjHC9QDdKLuzADFgOQeeHiPctJWiWfqiHehpzvwHt8ingGrBmCaeLFpc58BlYnP1CPfYwDlXc7jBTyLNDQ0qxEM58lDqvG+1s49tXz2qsFNIBSO+FRsJ35nHqnRjpN2jnGh05n348VVy+KQgt/8/A3APzYq9cuvuwHwg9sjFraMFfQ3gCmgB2BKPbsD7XHC+E3ky8/mqzHNAMb8iFtDd7zunrO4yWKBY7jmqO1EdhfbKO3GFpm5zVh5+eZjpR7jKANO3REbW2TLCUPkhZuOkd1njEseSOUbwZB8/l25DBg4QHVI4wEOd1a6cv7MM8+o5IixA6kQUicAMSCVe7GBekKozta+Xd6ZKTbRrl5H+2CxwBhjLNuw9O5qom28F/FFjEcKjBKTskBGlSEQ0i2X/f5cHfPMOMl8BgMHejMWMiaaMdXEic0p96kzMw7zbltjqZkDDPPGfCM2bcZ6kybjNc/jzQGtZ4TYnHXimolkQHGRrPl+qQ5WnXg1OVEDQbWm3HRMiZOea6DY6AOhsOTl+OXYfTaXLPSzujpgebCCC0ltY1gGDijeaCLe6LspvMFETwOiomMH6RR+NmlJk2/yb4Jp2OaaIw2YzuVWD2Biou0BYOCa4C/VBAZD3jEgiM7pBogYvvEe3+I93idwDag0HYe88TNBByzXNfTGD6pZaZIf0iZerL4suq/c52eCSd/co/MCVOHGmhCPc2me9cSRMqI/jJeEk046qU2QavICDXmHMunk46KXicORsjPYGVoTN14w8aAN523Fc79LfVK/ZhAmP+SL99sKtBe4DCoCbCtST90Pi1rstoZcyfl4Pp4ClI2bnPRIBf+wcG+gYSoDeq64mqNfs2hkDACkAlbbAlu0gVEjR8jHH32oHhOiPrZTmdFE0g6GZM+dxkuQrVwj23C2ei0Ylr132ER8LCi6yfhplW6k7levq5P8/BJ1tN/qeRIuUG+CqcBCAqM3ACruw+CmthVoO/RPo7fdVryevI90N0fiL2yTmQ/1lkSCG6aGbiaPz+awcqdZPJpxj3mWsZGxkH7BuMi4msiYShq8k8g4TPr0x47mAL5LmsQj/Xj5SBpQpYGNGT1KB4If1tTIABxmb6wn203Ct/M6latblWEE0U68yCNH6d95p+PYbcTwZsmni8v1c5MmOZyyNmKm/DYrF7NCcu/2kfIPJ+kDAAoGMRMAaXfffbcaQpmGi4jvggsuUI4e8WjUbKFIhwDo4KfPvVUpAyMdig5AZ0TsDwAkcA2Xkk4LsETtwABVuLQATSZC0kU0j2gZ4wyumSTJB/miI8LFRQxuAq6bmDh5HzdYJjCpMkiTBvqyJqDPSt4pP3Qgz+jWGrEMPlqxmnUDefNuTxxZ8UJXfNGypaq7ntr7vqm39uLwjHqkDjsKicYjHWhFmiwMEs0H79EWqqrWC9uK9jpHpyOCdPd5AuNkZz6B3QDWIW2Bxc6kFS8u/YkFIQDouOOOU48cuDpKJNAGdt55ljz99FNqdLvDdmMTeS31cVQ2y05GbcxbbHAFRxaVimTWlzdLVq2uluXltbLtjK2TvrhALQMJ01lnnaWGoon0b4gNYAFLoNYXCoYkCyXaZJY79TWaVl+ob3Ikf6ZPMr/Qj5jPurqg7Mw4nOjY21G8+OyLLpL6uON+om/iOkrgVPZG6Eyj7kzc2LJE2OrX3PeeTrQ/+clxsTF69BqQSiNkogWEZVqA24nREwCPAJg799xzdSUO8Nttt90UrAGWTMA/HztM8S4DIQOj0SUFrLOKN+AOmgAozTXAD1EU30Flwq0yAIClI/PMAGic3Ztw0UUXySmnnKJ6V7ilQueOgZmAThwgE3CMDqrbkArjKlQG+KGragYP8nzEEUfIAw88II899pjsscce8sgjj5jPqb4d4NnkPfqgB04QzSO+Yyeg66+/PmGQ2gNZa/cTTHjQt6MBMDYR3snJyZb1tc4OVbHP7XV8CjD5Vdc3SU62v0Nue/wUEruLizZ8GTNOJApSTcr04Zy8fPnr3e9IAPuFthnr5pWeOTIPtTcXdfS8K7nM8cm/nlwg2BX/+Niju5JCu+/ARWVTBuNyqt3IroeAoOLiImlqCUQMnNKlklyZzJBTgD47e/p8/qj7KJggYISugtTeKnpS0SSDCASY+/kKaaltFD++0NoTwccpte7oAFBxiUbjRFMgEO9+j93zeaV8dY18vniNjBk7biMXPT2Wj8iH4AYazmGiq9eezmN73yPvgEv2kofDaAJiPn6xATEfBgC8RwCQuMXscCwZLJlACRzN7lBc4+qJtsrACFB1PyNtgI4BhgBWjLLg8AJc+WHEgTsqPBC4vSxgaGW4sagZGOMwvmnUAQCq+GcFfJqyos5w6aWXal6NrqteiKjOnTs/5n6qj3yTMrzwwgsKpDsLDFKdv1SkT9+hXVD3Tc0B8bG7XQdjUSrykVFpqtpOUPV6i/I2GLgluwzdHdeQBEyatKl8/fnHsvj7Stl0YmlS3FS5MaYZj9xldzcf97k7To+e436tMSBvzV+qrqBwC5VOAaYC4zleKQYYDxfplMFMyIuqTwRUhaKwMK/TC/Z0K2JSOaoMBCf/7Gcy/+tyefGdxc6WpZ0oMS6p0J1CJ4Qj1+6AuD4326fPdR9g98OePvf75I45H8va9U3ym/POja5Yejob5ntGLA0HzHDqzLNMOQK22bIUIwmU7uNxw9AdhZOK7z2MqOCmEpjEsKQHXPHDEAu9TkAlz6APrqMYBHmOsRS0AqiiUoDRE89YbWKJ6p5wyBfcgVdeeUVdTvE+qhYASkAq1wz27CYFh5X4gB2Mw3hOuoBUuK3kB9AM6MNyHmt/E0gPlQec/rNJAenyg5sMWO7JAB3YaQvwzM5ZuN/qL8FRnfGok3a4Et0NtDHnFz8lhrn2nsd/K33uhkMhqahuEI9kqfFi+uSsdU4YBy774yW6F83V9/9Pt7yM63W99WsdXvmy8EXLrlxeZxvcmDcwpjLPO/Z9G/NyKi6zffLKe4vlxblLdQEKgymdAvNXUWGh1NY1S61yvlvjgK7kta/3wY1oEg4LG0x4PFnKANroeYbd8ITdM3ISMg9naNrW28p2m5bIO3efLP5EdzzBajSyUwvcVEBq6cB88akFHFtLiTQ2BXRrOrLMzhVlgwAaSch0Z5PI9snKletly6P/IQUlI+TLzz9rpXPY2eSSER+H9OzGAqg5/fTTk5FkQmk8++yz6ioKB/CoHyQjAJLgOgLcEKnDlYRDitsZHOMDJACobvAGqEXUbqwMAYKI703zJi7cT0Ai90iL73DOt4yrKCYznhndVnd5AI08J19wYHGRhc4pKgQs0viG+T75wULf+EUFrBKXAdMEwCzfB9Ai/meAJh3KCHcYTi8BHVXeN2Ux76fqiE4q3OLHH39cd8jCo0d/C+gyV1RWyeABeVIyIL/LXFU4aLSLMGBU2CVmQ/1DU+oUgwcCbSP2edrTPcsj6yrrpGJ9gwwZMrhdQ5l0KAv9f/bsXeW9/70jH99/ikydOqJ7lvQefHoHFBRQPhgpbD4TDbgCq22S6jpnR5/CvGwZiEea3goYK/qyZPdT7pE3PlohH344T9WQeis7bX2XBf0KNiAIBmRkabFkZ3e8A1tbadHHMI7ss30wtuAej1Ssr9cfc1l7xmuxr6brdVJF/xQScebEiRPk42++lrkLVsgstjeN53YjliKAz2yvDDdW+zznPaM6EBbJzcuWEW7n1cnyJxebl46ufVky541vpLK2RfY9aKdeB6lMhMavKMYjmR4AaIC4KVOm6OQN+AMkMpFzHgtSKS8TkBHnMzAx0MHZNMAQgAkABEByj28g3uWcb2EwZQLvkV5sID5xaePGuAkASVzSA/CawD1cY8HVdQbKkOaHcxOIT3pwcDG0AhxTl5SPspBngknblMW8n4oj+WFhAHcYneH+CFKhK2CdPoXboIFFoY2kO4nSnnWJV91cRd5w1T93PFke8bk9HcQ8T/Q7vRJPXb4FdZ90XHkhoUj3QJ/aZZed5d1335Gn3l4oU6eN6p73g7BIXkG2jBoUcbXEfOWe70JhKR6YJ8WlEeNJPMykaFeshGif7ZWvvy2Xj79ZpbrvuMZLx8BYmI9h4/r16ku4BKDaxcC4yQ5U0RDTxzK6D0YLFTmJeEyoa3C2K83PgD4ZW4R4112v/XipRaypH7j/Ptl5l9ly5AWPyXt3nSxjRw9KrHPSyWOd9Lu/gxiuvefuuKk6L8iRJ5/9TH5x5QvqFuVvf/tbqr6UcLpw97Aah+uIq5ZMD4A5QCE/ggGW7ZXLxAHUmeAGdqRp1ARin/MsUW4w4NINSAG18QLfBix35PeUtNx6rCat2HTdZTFxkn2Eowtn98orr5TTTjtN0k0kmOzytpce3HY42WvWrJVVa2plWGmhsz3ohnVGe6+3fhYzMbZ6qOl1JdFWqfT8hYe9u4Oyal2NNLWEZGhZqS4mez4jnf8iHjvYvvgPf39DRgwpkJOO3d7ZSarzSTlvAD4DG1zrtUoGBjo7VPHr7ZDtk3XlNXLI/z0iVbUtct+DN3baIK0ni0D/Y3yEW5/l8chAtmc3jKvOZqQv9sFYGqArTp9cWyPNgaAMLSuTHNemMbHRM+natcxIXraZ4O69525Zta5ejrrgcalH7NHhvtTJ+37KUirIlvkffS/HXPhfGVhSonux05l6O7D1HHqWiLqNQ/nezlMyv+/mQiYzXZvWBgrAQcTzASD14osv7tcg1VAFjjg7LNU3t8jKNTUSjOfn0kTuT0f1Hx2UlWtrpKk5KKVDBqc14ImtGlSHkBhMmDBRTr7sWXnm+c9F+rrRji9L6usa5Ufn/Ue++b5SbrvtNjnooINjSZNW1yzOUavKz8+TtVV1sq7SsUdIG28N6UQtpIRNAVm5ploNqMpKSzOqT3ZEypQAVT6KzuIVV1whH3yxUo767eNSW9skgtPiTA0F2fL+vO9l/189KEHxy5Nz5rQSF/dmsbAcR2SMsQ6cIBssBTpDAUS2TNy4xMIFFYZfNjgUYPHHoN/QHFBgxtaqaeMsvjcqiW2jmwLyw9oaZ0IsK01rA6q2SIRnj2effUaGDR8hh53/mLz6+jcOWG2tQtzW65l1P9uretDHXPCEvP3Jcrn44kvk1FNPzYgyGLCKzUFFdb2sWlfrbNPr0vXPiIKkKpO0V49H6huadXxC353taBm3+lJIGVCFSLgaGjp0mDz77iK5e84nzgAfY0yQEcTM8UvN2jq59r73pLyyUfbZe2+18k6HvCMaQexPwB2TDZYCnaEAOraojiAKxc+keyOCzqTTl+OqJ42cHGlsblGjGKzce8eKs5ep7PFIMBDSfc8DgaDq8WZye0HX/MgjDpeWQFj+9uiHUr22VoQdu/pSYL71e+XJ176W599dKCUlg+XHPz42o0oIWEW6kc2ucQ3NapymUjYLVnUcQgWnqrZRbSUYqzJBV7yzDTClQBVF7Q8+mKs7AP3y2pfkxPP/qzu+ZAxnlY5QmCPzPl0uU475pzz6ylfqGumJJ/6rhi+dJXYq4uOmiX3mUUFIN394qSivTTN5FID7jo/ayy67TM455xzZddddk5d4H0oJAxw4cEWFRaovt3x1jeguTJm46O5KvTAOekSqaxtl2er1UlPfpJbEiGXjuZDryid66x1sDH75y1/KE298I1sc9Q95c+4SHfP7xELE75WWUFjO/ctzcvhvH5eRY8bJSy+9qIagvUXvrn4X/XkMTAFhuF1asbpa/Rz3W+mGbtgVloqqeu2T7OSFhT/c1J6wZ+hqPXb1vZQCVTKFGBG3SRhn3PvcZ7LDCXfJx5+vdMQsbAiQriHXL8Esj9x0xzuy/fF3ydrasO5EdMMNN6QNSIWbihshjHawHGfisMFSIBEKoJP62muvye233y5XX321qo0k8l5/jQMgYxIYNmyo7ma5orxa1lbUORuT9GXOThYGGgH5obxGVlfUSlaWV0aOGKGTYl9pCzfddJNui1wfzJVdf36fXHztSxJmEZKpqmoRBsu3S9bJjifeJdc9+IEcddRR8tmnn+o8kan1hicAvKiMGDFcwp4sBWjla2t1o4k+sbBIpGKiov4WWba6Rtatr1fXhaNGjuwTbqjaIkGPIEUaGE7aN998C1mwcI1c9q+35OuvVjoDQTqC1Vy/hFoC8u9nFshf735XfP5cOf20U+Wwww5ri469ch8DKsT+TKLp6makVwhjP9ouBXD1hZ/Qp59+Wtieti/42Wu3wEl8CEdn4MABkuXNUjWA6rpmCWOJ3NfAamRCxLd1VU2juqDy+3wqgu2LevD0g1+edZa2lJse/kCeeO1rEeambrhFSmKzSzwp2mGeX+oq6+W6+9+X+V+tlk02Ga/bUWeymoabACyyMYgDV8Ddp322BIJ9rw+6C815ZIxpbGqRymrcK7aoVT+0QIWrL4ekO/xvj1i4B7rooovl+htulHAoID87eKr88bTZMmqTIY7TZXS/estTCytoBqVQSB55/nO58JbX5dvlVTJ5s83l0EMO1v3b6RjpFB566CF58skn1T/ohRdeqDpjPZ2/VDj87+ky9KfvIUL77rvv5Nprr5UzzzwzLZ19Z0J9IM1gA4naujrJ9nmluDBHivNzHJ+p7bnCSffC6WQYlqamgFTVNkldfbM6Sh9QXKwLGuPbN92L0dX8vfrqq3LyyT+T779fKrO2GiF/On032WPmeGde6k3/px0VyADUqgb5x2MfyuV3vC0VNc1ywoknyi0339wndc8xIIZZg69VtjkuzM+WQUW5zuYA6Kpkcj9013eWR8LBkNQ2ODryqB3RDwcNGqgLx74o6ncXn/MeBarm4/hqvOSSS+XOO+9QTxO/OnY7OeWQaTJ18lAHLDYFROVr5oVUHencuM3ye6X8hyp57p1Fcu39/5NPF62TMWPHyeV/+bMcfLADUseMGaMTe6qy0tl0MYC5/PLL1Sn5T37yEznggAM6m0RS4gNU2Sb02GOP7dBnaFI+2I8SYSBOpmsuOBHoNN9///26NapVFel+Y2LxjR9cjgwnhXk5MqAoR3KyI0Y5mTBZqqW7Rz2H4CgcXVS8HGR5sqSoqFC5V2wE0V9CXV2d3HLLLXLFlVdJVcU62WHzYXLJabPlgN02dQyCmZ+66s8zmUSk3tgsItcvdesb5NaHP5Ar7nxbN6LZfocZcsXlf5E999wzmV9My7RQfWMOqqmplZZAi+Rl+6SoIEcK8vzRTVMyDrTqghFfxQFZX9esC8bmQEA5qFj04wWhry8a3Y2tV1iE7Nd+4YV/UN3Ke++9R256aJ58+d0aOfWwbWWPGeNkUFmRiAGrDPTJ5rLCPaUhoIPUFJAFX6yUe579VB5+/lNZsa5BRo0eI5dcfJH8+Mc/1gkIx/MYnaxevVr11NwE7K3zzz77TIEh4APr1d4KgCkzicGtsyE5FGCVzC5ctL1krJhVTFZTo75/99prL6vPnJxqUikGEwa/2to6FUWyBfSAQrbT9IoH8THjV7oC1siEiBU/3NP19bS5gHi9PikudrYhNv07SSRL+2RQ7/jFL34BH0euuvoamfvlKrnw1tfVxdPeMzaRXLZIZX7CVVlv1StzGEwWX5aUr1ov9z39aRSk7rjTTvLHSy/tFyCVxsTYhlcAjuurq6WhqUn1VnF6j5QjGzppO08Blkh2ayafHpFQMCTNzUFZX9ekng7YAjY3J0fLiQpHphsxdpZsvcJRdWcSAHjjTTfJE088KatWrkC9RvafNUlOOXRr2WpymYwaXChSlCuCDkpLSEXz+n4UvMY0vgh3QOPoeUS3gy3Usr0izUGpWFsry1dVy8OvfCX/fnaBLF3NHvVe2W332XLKz36mPmDR4yN8//33amzCdopbbrml6vr09sC9YsUK9VELJ+fQQw9VN2Ca2V74w0k8lrNYZMbbdrQXspTxn4SLClfnwAMPlD322EO3Xu1OoVhArFy5UtvM8ccfL7vsskt3krPvtkEB2j+cnerqGmluaRa/zyu52X7l7OTl+MSn2zgyKMWMWW2kl5LbromwpSUodY0t6sEAx/0Mqbm5OcqtAaz1J45NW7SGU37HHXfI5VdcqfPT4CK/7LPTRDn54GkyY+pIZ2tUVAIUtKZwQWKYK7Qhb5asXFElr7z/ndz55Efy5ofLhX2vZs6cJZdd9icdM9oqT3+4zwKfuRG1nFAwKH6/T/Jz/FKY71fQqu1au2Ev9kNTEQavhMPSEghJQ1OL6oM3NQdU7xbwDTMKLmp/ZgT1OlA19QX7HrHkv+64Q5586hmpWFuuj0YNyZPNNimT2VuPlp2nj5axwwdKYa5fcnN8wuDvhyvKj1UTW6w2BSTUFBDcNTQ2B6SuMSBrKutk3pcr5fUPl8r8r1bKkhXrpTlE8lkya9ZMOemkE1V0jgua2ACQvu6661QESwdAFQALyt4KTIZ4Hpg/f766GTn//PMzZuvC3qJZJn73iy++kBdeeEGNEAE/XQ0Mch9//LH885//lN///vcyfvz4riZl30uQAiw02AK3rq5ej4BW5qNsJsw8v06aPm+WeL0ehzMSwa5JBbARTql+OBRWJ+k4A29qCaiuGxMhXFQ4MyzKAaZwanp7EZ4giXs8GpKNF198Ue66+2559dU3pKpyrRTmeGSPGePl5IOmyRYTy2Tk4AIpGFygnFhlrMRyXJW5EgccGbCix0jRAKZw45nXAiGpWlsrK9bVyvsLVshdT34sby/4QSOOHjNOfnToIXLCCcfb3eRiWgVzJVtqs+hvbGqSluYW8XjCku3zSW6uA15ZTG7cD1Ow4Ijtj6GQcujh+tY3tChWYftTVosAawwW6Y+A0/7GPY2pRr1MG6DqzhyDPLstvfu//8kbb7wpn332uSz6bolIcMN+yvl+cQb9XFZKOZKXm60iq7qGJuUSsFNDfWNYV5om7WEjRsmkiRNk5sydZJedd5bp06crJ9A8j3dkkgeo0nAQc/PD7x7v9kZgB6FHH31UGzB7Vlvg0Ru1kPpvwql+55135KyzzlIuXVe+CPh4/vnndYL985//rGKjrqRj3+keBTC8MsCVxS7XWVke8XqzBMDKZJnj9yq3x+/LUlUP1D0izE9H9QMQYyY7shNRJ3A0oxzwA0BGdZIxigmwuTmkwDTApBgICUf0TrOz/WolzJjGRGjBaefqF+Dz/ty5cu8998pzz78o5asd0FiclyXjRgySbTYfLjtPGy3TJw+VIQPyVQUkN9thrGRHGSto3YVVwgdzBeM1GCvs+lXfHJDyijqZ98VKeeuTZfLJ16tkyQ9V0hhw8jlukwly9FFHquP+3pqHOkex9IhNvwO4wiXniP4nwef1iM/nVaNIvz9L/F6v0A8BiMrIzvJIlumMrPzcCwoScC1A6IORrqnMLfpnkP7YEoz+uA4EnZ9HPNr/cnKyFWPk5dEfs5Oi7pUeVE9OLnpFR7WjrDOAzpgxQ7baais58IAD5Ouvv5bX33hT/bEuX/GD1NTWSX1dvdRXN4hUt4hIZA9gd8JZ2ZJfyKqkQIYMHixbbz1d9txjDz2iI4uD/EQCK2kGfgINl+t58+b1ClCtra3V/dhZKcL9pRw2WArEowBcsjVr1shzzz2nbtXQ4bKhdygAEESEByhkkqxvaJBgwOFoIuqDu9kAaM3KUvUAAKzXA7c18nOdq76yC5AyNIXCLKDDOCzRSdFMgkEzGXqciTgvO1u5p3DZcWdjAWrX2gMLwD12310mjB8vO+20ozzyyKPyzbeLZPmy72XBonX6e+6db2XCqBKZOLpEBhfnSUlxrpQMzNfzwQPyZECh406osqZR1lbVq7shHNlXVDfImqp6+WbpOlm8okIqahwwleXLlfETRsuUKVvK8T89TjfnKC0t7VoB+ulbtHd+9EMWjvRFJLmBYFBQfaEf6gIyC2mHs4gExHoj196syOJRF5Eb0Co66bio0z5I3+Q8ckSKgeQiEJVqhARwCjDOzSE/boDqtwC1jbaZlhzVNvIavc2KlobGqogjLirmzJkj++67r24jCtA13AIGZSaJroaXX35Z7r33Xk2PNFgxAVbR9etJi0pWg4j84fCWlJTIb37zG8ETgQ19kwLd4ajS9r/55hu58cYb5eyzz5YpU6b0TSJleKlYcPKjbxvDObg84TDeHhhrQjrhKZcmMhl6cFUTsTg3RnZMrh4PHCBHlYAFtZmUObJoYQy0IsTUNhg8seDRZt68D+Wdd9+Vjz76WCoqq3Rh0lDfIIHmBsN+i5ORLPHn5Elefp4U5OdLWelg2XbbbVTyN23aNGVKWGAah2xJuAUjyvTF5pYWaY4YsXJPQSh9z/xCcEwdYIqEA7jKQlElIBFuK1ILd59EJ5b+p/2Q/uh3vBFYHfDEK6/rCC7xbyQ9JitafiZg8ISBEQ1us802M7eTcqypqdFGaBqqmQQQvyN232STTZLynfYSoVzsIIQ6BJwxLFItSG2PYv33GQuzt956S9VDcF9WVlbWf4mR5iVnouJndETd2TXjTewRLhAcIUc1wOHqMCaZawtG3VTs2XOkXPx22GEH+cUvztCPM3YbpophrHD9wQcf6AJl1qxZEZGvo4ZBMwtEhwAAIABJREFU3bLQNIuQni1B//wafcbM69BfioqihDD9jxvm3ByNtBXphKkvdz8059HE7EmXKZCRQDW2tKxi6fyLFy+W3XbbLfZxt65pjDQ40zhJjEbNhIFBU08AVcqFcQ15AIj3pjuqbhHTvpxSCsA9w9qVTSD2228/C1JTSu3UJt7WJMc4Rz1bbkxq6Z+s1JkrYhkrpM2YDoi10o5kUTo16bTVD/kaHFdCX98VKjWU7VyqPbKFauey1PnYc+fO1VUo4lK2FE1mwOIa0Rzc0yOPPFLF/gBGOFc4u0cUn8rwySefqMgf9YbNN99cTjvtNDtJpZLgGZo2nABcUGHZzwYQP/rRjzK0JDbbbVEA9QB+qD7ZkLkUYEezl156SY0lbV1mZj0aTjn9kXMbUkuBjAeq6AWxJSQ6IBgbvf7660mlGP5TEcWw8xJcKtxTIcKhcbI7BFbVyQbHpgAYwqBnSB6mTp0qv/rVr+zqzRDHHqMUYNHEgunKK6+Uiy++WA0Row/tSZ+hAOMOHB6kPBiB2JCZFHjjjTfUk8e6detUnSszS9G/cw1AVR3WUEgXj/2bGqkvfcYD1c8//1yNqRCFAVaxyEf8mazAYHLIIYdERfyHH364HHPMMQpUnW3balQ/NlnfIx06AX4vH3jgAZ2Q2EnovPPOU2CczO/YtDKfAogVcVlGW7n++utl9OjRmV8oW4KNKKDWyYFAVA0JFQAbMo8CMB3QIUcCgmQOXVUbMosC1Bv9j0UjgfmaezakjgIZD1QxojINBrAKSGWr02QEVkwYOmB16Q7s7AOHE5WA8vJy5WbB7UhGYEKCK4z+K42fHZ/wLgAIt8FSwE0BdKMQ9yNGZIcyHETb0DcpgATHLWJknLCTY+bV9bJly3Tra+YsxnT6L0DHhsyhAH3P9EXqEZxg+2Jq6y+j0Q+ifizhMS4g0GgQiwH0kmFwRPoHHXSQjB07tlUtsJ0ZYng4WU888YR+D2MnuK0zZ86MAudWLyVwwer68ccfFwYzyrL99tvLqaeeqqoHCbxuo/QjCqCOwq5pbF+Lq7LJkyf3o9L3v6K6F8KMDUyWABy1Uu5/5MjIEgNucHcIsAGkYmgFUwU7BDwF2JAZFKAvAkzphwTqFdxh+2Lq6i+jgSodHA6q2wIW0Mp9OK1wI7sT0EFtawChkaISMGnSJBW7oid72223qc4q+7NvvfXWMnDgwA4/X1FRoRb96C2xsQEdAEf+cMh22mmnDt+3EfofBdBJffXVV9V3MHqpgwcP7n9E6EclBtggvTETI0XnHPGjnRwzpyEwvn/22WcqpTN1SN3CoIAp4a7fzClV/8qpWSDG1hXg1fbF1LWFjBb9Izah4ZjAygagxwCOb9XuBla8HQUs8Q844AAZPny4rqyWLFmi3gDwCLBw4cI2t7/E2hOO2NNPP62c2W+//VbfHzp0qOy///5tAuSO8mOf920KoIqCBwjaDe3EgtS+Xd+UjjEunmiR8c49/vV9SmR2CZkPYhccMFkwxnVzzDO7lH079+31RfqjDamhQMZyVOnYiP1Z2aCrBziFE4k4DNH522+/rWDPzW1NDQlFOZ/bbLONuht55ZVXdHeSZ555RgHroEGDBFUBuGBmFUbe4QRjqEXjBnwAUFEbYHctuzJLVU1ldrq0Czj31157rZx55pnKtc/sEtncJ0IBxIpuUaN5h7GDscTqJhuKpO+RjWMwomI+MqJ/6g9mCPMV3Nbp06enbwFszqJMMEjh7o/M69SpFf+nrpFkLFBldYrT5K222kp9nLKFKlvM4Ubq1ltvVfH/l19+2WMOlQHLiPzZcACuKuIcBh/AKHpIbBBgGjdxsdZGjxZDLUAuagqJcHBT1xRsyulMARY677//vtx///3yxz/+sdtqLelcVpu3DRRgAmTxzWSIXiMcOdSb+DGmAFTRV+6JBfmGXNmzzlLg3XfflaVLl+pchUoXBpDUGXMWnmtgrFig2lmq9mx8+iH9j3qjz9H3mNO55r7VGU9dfWQsUGUVyoqULehoMAzosOURheLOCSCLOL2nd/4AbLI5APkARJMHPAPg5Jn8EtBdZWtL1AbGjRvXajvY1FW1TTlTKQBAwbAPwz3adnd1rzOVDv0x34xrjBtw0w1QBbRyzTPGPsY9C1TTu3Wg5gWDAg8u7GaI/20kaYBWfIFjU2EWIeldkv6bO+qHQN+j7pDimmv6oumrluGkZEnqX0YCVQZuuEtHHXWUAlUc4xNY3fCMzg/Hkq0k4XIOGDAgqURLJDG+yQ8waoOlQFcpwKC3Zs0a+etf/yo//elPBddoNvQfCgBEmRhRH2JiZIwjAEy5B2eVOBztBJme7QIVNfynXnbZZepBZtGiRTpPscDYdtttdVvs6667Tt0cYlRlQ/pRgLrihyoffY1zAv2Ra+6jzmfF/6mpu4wEqnApEZkfdthh0cYSSx64mXAuEbv3BlCNzY+9thToLAWMC6prrrlGLrjgApk4cWJnk7DxM5gCcGjg3ABU2wq0EeIYANtWPHu/dygA44Q6Ov/886P16K4rFhkjRozQ/s3uctS55Y73Tl119FVwRLzFIPVJnfEc8T/Xxh6lozTt88QokHFAlUbA6gXXUB2FMWPGdBTFPrcUSEsKAD6QFBjjKbvYSstqSmmmmPwSAS2JxElpRm3ibVIAYIMLw47CkCFDVPpnAU5HlOqd56jddBSoaxYlNiSfAh1TvxPfZPXIxIo+HaL3WA4QIkz0cQjDhg1TS3d38ohEsI4078brtNyjU8db2bjTsueWAplMAfoSm0icffbZViKQyRVp824pkCAF7JyWIKFstH5HgY4dhXaCJIgxDj74YLVe3GeffVq9iX4V+qJYNvLDxY47fPTRR6rPiaP822+/3f1oo3PboTciib3RxyjAIg93NrNnz+5jJbPFsRTofQogmcMP9/Lly9UzS2yO8HPNM4ycOI8NeHPBV3eytuuOTd9eWwpYCmygQFKBKkrFuNsgxOpV3XLLLborh/k0oNYdcLmDVR3i+t///vdWx8NNHHve7yiAVMH0pX5XeFtgS4EUUwCJBYyTCRMmyEknndRKx5d5aO+999ZnPL/xxhtb5QZ3UltssYVa72MEZYOlgKVAaimQVNE/WY3H7WRQwG+cOxirOe6hEoAVP2HnnXdOaOtRd1r23FLAUsBSwFLAUqAzFIBTipU2qmrugCupDz/8UJ9xH4t9d8AnKi4HCTNmzHA/sueWApYCKaBAUjmqKBwXFRVtlM3HH39cXnzxRQWx7MBEcAPVP//5z7qNHAYjl1566Ubv2xuWApYClgK9TQHExWYDj1jwQt5wTwOA4Yczfnfo6F13XHueegrAUCkpKdEPYfdA/Zjwpz/9KQpSzT1zrKiokL/85S96efjhhws/GywFLAVSS4GkclTp8FgrE0zHR8R/ySWX6L3jjjtODUNuvvnm6CqW3ZuMTirbQiZiIZlaktjULQUsBSwFNqYA4xu69vzYthT3dybAmQPEMO7xwxKf3cRMwEjUgFv8n9rQuxSgLo2FNnWD1A/w+tRTT8l//vMf9Y3J8+rqal2AmNwi6meHKerfzGvmmT32HAXghhvdYePb1Hydvmj6Gv2QzXfcgffgotMGWKwkYtHvft+e9zwFkspRJftGN9VwTLFcZpcoAno/huNqgOw777yjAz+Nhuc2WApYClgKpCsFGKf4xQYW5IAd8zw2DuCWwELeLOZj07DXPUsBUw+mzvg6kj8Cu0exxTXBzFXMaa+99pre22yzzVRPVS/sX49TgLoAbPLD96w70BfNM0CpqT8TxzwjXmw/NXHsMb0okHSgajo/jYOVzR/+8Ac9slvU8ccfr6AUEjBws60oYn/CEUccIbvttlt6UcfmxlLAUsBSwEUBM7ExvpkJkIkSDo55RnRAqwmMdYb7AxfW+j01lOndI1xRE6iTzz77TG677Ta9ddFFF0WBqKm7hx56SNBPpZ5RD7CcOEO9nj+6+5r76wBYw001900/5RqVHKOWAyfW9kVDpfQ+Jh2oGrEWVsuPPvqo7mmMSIUtIAnGcTn38ASA31UGDANY05tcNneWApYC/ZkC8SZIJkYW5SzSERe7QSq0qqys1Hs8c4Oj/kzHdCh7bF0gysfin10N2a4YLzYEwAz1a+aoAw88UPbbb790KEK/zQP4geBeMHKNnjh1aPopz01/5Jy+yMLS9sXMajpJ1VGl6Iajio86Yxh1wgknRP1Bmgb23nvvRcUsv/zlL2Xy5MmZRTmbW0sBS4F+RwEzAVJwzgEw6DFyDocGcSLBiCMRM3IPsMNz9/v9jnhpVmCjpgZgfeKJJ+S///2v5tAYSxlOHFw67Cqwp2B+u+yyy2w99nJdxutHbF+KvjEYA/1w0xdNVuGMc4/n6KbGS8PEtcf0okDSgarp/FjH8iPsu+++0VKb5zhKZqVDo9lzzz2jz+2JpYClgKVAulIgdnJj4mMcA4gytnFtAA5lQOzP85ycnOgiPl3L1t/yRZ0QEAXjPpF6GzlyZNTllHnOYsO4V5wyZUpUd7W/0SudygtuoC+6+xpAlQUiKhlwTOl77v7KNQFOueGWp1OZbF7apkDSgarhqBp2O06VjznmmGgODFA1zw855JBOAVU4GDRSqx8UJak9sRSwFOghCpiJjyMiRqMPh8oTYNU9cTJWAXKIi8oTz21IHwoAZgj4TP3ggw/0nI1nzEYbxvAXkAoIIlx88cWtvDnoTfvX6xQAT7j7osEZpj9Sf/RFgu2LvV5dnc5A0nVU3S5ZAJRXXHFFq1WNaUDklBXr5ZdfnnCm2Rhgm222kWXLliX8jo1oKWApYCmQLAoYTg4TI/pugFUW58ZVVexzow9nQE+y8mHT6T4FjL0Eon3qE+f9J554YjRhw3UzXHK2Bz/00EOjz+1J71GAfmYCC0F0U1kY0hdNvZrn9EFArO2LhiKZd9xQ2ynIO3qniErcwXBcubf55pvL+PHj3Y/bPTd7M2OoZYOlgKWApUBPU8BwVJn0ADAEFtyxEycAlomTwOLcvKc37F9aUCCWw40KmltS52a6kOG99tor4XzTPj755JOot4eEX7QRO00BaG3E+rF9kcTcfREuuu2LnSZxr7+QdKB68sknawf9+OOP5Y033thITHLYYYcJz+jEL7zwgg7ybirAnn/++ee1cXGfldIzzzyjq6FXX31VdtllFwGwXnXVVXqfOLbhuSlozy0FLAVSRQHGGn5MjnDiADYYScUGnhtuayyHJzauve4dCriZJmPGjJHzzjuvVUaoQxPwqfrzn//cXHZ4nDt3ruy///7Kde8wso3QaQqYhSF9EYyAaN/dF3lu4sBNNX3ReCXq9AftC71KgaTrqDJoxxu4TSkZtKdNm2YuNzrS2BgwfvKTn8jvfvc71V/dbrvttNPT+fmxcwgOmU899VS59tprZcSIERulY29YClgKWAokmwJm8iNd9N8Yz4yImHtw6dwL5874TSU9JlwAlPs7yS6DTc+hAL67R48erRdTp07daN46+uijVeJHvaByZnRaDf1gqqCONm7cOK1zFi6LFi2SiRMnyltvvaXzHNz0N998U8aOHas/8649do8Cpo9xNJIN+pq7L/IFVDoAqdQhuCSWi969XNi3e4oCSQeq3c04Hfuf//ynnHbaafLkk0/KrrvuqmAUy0y4sLiyuvDCC/UzOGA2jbC737XvWwpYClgKdEQBJkYmPwJjVSyHhgmR5xwRHXdGNxVVgfLycrU87ygf9nn3KQCX1Ow+FS81VNfac5sIMMVY+IYbblDdVXRY8RrA/MWOjJ9//rmwcQBz1OOPP67bs86aNSvep+y9TlKAfsiPfkYAoLolF+Y5z4hDX431m9veJ1kwmvfai2ef9QwF0g6oUmx2sSIsXrxY7r33Xj3HcAE9lN13312v8V24atUqXb0a/RR9YP8sBSwFLAVSRAE4Mkx6BojGcj6RCJnn6NIzYSYaEDWTnuX6JEqx3o0HB2+HHXaQl19+WYYNG6beA9iJkTpcunSpqrWxGyMcVziscFstUE1undEPDaCM7Yt8iWcEdFc70xfhlpMefdmG3qdAWgJV3IEsX75cxS6I+Ak4W4ZTYUAsO1rBfUAkgy6sDZYClgKWAqmmAFyZ9jgzHT2HC8fW0YMHD1YuEBMijshxiQQXB5BqFuWcDxkyxALXVFdqN9K/6aabdE5iwwB+M2fO1HlpwYIF8uyzz6onATjl/CZNmtSNL9lX3RQAdAIizeIuVt2Q50aFBsAZ+9ydVuw54Ja+6ObQxsax1z1LgaQbU3U3+3PmzJHjjjtOHSyzSj3//PM1ScArINWsml588UXd6o6VkhHFdffb9n1LAUsBS4FUUgCOKz8MPJAEVVRU6CTKuGbcIMGJHT58uIqMzb7kqcyTTbvrFECq98MPP6jNBCCV8NFHH8nQoUOjthgYDwOa0F21ITkUoL+AD1C1oK/Qp9yB59SBeR5PSkHfY1FIAENQl/Q3zllQorLBxkQrVqzQHa/c6dvznqVAWgFVrPfQ99ltt90EAyrchQBIaTDffvutYJlpAhxWY0Rl2PvmmT1aClgKWAqkKwXQXYVjg/oSBjrG+pzJEZDKNRwh80vXcth8idx6662y2WabqVHVkiVLlCQLFy5UIy1Tr6iwwUHvjL6ypW3qKQCYRZpBAKDC9QbwwqXlx7Vxd2UXjKmvj/a+0HoZ0l7MHnp2/fXXR1eiZ599dtR33ZVXXqmd3WQDXSAjgrNA1VDFHi0FLAXSnQIAVbaXZjKE60NgUiSYMQ3QSjBgRy/sX9pQAIBzwgknKEd83rx5cvrpp+sPcf9TTz2l/sMBQoSnn35amSxW3zFtqk8zgmgfqQZcU/objC+AKgwzjLNQu6EO4cYaQJteJeg/uUkroErDmT59epT6NJKtttpKrydMmBC9z4nRXW11015YClgKWAqkOQWYGJkIjXiRc8T+TJJGRAnHlWCBanpWJguNH/3oR3LUUUdpvV199dWqrka9nXvuueKer0455RQpKytLz4L041whsWBhSH/ETZlRHwC8wv02Cw2ubT/s3YaSVkC1d0lhv24pYClgKZBaCjDpAWYwnkJPFZEiC3RAq5kYyUHsdWpzZVPvLAXQi8Si3wSMdY488ki1Mt97773NbT2iygYosiG9KIAklv7H4tBt54Kkw4BWcsw1KgA29B4F0kpHtffIYL9sKWApYCmQWgqga4/xBiAV3VTcGwFcmSSZNN1bdjI5uq9TmzObemcpABc8Nhgxcex9C1JjKdL71/Q3OKkAUvojHHLu0Uc5Gg4q/dAC1d6vrz7BUTU7hjB4uLkSvU9emwNLAUsBSwGHAoxPxgCUO4xbZuzC2MYdSkpK3Jf23FLAUiCJFGDBCEg1/Y4FI9xV7gFSzUIEkMq55agmkfhdSKpHgCqrFRTOX3vtNVm8eJFUVVaK44a3CzmOeSUcCklRcbHuEPPmG2/InCee0BWRJEPSEhbxZHlkzJixsvPOs2T27F3Vt2tMFuylpYClgKWApYClQEIUQP8RLitMldidzRJKwEbqNgViF4JwVU1w6xMDWo3Bo3lujz1PgZQDVRz3//3vt6oz5EXffitNLY41azKLmpvtVR91a8rLZfVaxy9aMtMnreeff1Zmz95NzjjjDNlll12SnbxNz1LAUsBSoF0KGBGyObYb2T7sNgVqampUJAynDfWMZNAdsTL+Oo3R3Pz581VHORlpU2DSh0sPuDIeJLpNCJvARhRwS27d5xtFtDeSQgFPmJadgsCOK+edd57cdtttmvq4yVvL9Bl7ytiJU2XQkOGSzdZkSfoyg0goFBSPB1cSqN0mgZ3qEQkGWqSupkpWLV8sC+a+Kp/MfU2CLY0KVNmRxO2hIAUktElaClgKZBgFMILCgp8f58kMgBkmRYZst/FHsr4BeMKFEkDHbUySrPQzIR3mrYceeki37l7wyceyvromJdmePGm8to9F332fkvQHDiiS6VtvIz//+aly2GGHRVVMUvKxNE0Ul2+I9Dkiwk92MIuNVKSdlcXOWjlab3B1k7WQSTYNeiq9lADVTz/9VA499FBhm9Od9z1Wjv5/v5dxm05VYMrgrYNsavBx0unmycqSLK9X/L4sqVi7Rl7677/k37deIuFgi9xx551y8sknJ/2bNkFLAUuBzKIAE6LZ+lTCYfH6HH15Fs/JWDc71ACoehSoJpO/oEMx4DcclEBLi06KAFbEo0aHNrNqo2u5veWWW+SSiy+SdRWVUlI2WqbvtJdsOmWGDCkbKfmFA7qWaJy3qDsDbgA7SQEhHhHU4BrqaqRizQ/y1YL/yYfvvCDr162UsrJSufba6+SnP/1pnNz0rVvQFk44vlCbcfHm8YjP51cmFmp8yQz0bVIMhUPJTNbp36GQBIMOVgKooiKCd5CktJWk5rZnEksJUMVR/4033igTtthOzrrodpm45XRpbmpRwjOIJ3OQTT2Z2CEGXdUs5TZUV1XKPTeeLy8+frtss83W8sILL6pj4NTnw37BUsBSIB0pgLsp9PDV1Y0aY+RKdm6e+Lw+8WR5kwdU3RKoZM65YQfkBIMt0tzUKE1NDSpNys8vUGOT/mBI8r///U+37oa5Mn6zbeSQ486WzabPlIGDyiS3oEjiGPl3qykaPk2yvVa1tIg01tfK+orV8sncV+XJ+2+Q5d99IVOmbCkPPviQbkTQrYyn+ctwxNkaFS6qPztbsrPzxJ+TI94sn3hU2prEApj+mMy+iPpGKCyhYFBaWhqlqbFBWpqbooZf/XV3s6QD1csuu0wuvvhi2WG3Q+Q3f31YvF6ftLQ4zquT2ER6LSlEbzl5eTLnvhvljmvOltmzZ8vLL78ctRLstYzZD1sKWAr0OAXYBnXt2rXKsSkqHqSgJosJMTKJGUDS4xnr5AejgMkjEgqGpLG+RmqqK3TSZIeevmz089hjj8nRRx0l/rwC+dUl/5Kd9zlGpX6Blqakc687WS1dig7XjZ8/O1fz//Kcu+TvfzlDcnN88sScJ2XvvfbqUrrp/tKaNWuUk5qdnStFAwZJTl5+KzXATOmLsGkV+/IXFmlubJCa6nXS1Nio/RDDr/7GWU0qUEUxfMaMGTJq/Jby1zvf0pUMoqS+GPILC+T2q86VJ++/Tq666ir5zW9+0xeLactkKWAp0AYFAKlMjtk5uTKgpExFjJklLWqjYEzvHo9yVavWlUtzc6P6muyLYPW99/4nu+wyWwaUDJVL//6CjJ24pTRE9n9vmzqZ9MQj+YX58sX8/8kfzzpAPKFm+WDePNl8880zqRAd5rW8vFyqq9dLYdFAKRo4RNtvX+qLrHtrqtZKbXWVGskNGzasQ5r0pQhJdfh/zTXXqIL4Cb+6QvIKClXfqS8Ry12W5qZmOeLk82Xw0NFy9dVXCZOWDZYClgL9gwIYS8FJBaQOGjysT4FUapBJHj3bQaXD1KiDslLmvhTQKz79tNMkGArLb698REaPB6TW9qUiKkuuvrZONt96Jznnz/dIXX29/OIXZ0R1ZPtCYdFHBaQWFA2U4kGOm6m+AlKpHy1LOCzFA4cop9ioN/SFuku0DEkDquiEfPPNN+LPKZBRm2ymOzwkmolMjAeneODgUhk9fnNZs2atLF26NBOLYfNsKWAp0AUKAHIwCs3NK1Bjy740MRpyUKasLK+WEa8qlLkvhYULF8qXX34pm0yeJmM33UpamgDiSVY4TBOCNTc2yaZTd5TSEZvIggWfyooVK9IkZ93LBm0U3XAMm3LzC7qXWAa8nZtXqK7N6It9ccxpqwqSBlQXLVokH82fL9vuvJ+UDBmpysBtfbTP3A97ZMZuh2pxXnnllT5TLFsQSwFLgbYpgMU2XJyc3DzJLyju0xMGen15hQOUcwzXylirt02dzHny8MMPS3NLQI448beSX1ioLg4zJ/edyykW5CWlZXL4ieeqsdHjjz3euQTSNDZc/rq6OikoLJacnPw+3hfD4s/OkfzCYl00AtD7S0gaUK2qqpJQOCwjRk+Q3PxsCSfZZUM6VggclZFjN9WsLVu2LB2zaPNkKWApkGQKMEEA2OCm4g2kbwe4qnCriiQQ6Ftc1eeee0byi0pk8rSZjiujvl2R0twUkC23mS1ef4688MJzfaK0gFTHwLmwT5QnkULAVcVlJmXvLyFpoywrNgKDd/8JYcnOxbIwokfSfwpuS2op0G8pYLiK6HD2l4D3FkKyNzHoLfrBZKisqJC8giLVbcQHaV8PqG8UFpfonIXxUV8ItEcWi16fzzja6AvFarcMqOPw6yt9sd3CRh4mDaga1w/ZOXm4Su214PfnSE4EPJpMbHDl4LDOEdltuGdidf5IOXNy8vTFZKTX+RzYNywFLAV6mgIKVCPGRj397d76Hk7TCX1lcqQOMRAbMHCI5BcUpWSnr8Trqmf0YsOhoBQNKJG83EKp6yNGY7THLN2R0ge3KHGSZ2hM1Rv3esUbAar9RU81aUDV1HuvES4sqkf13mv/lUf+9WcVzQEec3ILpKWlWfWP0O946/kH5fG7r5JAgB1Yul/8XiuvIbg9WgpYCvQoBeDGwcXpicVpcr6xMRDqbLp9VcXB8bXZo82n1ceYk9gq0x3gXuvcFA5rG4MZotz7buIw5iqvL0fFxn3FaIwywV3sT4G+m+xdttKdft1HamlSQgZSdnF4+sGb5LMPXhOfP1t8/hzdoePdlx51dnfw+6V85fcy577rZMWSr8Xvz06T3NtsWApYClgKtKaAJwkW6ExqqNHGB6YbA9jWOej7V73JaPD5fLJu9XKBuVJXU6W6loBU5i5sPLJ8Pin/YYnMffMpaWqoiwDM7tZJN9Fudz9v37cU6AIF+gxQzcnNlTn3Xy9ffPS27H34z2XAwFxZ/NV8+eWRW8pd150nWV6fhAIhmb3fsdJQXyv/uurX0hJodrY47ALh7CuWApYClgKpogDAsrGxTtauWi6h6YfyAAAe5klEQVSBlmYFmtzDFsDoyHb0beIz1q1bvUIaG2qjaTQ21sva1cuEnZfiA9iOUrbPu0sBjGGQ6v313CPkH1ecqRwyuKZLF34m1/zux/LdNx9LfkGu1FZXyOXn/Ejuv+UPKjG09dVdynft/dYLGraO6voijzqMrcfW6Xctj335rT4BVAGha1Ytkzn3XSNDR24i28zcV9ZXrpfP578p1VXrxJedI4u+mCfr1vwgw0ZvIrsfdLx8/el7Mu+tZyQnJ7cv168tm6WApUDGUcABpNVVa5WLxvgFH6xmfYVy4IIdAkxHNNhQXyfVlWukqalBgoGgSnuZEBnz2E+c9O0E2TuNA8bKy0/cJYu+mi9HnnyBDB05Qpoa6+XSM/eTt194WLJz8hULbbH1zrql63OP/F3nM/avt6FnKACYDAWDutCrr10fXegFAk3S0tiwEdgkVw4AbQPERsBt5bpVmiZcc40fDsv6ynJZX7Gmr2hkJL2C+gRQzc7JUfFJfW21bLXDnlI6vETmvvG8clKhGIP1JWfsI689fZ/k5WdpHO6/+uTddqBOepOyCVoKWAp0hwLMZ4xlwZZm9dPKdSgQkMaGOh2vwhJux/0fW582S9XaVVK1bpXGj+XeoNOHARHAqLHe4bR2J7/23c5RAPH++nVr5OmHbhKMj3fe71hZt3qdPHDrRdJQ5+xw+OA/LpEXH79Pweqeh56kH3jm4VvUXii2Pjv3dRu7MxSoramUYLDFcUVHv6yr1sUifSdWMwdJR31djbQ0b7xxBHVGH65at1qaGnBv52wtz0IRtcXc3AJpqK+WxjrbH+PVT58Aql6vyKpli7R8pcPGSCAgUlI6XEaMmaT3EKmMnThFho4cJy1NYRk0ZLiqAqxctlDFavEIY+9ZClgKWAr0BgWYvJjsEA/jdgd2KqJ75cCI6ETX2MBuPBtzbrjV3NSgIn99n8ExTmBM5P2WlqY4T+2tVFKAOkUCWFG+QsqGj9X96evr1subzz8YnY8+eOMp+eT9lxQMDS4bpW1h+eIvpba6st8ZD6WyLtpLG6PJ5qZGNWRTYzYRVb2JGlO60BN9KRhoUVUN1Sd2PeMbwUBA6mrX6+LQ6bWt+y72NBjQ0Xdt2JgCMeTcOEK632E10tjQJMuXfKVZZfvWpoawTJ8xW35x4T/03sCSoXL9Qx/JLvseI/V1TTo4FBQOkIo1P0j5yiW6T3e6l9Pmz1LAUqDvU4AJD51UtvNk8nIMa8LSWF/n7PaH7mpDnTQ3tOfs26O+QUuHjRafD8Oc1gY0XGFtzrNoun2ftGlTQhYQqKJh/LvZtJmqmsZ8dMTJF0hOxA/5gcf+UnY78HhpaQ7IoCHDZOyEKbJ04aeyesV3zuIlbUrTNzOCVT2AM9DcJHn5hZKV5ZH62hppqK3WLUyReFSUr45KLFgg0q+QZuCvlmtnIYlJpEfWV5RLXU2lcmapfye2Qzv6py87W7nr9G0Wj867fZO2XSlV2gFVgGd+YYEUFDm/vPwCV6XhXsMvBa7nuO5gsK2rXq/lLywepI0AriqGBAQ4EaxEW5qb9DyvsFgHaiYD9L6chtMV8tl3LAUsBSwFkksBjJyYvBw3RQ7nZeCQYVHQOrCkTIpLyjQOjupb/cIhySsoluKBQ5TzhprARgGXPj6/WpkzNuK+z06MG1Ep4Rtwwpi39BfH5WHs81AwJMuXfqPpDxk2WrxeZ+evPQ4+ydkwxyOy+8EnyLY7761cOjbRGTh4qMZHCqiuqxLOnY3YFQqgw414n37Boo7g1LFXMSa7YeG1AV0M1AEAriweqRs4q3U11VJfU6WSkbCHbYiLBWlv0cDBcbNDL8/OyZVQMKBc3Fi1grgv9aObznYjaVJgKhmdqcVffaRcTgZrgCcVjLWrx+NVsPn9ws901YKiM88R5ccPcQbpSETlMqg/sqyNOA7x07J3LQUsBSwFUk8BRIsATCZGE5gYTeA+HJ5gMKSTpLnPkZ2WsrzOmNYe+GRiJB3GQcCqDV2nAEBGQUxkh0LEtzq/RIxrsKFgbmM2CgeDCm4a6mv0g+ioUrXUgVmg8ACuOps98o7P6xN/tmP0iwqIDT1AgXDY4Yyqv2T6CUAyT3/1LU2Sl5MnBUUDtJ7ratZrnVLn1DPeHGqrq7ROC4oGSnZurm5CxIKkpcXRTY1XAnTHqW9wTbz1Zbx3+su99AKqWR7lbt530+/UwpFKQBTy53++KpOmbCceyZI7rztP5tx3bbR+fn/9EzJ6wuToSgUOKQM0Fe71ORaSNKD8wmLlMKArggUf3FV2sBpUMsxpGNEU7YmlgKWApUByKKBiQMMeUXHgBsDJFxTQRETzgFPdCpLBS0Q5ns5ZJF7kgnd4BXBTU10hEoq8wHiZUyBIFjfcMSlsfHSALGklEnvj9/v7HQUlLc0y55FrpaZqnbosYqGw7+E/V6429dkc8e1twMzgoaNk/6NPF5/f2elrwyLB07oeIvrHLChIx2zxanZC7O+072z5WznI176zoc1rP3AEF06yYbpUSPVKWSCaBSPnZsHIPSQegUAwqjpIX3dcvnmj0g+V1oYdNYCOupmR7AJUbZ9sXcNpBVSpoNy8QvntlQ/LhaftKcsWf6F6Irdc9nO56p535K0XHmkFUs+86J+y4+6H6jQwbuJUmf/Oc7Js0efi2fdodb+SX1Cspa1cu1L+78fbyaHHnyP7HXmyfP3pYqmvrZLxm20jg4eOVNDamiz2ylLAUsBSoHsUYAJUvba6qihHDZE8olymSUSEWAGHgwGBh8rYN7CkVLmlWNHAWY0XSBccw9aR6N+7g9fnTXiSc8APGwK0Bs/u9Ox52xQAZMIAGVQ6Qu6+4bfRiGtWLZVfXHib1tHd1/1Gnnn45uizi//2jOTm+WTYyPF6j7mppRk3Rc5ixADS9etWq7oazBSsxKvXr9P4Q0eOT7h+ox/txyf0FbjTtesrFfCLhMTnz9WtZAGDPEfEz0KCc+4pFzQBt5X0YfrOoNJhWn+N9Q1SsWaF5OblSUlpqQTpvjGguB9XRbeKnnYjFIM3FT9zryOjBft+0efywZvPynuvPhG9N3LcZNl25wNUvyoYDMvwiIX/mlXfqyiFdEpKR0jZiHH6zveLPpMVS74Rf7ZHKtes0klgxNhJ1oIySlF7YilgKZBsCqB3xuSnjvoDLbrw5hswcJggMdbArQ37sBNXn8HFYY6LAaqG6UN89ByZHQG97p/h/nRUDvIUikzU/W0Lyo5o05nniHm3mbWvTNpy++hr899+XirXrpLKtavlw3eejd6fNmNvmbLtroJk16ir1azH/VFAWwRAyXh5ePWpe9TlIlw2LM/xeev1ZyuI2sCFjSZtT9qgAO0cGgZDuHerVQO2xvqayBbqTo/CloW+2NToGE8ZzqYCV9KNxwqNLBb1cQiOd2ShoaKOkNB10XPl+50NfFeRb2df7MPx04qjaujc2NAgx55+iaA4/uZzD6ho/urzjzGPtbOee8UDCkRpYAza280+UFdJn89/S6qrKiU7O09KykbK5Xe8IUu//VTZ92MmbCmN9eGoWsHs/X+iq6howvbEUsBSwFIgSRRgksrJzZPiQWVq9Qv3hUnRn5OrFve1qCmpnmhICgcMkbz8Ip0T/f5cvc9i20x0vOvxeiXcFNK0GnJydfwzz9vKMs8BvO54TIQALESViC9RkXI/byste39jClBHhYUD5f+ueEAu/Pkesm71MoFZcuufTpXm5iZZtXyxvjRqk83l7D/frWCzqTEgE7fYXgoHlMjnH76hdhksNjC0OeDoM+XZR26Rj959XhDz73HwiQLXddWyhTJ1u92kbMRYFUlvnBN7py0KsBBD8lCx9gelHQu96sq16sKSrWsBrlkRcDhgcJlurU5/wOMG4JZ+0jp41OF/XY1PcvPYmMHh99GXDDe2C/hUJSx8x+vHdVx8fNw6H/3nKu04qpCeFSO6pKf97mbZcptdWtVGbn6h/PqPd8nEzbfRVRAPaUglpcPk8JN+K6uWL5JP3n9FuRMMIsWDSmX6jnvLtB32lJIhw6X8h+/ljWfvly232VW23mkf3bWl1QfshaWApYClQJIowISHexuMPhnXAIno0eOMn6Di44IB6kuTuPzgqiHyxRrfbJ/K/QGDSqV40BAVN+cXOIYc7WWTd4yxaU5evnJ4THzl5La0SE5+QUTVwDyxx85SAEA6fNQEOffy+x2rfRGZ++ZT8vF7L2pSzEHnXv5vBUvUJ3qMI8dNlFl7Halb2S768kPx+n065x31/34vf/vPZ/L3Od/KmRffLj6/Vz546xltF7sffKK2pY2BU2dz3L/imz41oKRMQSV9sKWpQRcAAFVj6FY0YLD2O+Kj04rxFOo3AZcBFAsKvz9bmlsapb6mUp+THu+gd0wfdRacbXFSscPx6QIxthbUZ6vXJ9kYzrX1euxL/eQ6LYEqtAdkDhg0SHDZ4Q6DBg+XTbfaaSPruaaGRl2NAmyff/Tv0hzZHQJuAtwDfgwGrz/zb/Hn5MnPzrtWvQjEitfc37LnlgKWApYC3aUAk1hB8SDJVY6pKq3pxMb9nFyHk8a5CUx8uJjiHuJIE+AMwbFRPdf8AnO73WN2br56AvD5HOMdIvMpOEVer1cn1XYTsA8TogD1NHX72XLGH/4RdWfEi3gEOOeye2XC5ls7bociqbU0t8hhJ/5GqJ+n/n2DLiKod8CKaRO4YqxcUy4v/Ocfqlowa++jBGmjDZ2nAH0JAFhs3EOpbqrjnYHFIv0KfWPTDxHbY8jtcFXZEY5+AxjNEQzi8ERUUjZKAad5h1xx7r5255T79DlUEpH2Gk4sikDgHTb5ABzTZtpKw51efzpPW6DKoNzU2CKfvPdyq/pYu3qZLHj/ZfFHrCbNQwBndm6e4Ch5yra7RXwDmqfOMRAISOnw0fKj4/9Pho+eqNyK1jHslaWApYClQPIpgDYcnJZYwyUMqAAo7sAkxZ7uOOQHuLgnLc7Nz/1Om+dxJs5QOKhiaV92rvqldqffZjr2QQcUYF94kU0mT1ewYSL7/TmCr1TXOkQfoZdaOnysSgy//vQ9qVizUjltPAQ4MZ+xuPju2wWyrnyF7LDrIRFuX3wDO/M9e2ybArRzJBWATSrE9DtE9nBKYwOgEu4pTC50yJ3gvMc7sX059v22rvmu+fb/b+9cYKSqzjj+n8fOzL7YZZeF3Yq2VqgI7CogarWgUKJEFEVT1GhN09Qm1KLWpE81ELVSqqlitWIbNqItNWp8NUQWisFH8FlfiaBtxQcE2IV9z85rd2aa/5md2WFZug9mdufe+Z9ks/O499xzfueeud/5zvfgMZz+SVOcpJ36sc7N189z0kaVg+H1+fDEH2/Dqw1/P2JsuOp4+K4fY9LkUzCt7hyTpcUcYFIHhnDOgmVwLqKQGzjiB57HcLtr3uJrzA2WeABo0h8BV29EQASyRsDYwfWrPRajI83RhQt1bvMzaDi3izOlZeEDkolO+ADmVidF5D5d7tHt0CdDI5AIVdWNvz18O7idnCwMBv/Ib1fg9gdfNLFQTYxMMo/FEHNEcevdT2D/3s/g8XiPCpPIZ13N5Cm4769vgzaufKapHB8BRsWgUNoZCZqMURReqblOZoDrXzvtiFua9pt4xQnznWNrTPufe6z3/ReGfM+EAVzUJHdSjnVuvn6egxrVOIqKi7H9xcfx9IZ7zLhwxXHDLx7E9DO+Y95zwt5/27VoOvClucHSB4/px449oR0mFBVT1/W/WdLr0GsREAERyBQBCofUoLW1NhltGbU5/P3h57RXZdrEdA0Lr8vv6Yg1fmLNMR+iI2kf6/X5ijG+qkZOVCMBONA5Dge8hYV44qHb8NaOF8wRCVvGREajXe+/hj+vWWk0pOlaOAqt3F7+5rRZ8BaVJO6NtPppH1leORFfn1rb63SnJUUanmG/5Byj6YS/g7HWTZYFM++otGJUhYHmoNvtxYRJJ4K+MdmUGUrLKsyc7N+GYXfSpifknKDK7FOhUAivbenTpFafOAXnX3wN5p5/aWoY6E35r9dfSgVOTn2hFyIgAiKQSwQcMLEw6SBqAlM50mOXxo3X90DN5YORtnKZLn31Zr7uTLfVCvVxi765cR/e2tEXPpEOvDPPvCDV/PffaMC+Lz5NbDunPk0sSJg28yjbgN5jOFZGC9vfdiCtDr0cOgHaZtO0wpReixv+i4QCCa/7fmY43G+gc2O6jffQrzb0I6nR5S6KysAEckpQ5WqCnnP1992K93ZuMS2mAfTKVfUoLZ+ApdfeckR81fX3rMC7r2w2dicDd0+fioAIiMDYEeBvWjgYRGd7s9HYUPCg9oQeyCzU7PDhmcyoN3Yt1ZVHQoB2jDTNeOCOH+DAV/8xVXztpKm4cdUG3LR6AybWJOJ4t7cewv2/uRZdna1ZF3pG0g+7n8N5SJOMYFenmXN8z7BxFBBZGLKqraXpqNjF/M4s7LK8UBiNa1h5jHNKUGVA408+3Imv9uxC3dmLMGPOfPzkjkeNwXkokPB+veGXDxphtXbuAhNX7vVtT6G9tSlliG7lwVDbRUAEbETAZMXpBoWUxIMoZsILFZWUgeGi6GlM7U7qIernQ/RIxyob0bBdVxJj5TA+Ex+9vd30j7bEN9+5EaXjylEx6QSsuH19qt97Pv0AjAfOiDRDTcyQOlkvRkyA48TsXmbLv1fwpL1pUUlJwk6bMYppux0JoaP1kLHbHvHFdGJWCOSUM1VPOIRv1Z6DtY/tSHU2Eo4ajQO3zOgZV1xSjl//4elU4gY644WCDPo/sFNCqiK9EAEREIFRJECHGX9nq3nwcevQ6XaboO4UWunBREGVYWmM4AIHurra4fZ6UwHHR7GputQICFAbTtvGurMW4oyzF5n88NSmTq09y2RAYpX87s7129C0/0vjxMvIMxSGKqpOkBPbCJgP95SEABpGexsXizw7bhyWuFiMReMm3npJWaVJAGB2NwJ+dLoLUilWh3s9HZ8dAjklqFL6pMAZDPCOihuvvERw4z4tAzUQoUAoEdPBMDl+L7zsoFWtIiAC+U6A4XCYYYiFgb5pg2+kVPMJ46WWweMtMqarFGD5YDWCbL6Ds0D/6exEJ5vzFn2vd0cv4UHO6DLJwufZ9FnzcGrtOYDDacIcxeJMsZkMd5Q8Uv+zRYCsCzw+k32KkgXHLL1wfhYWJ5ylNAfTyeTO69wSVHvV8vFBtKOa5LlzA6klIiACAxOg0MmsVOnlSCE0jgKvFx5vwjucxx35ffqZep17BBjAnYuPpCKFgdu5s9fnpEZh1ihdnAkrO6bBdcRzyuIu97BmsEWcT2axWFjUV2tv8H5+wO+dLpfJKJXa80/7vu8kvRpLAjknqI4lDF1bBERABDJJYFDBk579mbyg6hp1AoOOMbjrN+rN0gV7CZjxGYT/UI4R0LEjkIWlXXJ1OXadGs0r962mR/OqupYIiIAIiIAIiIAI2J9AxgXVnp5wytHJ7vi440NHCBUREAEREAFrERhcE2qt/gyvtYOoGIdXmY4WgawSyJigWlSUsAFhzuJolL5O9tes0kvw8MF9ZoDGjx+f1YFS5SIgArlDIO+EHBvuXXs8HhO/NmFHmjv3VrZawqxYwa4ORMJBk7I1W9dRvSKQaQIZE1QLCwuNLXJ7yyF0RyIMZZ3ptuZcfRTG21saTbskqObc8KhBIpAVApz3FFTzSVhNZfPJCtHRr5RCW2npOJNum4IblQ52L4nwS52IRMIoLS21TXfj6M00ZZseDd6RfPrtIY2Mzc6TTz4ZdafX4f03tqGtudF40g2O29pHUGn89qv/MJ2YP3++tTuj1ouACAyJgNud8PRmDNR8KYz/ycK+26Ewo9TM2lq0NO3Hvi8+QYEnkaHIDn07Vh/Yx6/27Eaoqw21dXXHOsxSn7tcTlAjbreF1P8bBPaXf1xs5UvJWE+pUb3qqqsR7GrD1mf/Am+hvSe+r6gYH72zAx++tR3fXbgAM2fOzJd7Rv0Ugbwm4PP5jGlTOBTIGw7hUJfxPeDvvF3K8uVXIRaN4O0dL4KCq52L2QUA8PrWp0w3r7jiSlt0t6DAg1g0atLY5oe5IUOgRRCNdoOmK/nQZ96oGRNUWdnKlSsxffppeKZ+DT7Y+TKKS4ptMRn6d4Jp8tqam/Domp/C5QTW/v7evLlh+rPQexHINwJerxf8CwX86O6O2Hru80HY3R022f98vkLzcLTLeC9btgzTpp2KZ+p/h//ufg9en32E8P5jxJS9H+xswPYX6jF/3jwsWLCg/yGWfF9cXGy0i8xOmS8lkYkzhqRfUD70O6OCaklJCS655FKTXeqfz9cjEukBUwfaqTBHc4HXjTdffg5793yM2bNno84m2yh2Gif1RQSyRYDCGzWL0WgUkRDtG7N1pbGv10Q2CQWN1sr4Idios7TTvPDCi4yG6o3tz4LbyHa0VWVAe/rCJbWpFy9ZgoICezyX2Q+322UcxJiy2O6FtqmRcAgup8tWi8bBxs21evXq1YMdNJzvFy5ciL179+L5px/Hrvdex/TZ81E5sRoxzhSLeo7yweR0uuArLDIalPr7fo5Nf7oDM2ZMx0svbUFZWdlwEOlYERABixOgRjUYDCLY5Ye7wANuQdqt8HcvGPCjo+0QqE2tqqqynfZ43rx5ePXVV7DlhU2gHe6sb19obP+4nWz94jC57JlRYv2aFdj23AYsXboU69ats419I002KFb4OzuMAzef0XYtnI9dnW0I+DtA520qBvOlOOJZcB9jlXfddRdWrVoFOFy46MofYdFlP0T15FMwrrwSVLJaRWZlO7s6u3C48Su8+9pmPPvYvehobcLll1+GDRvqUVFRkS/3ivopAiKQRqC7uxsHDhxAT3c3SsoqUFxabgS5LPykpl01+y/5QGQf+FDsbGuBx+tBTU2NbRyp+hNsa2vD8uXLsW3bNsyYcz6uu/FunHbGeXA6afbQDWrqrJI/zAEHuOvn8RSgu7vH+FA8vu5X+PzfH+Dqq6/Gxo0bbaeJ473a2NiILr8fJWXjUVpWaYbY6vMweZ9yPrL421vQ0d4CmjtUV1fbbtGY7O9A/7MiqPJChw8fNjarTz75pLnujDkXYPa5F+EbU2tRWl4Jp8udnhJ5oLaN7WcOmB+oQFcHGvd9jvff3IoP39yOgL8Vs2bNwkMPPYRzzz13bNuoq4uACIwpAQo5zYcPw+UuQGl5BXyFJXA4+eORXIxbJbC6w5gw8JkYi8WN/W1nRzOiPVFMmDDB9rtGDQ0NuP7676Op6RBmnrkAl133M5xy2myUV06C1+e2jGKFkyEcjKC1uRGffLgTz228D5/tfhdTpkzBpk2bMHfu3DGdL9m6eCAQQOPBg4DTibLxVfAVJvxjrC6sGiHVwTENgKE/Y9EeTKquNsJqtljmYr1ZE1STnd29ezfWPfAAGrY24Isvvkx+bLn/VVWVmDv3bCN8L1682HLtV4NFQASyQ4AmAM3NzQiFQnAXFMDrLTJbrhReEw+aXDdijSMei4PhthhTNBwKoqcnYrb7KaQyykE+lPb2dqxduxaPrn8ELa1tZjewquYklJSWo7CkLLcjgydWGPB3tpm/5oOJZ2119STcdNPNuOWWW4xdtZ3HkfOvqakJkUjEmOkVlZTB4/HB4XTBSmFy+WvBndxYLGpi3gb87QgHu4x5Ec1v7BR5Y6j3Y9YF1fSG0HaVGohwOGyJYNmc+3QGo9H95MmTjadven/0WgREQASSBKjV6ehoRzgcMfaOjHVoRNRcl1PZgTiVUU643G6zNUy7+3zyKk6OIf/7/X6888472Lx5M3bt+hiHmprQk/M2q9TcO8zYTZw4EafXnY4llyzBnDln2m6rP32s+r/mnOvo6AAXHTTboCOZ2+U25hBWiTvKHY14LIpotMf80f593LhxZlfDKn3oPy7H+35UBdXjbazOFwEREIFcJkBtDjWsXIzTOccqW4+0x3S53GYxTo0NYzTme6F2jppyLkAoAFmh0LmICwxq3iorE7aaVmh3JtvIseJig3+cj9HkPLTCgrFXm+p0cD66TCIKOk1RWZavQirvDQmqmZwhqksEREAEREAERCAnCDCEHAVXLhitsmikuRD/zA6HzRNRDPUmkaA6VFI6TgREQAREQAREQAREYFQJZDTg/6i2XBcTAREQAREQAREQARGwNQEJqrYeXnVOBERABERABERABKxLQIKqdcdOLRcBERABERABERABWxOQoGrr4VXnREAEREAEREAERMC6BCSoWnfs1HIREAEREAEREAERsDUBCaq2Hl51TgREQAREQAREQASsS0CCqnXHTi0XAREQAREQAREQAVsTkKBq6+FV50RABERABERABETAugQkqFp37NRyERABERABERABEbA1AQmqth5edU4EREAEREAEREAErEtAgqp1x04tFwEREAEREAEREAFbE5CgauvhVedEQAREQAREQAREwLoEJKhad+zUchEQAREQAREQARGwNQEJqrYeXnVOBERABERABERABKxLQIKqdcdOLRcBERABERABERABWxOQoGrr4VXnREAEREAEREAERMC6BP4Hiwk+4i03kkIAAAAASUVORK5CYII=)"
      ]
    },
    {
      "cell_type": "markdown",
      "metadata": {
        "id": "G4aTLXA_cSJg",
        "colab_type": "text"
      },
      "source": [
        "**Vanishing and exploding gradient problems**: The challenges of learning long-range interactions\n",
        "\n",
        "![image.png](data:image/png;base64,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)"
      ]
    },
    {
      "cell_type": "markdown",
      "metadata": {
        "id": "8T6pr6ZqbWG4",
        "colab_type": "text"
      },
      "source": [
        "**Long short-term memory cells(LSTM)**\n",
        "\n",
        "LSTM successfully solves the vanishing\n",
        "and exploding gradient problems while modeling long-range dependencies through\n",
        "the use of memory cells."
      ]
    },
    {
      "cell_type": "markdown",
      "metadata": {
        "id": "IiumuRu7csoC",
        "colab_type": "text"
      },
      "source": [
        "![image.png](data:image/png;base64,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)"
      ]
    },
    {
      "cell_type": "markdown",
      "metadata": {
        "id": "rFiCyWQ-NC5D",
        "colab_type": "text"
      },
      "source": [
        "**1. Sentiment analysis using RNN: IMDb movie reviews**\n",
        "\n",
        "Please note, below example is provided by Tensorflow team. For more details, please check:\n",
        "https://colab.research.google.com/github/tensorflow/"
      ]
    },
    {
      "cell_type": "code",
      "metadata": {
        "id": "Y20Lud2ZMBhW",
        "colab_type": "code",
        "colab": {}
      },
      "source": [
        "import tensorflow as tf\n",
        "\n",
        "from __future__ import absolute_import, division, print_function, unicode_literals\n",
        "\n",
        "import tensorflow_datasets as tfds\n",
        "import tensorflow as tf\n",
        "# print(tf.__version__)"
      ],
      "execution_count": 0,
      "outputs": []
    },
    {
      "cell_type": "code",
      "metadata": {
        "id": "Aclov8NVMJml",
        "colab_type": "code",
        "colab": {}
      },
      "source": [
        "# If the tf.__version__ is 1.x, please run this cell\n",
        "#!pip install tensorflow==2.0.0"
      ],
      "execution_count": 0,
      "outputs": []
    },
    {
      "cell_type": "markdown",
      "metadata": {
        "colab_type": "text",
        "id": "iAsKG535pHep"
      },
      "source": [
        "<a id=\"download\"></a>\n",
        "\n",
        "## Download the IMDB dataset\n",
        "\n",
        "The IMDB movie reviews dataset comes packaged in `tfds`. It has already been preprocessed so that the reviews (sequences of words) have been converted to sequences of integers, where each integer represents a specific word in a dictionary.\n",
        "\n",
        "The following code downloads the IMDB dataset to your machine (or uses a cached copy if you've already downloaded it):\n",
        "\n",
        "To encode your own text see the [Loading text tutorial](../load_data/text.ipynb)"
      ]
    },
    {
      "cell_type": "code",
      "metadata": {
        "id": "AW-4Vo4TMUHb",
        "colab_type": "code",
        "colab": {
          "base_uri": "https://localhost:8080/",
          "height": 333,
          "referenced_widgets": [
            "5dd69d6ee535448892433ef74269dae8",
            "5a11dc68906f47a6865695ac7754250d",
            "0b055d22549b47c8b8759d186b624460",
            "ac4a5be36e0b4b5796eea9ee07829a90",
            "4777566581bb4adcabcbb9f7f5926294",
            "07babb672c6b4d2b99ec9ffe829cd6a7",
            "46f16b361dc04959a941793e6eacb420",
            "4cd72aec899b46949e7984b99d197ea8",
            "1ff3a436d71e4bf5b7c5861a8baca41e",
            "3de2cf31b53e432797698d2bf7d527bd",
            "cc6ed85c15fb40cd82f8637222f3d041",
            "66397a4ef3334b32b63ca4aaff8f0a08",
            "91f91fabee224bebb34e222b8121accd",
            "bcac08956cdc40b7a47cf1da2c0df38c",
            "a4930e7b8600430c94b242b062073f69",
            "239fe077b1184f398faaf8b0aa138173",
            "548316ade2d74642b419114d8b5af5a7",
            "670341007729425db01427430c14656e",
            "c4ed9c666779499696ae7e6b8aa0b3d0",
            "7bb5f44c624a4e52b124377b3378f376",
            "74af621799424bd18b5d2a7f7f7be4bf",
            "dbbed50e6d5543acaff06fd1bee74e1d",
            "a161bc5c37e349c59e95b1cac04e29e6",
            "31b60ced33fc4483b94e0f4ab70c492a",
            "dda1d6d66e3c4b97a388b05a000961f3",
            "7d841c9285324723a81b9b0c0288bb96",
            "d3958b949e2b41ea80310e2dfa22d1c2",
            "57938921eb574085b6614803ce470031",
            "36b3865264e84fd5a6c8e5f443677f17",
            "301ae0bac86f4118b698cdbad92c770f",
            "cd1c65e171fd4b5eb8bd6bdb11b6c05f",
            "76822c4aa7184262993a5a7552a240f5",
            "050bbd7403794fe29f3eb15f423799c8",
            "401fff3cf17041b594aa99dadef56529",
            "90e2879e7149415580a7ee1588efcb5f",
            "01ae039642aa4eb989f3005448138652",
            "2a87e3cbcb2d4913a6c098dd4e49f013",
            "4e211300e2974846ad32e52d2c5e5266",
            "2547dda2186f412aaa2b3db51b2dccfc",
            "a14ce270b25e4bc3ad9eadf12dba73c5",
            "ae017cad86aa485eb0ae9b1d22ec7243",
            "998b760ddc4e4d768a4ec72f5ea1dc21",
            "301f1df4c58d41d0b0677123492ce343",
            "99a7818a48e641f4bb48e2f0ff5b328c",
            "65d6ca583e144f84bba3280f0c878dc3",
            "546fc113c6be4da193804e45831ebbf1",
            "4e31944beaa74af281aa05e71d9a58b1",
            "3e254e7fc04c446e83e36f17ffbfcdb9",
            "9884ee3bb3b2402189ed9d0ac8dcabd5",
            "20bdf2e195504a99a00582d1f2220bba",
            "20a6702928e74abe8066600b03ab796f",
            "d0bdab754f074c5ab5dd2fc85e090ad0",
            "bad11dd14e734818a9ab1ca33892d5e4",
            "7d8e636369124aa19b284a84494580c2",
            "54945cc7a6b244d491bd1879227d1037",
            "700ff474b76e4846852535d0712cd854",
            "76ba838137094e5c8d1ea41980b3b779",
            "2042879c51674210b2443d2acf9dc6d5",
            "790d6f169193467ead847be372977a8d",
            "ea3e65c1c937415d975535602378ca50",
            "a433942413d24f7baf3b1df7fe115a2f",
            "8a9f8fdcbcb84ab5a08437a62304d02b",
            "68dae1bfd7ea4a6a9ee65e0f7a434e06",
            "74c93e6df82c49cab5e1eb75fd879de7"
          ]
        },
        "outputId": "a3be8454-f3ca-4576-9a36-c14da1d55560"
      },
      "source": [
        "# Get the data(Will take about 3 mints)\n",
        "# Use the version pre-encoded with an ~8k vocabulary.  # Also return the `info` structure. \n",
        "dataset, info = tfds.load('imdb_reviews/subwords8k', with_info=True, as_supervised=True)\n",
        "# Return (example, label) pairs from the dataset (instead of a dictionary).\n",
        "train_dataset, test_dataset = dataset['train'], dataset['test']"
      ],
      "execution_count": 28,
      "outputs": [
        {
          "output_type": "stream",
          "text": [
            "\u001b[1mDownloading and preparing dataset imdb_reviews/subwords8k/1.0.0 (download: 80.23 MiB, generated: Unknown size, total: 80.23 MiB) to /root/tensorflow_datasets/imdb_reviews/subwords8k/1.0.0...\u001b[0m\n"
          ],
          "name": "stdout"
        },
        {
          "output_type": "display_data",
          "data": {
            "application/vnd.jupyter.widget-view+json": {
              "model_id": "5dd69d6ee535448892433ef74269dae8",
              "version_minor": 0,
              "version_major": 2
            },
            "text/plain": [
              "HBox(children=(IntProgress(value=1, bar_style='info', description='Dl Completed...', max=1, style=ProgressStyl…"
            ]
          },
          "metadata": {
            "tags": []
          }
        },
        {
          "output_type": "display_data",
          "data": {
            "application/vnd.jupyter.widget-view+json": {
              "model_id": "1ff3a436d71e4bf5b7c5861a8baca41e",
              "version_minor": 0,
              "version_major": 2
            },
            "text/plain": [
              "HBox(children=(IntProgress(value=1, bar_style='info', description='Dl Size...', max=1, style=ProgressStyle(des…"
            ]
          },
          "metadata": {
            "tags": []
          }
        },
        {
          "output_type": "stream",
          "text": [
            "\n",
            "\n",
            "\n",
            "\n"
          ],
          "name": "stdout"
        },
        {
          "output_type": "display_data",
          "data": {
            "application/vnd.jupyter.widget-view+json": {
              "model_id": "548316ade2d74642b419114d8b5af5a7",
              "version_minor": 0,
              "version_major": 2
            },
            "text/plain": [
              "HBox(children=(IntProgress(value=1, bar_style='info', max=1), HTML(value='')))"
            ]
          },
          "metadata": {
            "tags": []
          }
        },
        {
          "output_type": "stream",
          "text": [
            "\rShuffling and writing examples to /root/tensorflow_datasets/imdb_reviews/subwords8k/1.0.0.incompleteOHCGRM/imdb_reviews-train.tfrecord\n"
          ],
          "name": "stdout"
        },
        {
          "output_type": "display_data",
          "data": {
            "application/vnd.jupyter.widget-view+json": {
              "model_id": "dda1d6d66e3c4b97a388b05a000961f3",
              "version_minor": 0,
              "version_major": 2
            },
            "text/plain": [
              "HBox(children=(IntProgress(value=0, max=25000), HTML(value='')))"
            ]
          },
          "metadata": {
            "tags": []
          }
        },
        {
          "output_type": "stream",
          "text": [
            "\r"
          ],
          "name": "stdout"
        },
        {
          "output_type": "display_data",
          "data": {
            "application/vnd.jupyter.widget-view+json": {
              "model_id": "050bbd7403794fe29f3eb15f423799c8",
              "version_minor": 0,
              "version_major": 2
            },
            "text/plain": [
              "HBox(children=(IntProgress(value=1, bar_style='info', max=1), HTML(value='')))"
            ]
          },
          "metadata": {
            "tags": []
          }
        },
        {
          "output_type": "stream",
          "text": [
            "\rShuffling and writing examples to /root/tensorflow_datasets/imdb_reviews/subwords8k/1.0.0.incompleteOHCGRM/imdb_reviews-test.tfrecord\n"
          ],
          "name": "stdout"
        },
        {
          "output_type": "display_data",
          "data": {
            "application/vnd.jupyter.widget-view+json": {
              "model_id": "ae017cad86aa485eb0ae9b1d22ec7243",
              "version_minor": 0,
              "version_major": 2
            },
            "text/plain": [
              "HBox(children=(IntProgress(value=0, max=25000), HTML(value='')))"
            ]
          },
          "metadata": {
            "tags": []
          }
        },
        {
          "output_type": "stream",
          "text": [
            "\r"
          ],
          "name": "stdout"
        },
        {
          "output_type": "display_data",
          "data": {
            "application/vnd.jupyter.widget-view+json": {
              "model_id": "9884ee3bb3b2402189ed9d0ac8dcabd5",
              "version_minor": 0,
              "version_major": 2
            },
            "text/plain": [
              "HBox(children=(IntProgress(value=1, bar_style='info', max=1), HTML(value='')))"
            ]
          },
          "metadata": {
            "tags": []
          }
        },
        {
          "output_type": "stream",
          "text": [
            "\rShuffling and writing examples to /root/tensorflow_datasets/imdb_reviews/subwords8k/1.0.0.incompleteOHCGRM/imdb_reviews-unsupervised.tfrecord\n"
          ],
          "name": "stdout"
        },
        {
          "output_type": "display_data",
          "data": {
            "application/vnd.jupyter.widget-view+json": {
              "model_id": "76ba838137094e5c8d1ea41980b3b779",
              "version_minor": 0,
              "version_major": 2
            },
            "text/plain": [
              "HBox(children=(IntProgress(value=0, max=50000), HTML(value='')))"
            ]
          },
          "metadata": {
            "tags": []
          }
        },
        {
          "output_type": "stream",
          "text": [
            "\u001b[1mDataset imdb_reviews downloaded and prepared to /root/tensorflow_datasets/imdb_reviews/subwords8k/1.0.0. Subsequent calls will reuse this data.\u001b[0m\n",
            "\r"
          ],
          "name": "stdout"
        }
      ]
    },
    {
      "cell_type": "code",
      "metadata": {
        "id": "TFZh85zGivHk",
        "colab_type": "code",
        "colab": {}
      },
      "source": [
        "# In class we are only going to use the first 2500 data. Please run the whole dataset on you own. There are 25000 for each training and testing in total\n",
        "# train_dataset =train_dataset.take(2500) \n",
        "# test_dataset = test_dataset.take(2500)"
      ],
      "execution_count": 0,
      "outputs": []
    },
    {
      "cell_type": "markdown",
      "metadata": {
        "colab_type": "text",
        "id": "qvA8HYDJj8OU"
      },
      "source": [
        "<a id=\"encoder\"></a>\n",
        "\n",
        "## Try the encoder\n",
        "\n",
        " The dataset `info` includes the text encoder (a `tfds.features.text.SubwordTextEncoder`)."
      ]
    },
    {
      "cell_type": "code",
      "metadata": {
        "id": "DVfhKpHsPOxq",
        "colab_type": "code",
        "colab": {
          "base_uri": "https://localhost:8080/",
          "height": 34
        },
        "outputId": "a0a1e795-1c9e-4a38-fc19-5c809b86ba7f"
      },
      "source": [
        "tokenizer = info.features['text'].encoder\n",
        "print ('Vocabulary size: {}'.format(tokenizer.vocab_size))"
      ],
      "execution_count": 30,
      "outputs": [
        {
          "output_type": "stream",
          "text": [
            "Vocabulary size: 8185\n"
          ],
          "name": "stdout"
        }
      ]
    },
    {
      "cell_type": "markdown",
      "metadata": {
        "colab_type": "text",
        "id": "tAfGg8YRe6fu"
      },
      "source": [
        "This text encoder will reversibly encode any string:"
      ]
    },
    {
      "cell_type": "code",
      "metadata": {
        "colab_type": "code",
        "id": "Bq6xDmf2SAs-",
        "colab": {
          "base_uri": "https://localhost:8080/",
          "height": 52
        },
        "outputId": "68cd18a1-3df7-41f6-aaf9-596610bf7275"
      },
      "source": [
        "sample_string = 'Hello Johns Hopkins.'\n",
        "\n",
        "encoded_string = tokenizer.encode(sample_string)\n",
        "print ('Encoded string is {}'.format(encoded_string))\n",
        "\n",
        "original_string = tokenizer.decode(encoded_string)\n",
        "print ('The original string: \"{}\"'.format(original_string))\n",
        "\n",
        "assert original_string == sample_string"
      ],
      "execution_count": 31,
      "outputs": [
        {
          "output_type": "stream",
          "text": [
            "Encoded string is [4025, 222, 5561, 8, 6274, 5814, 7975]\n",
            "The original string: \"Hello Johns Hopkins.\"\n"
          ],
          "name": "stdout"
        }
      ]
    },
    {
      "cell_type": "markdown",
      "metadata": {
        "colab_type": "text",
        "id": "TbhM970AVA8w"
      },
      "source": [
        "The encoder encodes the string by breaking it into subwords or characters if the word is not in its dictionary. So the more a string resembles the dataset, the shorter the encoded representation will be."
      ]
    },
    {
      "cell_type": "code",
      "metadata": {
        "colab_type": "code",
        "id": "GUIRWSO8yxT5",
        "colab": {
          "base_uri": "https://localhost:8080/",
          "height": 138
        },
        "outputId": "16716106-4e5d-4295-da3b-045ff04f13e6"
      },
      "source": [
        "for ts in encoded_string:\n",
        "  print ('{} ----> {}'.format(ts, tokenizer.decode([ts])))"
      ],
      "execution_count": 32,
      "outputs": [
        {
          "output_type": "stream",
          "text": [
            "4025 ----> Hell\n",
            "222 ----> o \n",
            "5561 ----> John\n",
            "8 ----> s \n",
            "6274 ----> Hop\n",
            "5814 ----> kins\n",
            "7975 ----> .\n"
          ],
          "name": "stdout"
        }
      ]
    },
    {
      "cell_type": "markdown",
      "metadata": {
        "colab_type": "text",
        "id": "l50X3GfjpU4r"
      },
      "source": [
        "## Explore the data\n",
        "\n",
        "Let's take a moment to understand the format of the data. The dataset comes preprocessed: each example is an array of integers representing the words of the movie review. \n",
        "\n",
        "The text of reviews have been converted to integers, where each integer represents a specific word-piece in the dictionary. \n",
        "\n",
        "Each label is an integer value of either 0 or 1, where 0 is a negative review, and 1 is a positive review.\n",
        "\n",
        "Here's what the first review looks like:"
      ]
    },
    {
      "cell_type": "code",
      "metadata": {
        "colab_type": "code",
        "id": "cxnWQJijdGA1",
        "colab": {
          "base_uri": "https://localhost:8080/",
          "height": 242
        },
        "outputId": "122d072f-ee96-4bac-9bb4-0ceb68dad5c2"
      },
      "source": [
        "for train_example, train_label in train_dataset.take(1):\n",
        "  print('Encoded text:', train_example.numpy())\n",
        "  print('Label:', train_label.numpy())\n"
      ],
      "execution_count": 33,
      "outputs": [
        {
          "output_type": "stream",
          "text": [
            "Encoded text: [  62   18   41  604  927   65    3  644 7968   21   35 5096   36   11\n",
            "   43 2948 5240  102   50  681 7862 1244    3 3266   29  122  640    2\n",
            "   26   14  279  438   35   79  349  384   11 1991    3  492   79  122\n",
            "  188  117   33 4047 4531   14   65 7968    8 1819 3947    3   62   27\n",
            "    9   41  577 5044 2629 2552 7193 7961 3642    3   19  107 3903  225\n",
            "   85  198   72    1 1512  738 2347  102 6245    8   85  308   79 6936\n",
            " 7961   23 4981 8044    3 6429 7961 1141 1335 1848 4848   55 3601 4217\n",
            " 8050    2    5   59 3831 1484 8040 7974  174 5773   22 5240  102   18\n",
            "  247   26    4 3903 1612 3902  291   11    4   27   13   18 4092 4008\n",
            " 7961    6  119  213 2774    3   12  258 2306   13   91   29  171   52\n",
            "  229    2 1245 5790  995 7968    8   52 2948 5240 8039 7968    8   74\n",
            " 1249    3   12  117 2438 1369  192   39 7975]\n",
            "Label: 0\n"
          ],
          "name": "stdout"
        }
      ]
    },
    {
      "cell_type": "markdown",
      "metadata": {
        "colab_type": "text",
        "id": "wy0v9Hs4v41q"
      },
      "source": [
        "The `info` structure contains the encoder/decoder. The encoder can be used to recover the original text:"
      ]
    },
    {
      "cell_type": "code",
      "metadata": {
        "colab_type": "code",
        "id": "34VUXtgxsVpf",
        "colab": {
          "base_uri": "https://localhost:8080/",
          "height": 54
        },
        "outputId": "7e383ed0-d371-47ad-ad46-07a232d319fa"
      },
      "source": [
        "tokenizer.decode(train_example)"
      ],
      "execution_count": 34,
      "outputs": [
        {
          "output_type": "execute_result",
          "data": {
            "text/plain": [
              "\"This was an absolutely terrible movie. Don't be lured in by Christopher Walken or Michael Ironside. Both are great actors, but this must simply be their worst role in history. Even their great acting could not redeem this movie's ridiculous storyline. This movie is an early nineties US propaganda piece. The most pathetic scenes were those when the Columbian rebels were making their cases for revolutions. Maria Conchita Alonso appeared phony, and her pseudo-love affair with Walken was nothing but a pathetic emotional plug in a movie that was devoid of any real meaning. I am disappointed that there are movies like this, ruining actor's like Christopher Walken's good name. I could barely sit through it.\""
            ]
          },
          "metadata": {
            "tags": []
          },
          "execution_count": 34
        }
      ]
    },
    {
      "cell_type": "markdown",
      "metadata": {
        "colab_type": "text",
        "id": "qJmTiO0IYAjm"
      },
      "source": [
        "## Prepare the data for training\n",
        "\n",
        "You will want to create batches of training data for your model. The reviews are all different lengths, so use `padded_batch` to zero pad the sequences while batching:"
      ]
    },
    {
      "cell_type": "code",
      "metadata": {
        "id": "ffvRUI0_McDS",
        "colab_type": "code",
        "colab": {}
      },
      "source": [
        "BUFFER_SIZE = 1000\n",
        "BATCH_SIZE = 64\n",
        "\n",
        "train_dataset = train_dataset.shuffle(BUFFER_SIZE)\n",
        "train_dataset = train_dataset.padded_batch(BATCH_SIZE, tf.compat.v1.data.get_output_shapes(train_dataset))\n",
        "test_dataset = test_dataset.padded_batch(BATCH_SIZE, tf.compat.v1.data.get_output_shapes(test_dataset))"
      ],
      "execution_count": 0,
      "outputs": []
    },
    {
      "cell_type": "markdown",
      "metadata": {
        "colab_type": "text",
        "id": "9D9pIr0JwvRl"
      },
      "source": [
        "Each batch will have a shape of `(batch_size, sequence_length)` because the padding is dynamic each batch will have a different length. The sequence_length for each batch is taken from longest text within that batch"
      ]
    },
    {
      "cell_type": "code",
      "metadata": {
        "colab_type": "code",
        "id": "sXXne4DreQfv",
        "colab": {
          "base_uri": "https://localhost:8080/",
          "height": 86
        },
        "outputId": "c85cad41-27b3-476c-9954-5489d64dbc6c"
      },
      "source": [
        "for example_batch, label_batch in train_dataset.take(2):\n",
        "  print(\"Batch shape:\", example_batch.shape)\n",
        "  print(\"label shape:\", label_batch.shape)\n",
        "  "
      ],
      "execution_count": 36,
      "outputs": [
        {
          "output_type": "stream",
          "text": [
            "Batch shape: (64, 1023)\n",
            "label shape: (64,)\n",
            "Batch shape: (64, 1217)\n",
            "label shape: (64,)\n"
          ],
          "name": "stdout"
        }
      ]
    },
    {
      "cell_type": "markdown",
      "metadata": {
        "colab_type": "text",
        "id": "LLC02j2g-llC"
      },
      "source": [
        "## Build the model\n",
        "The first layer is an `Embedding` layer. This layer takes the integer-encoded vocabulary and looks up the embedding vector for each word-index. These vectors are learned as the model trains. The vectors add a dimension to the output array. The resulting dimensions are: `(batch, sequence, embedding)`."
      ]
    },
    {
      "cell_type": "code",
      "metadata": {
        "id": "FxQooMEkMgur",
        "colab_type": "code",
        "colab": {}
      },
      "source": [
        "model = tf.keras.Sequential([\n",
        "    tf.keras.layers.Embedding(tokenizer.vocab_size, 32),\n",
        "    tf.keras.layers.Bidirectional(tf.keras.layers.LSTM(16)),\n",
        "    tf.keras.layers.Dense(16, activation='relu'),\n",
        "    tf.keras.layers.Dense(1, activation='sigmoid')\n",
        "])"
      ],
      "execution_count": 0,
      "outputs": []
    },
    {
      "cell_type": "code",
      "metadata": {
        "id": "QKI5dfPgMioL",
        "colab_type": "code",
        "colab": {
          "base_uri": "https://localhost:8080/",
          "height": 294
        },
        "outputId": "fd899ba5-6348-494d-e296-143b464b5c05"
      },
      "source": [
        "model.summary()"
      ],
      "execution_count": 38,
      "outputs": [
        {
          "output_type": "stream",
          "text": [
            "Model: \"sequential\"\n",
            "_________________________________________________________________\n",
            "Layer (type)                 Output Shape              Param #   \n",
            "=================================================================\n",
            "embedding (Embedding)        (None, None, 32)          261920    \n",
            "_________________________________________________________________\n",
            "bidirectional (Bidirectional (None, 32)                6272      \n",
            "_________________________________________________________________\n",
            "dense (Dense)                (None, 16)                528       \n",
            "_________________________________________________________________\n",
            "dense_1 (Dense)              (None, 1)                 17        \n",
            "=================================================================\n",
            "Total params: 268,737\n",
            "Trainable params: 268,737\n",
            "Non-trainable params: 0\n",
            "_________________________________________________________________\n"
          ],
          "name": "stdout"
        }
      ]
    },
    {
      "cell_type": "code",
      "metadata": {
        "id": "Uip7QOVzMoMq",
        "colab_type": "code",
        "colab": {}
      },
      "source": [
        "model.compile(loss='binary_crossentropy', optimizer='adam', metrics=['accuracy'])"
      ],
      "execution_count": 0,
      "outputs": []
    },
    {
      "cell_type": "markdown",
      "metadata": {
        "id": "Inf5WZ0LKlc9",
        "colab_type": "text"
      },
      "source": [
        "This is very important to know that in the below code, we arbitrarily pick \"steps_per_epoch=8\", which means every epoch we will only use 8*64(batch_size)=512 rows of data in order to run this for a reasonable time in class. Same for the \"validation_step\". When you run this on you own you should use the entire dataset.For example: setting steps to 25000/64=390\n"
      ]
    },
    {
      "cell_type": "code",
      "metadata": {
        "id": "7mlgzaRDMtF6",
        "colab_type": "code",
        "colab": {
          "base_uri": "https://localhost:8080/",
          "height": 363
        },
        "outputId": "9667ce1a-af33-46e5-a74b-e16fb5403d83"
      },
      "source": [
        "NUM_EPOCHS = 10\n",
        "\n",
        "history = model.fit(train_dataset, epochs=NUM_EPOCHS, validation_data=test_dataset, validation_steps=8,steps_per_epoch=8)  "
      ],
      "execution_count": 40,
      "outputs": [
        {
          "output_type": "stream",
          "text": [
            "Epoch 1/10\n",
            "8/8 [==============================] - 9s 1s/step - loss: 0.6942 - accuracy: 0.4883 - val_loss: 0.6935 - val_accuracy: 0.4961\n",
            "Epoch 2/10\n",
            "8/8 [==============================] - 8s 994ms/step - loss: 0.6922 - accuracy: 0.5312 - val_loss: 0.6934 - val_accuracy: 0.4961\n",
            "Epoch 3/10\n",
            "8/8 [==============================] - 9s 1s/step - loss: 0.6925 - accuracy: 0.5059 - val_loss: 0.6933 - val_accuracy: 0.4961\n",
            "Epoch 4/10\n",
            "8/8 [==============================] - 9s 1s/step - loss: 0.6933 - accuracy: 0.4902 - val_loss: 0.6929 - val_accuracy: 0.4941\n",
            "Epoch 5/10\n",
            "8/8 [==============================] - 9s 1s/step - loss: 0.6923 - accuracy: 0.5254 - val_loss: 0.6926 - val_accuracy: 0.4961\n",
            "Epoch 6/10\n",
            "8/8 [==============================] - 13s 2s/step - loss: 0.6930 - accuracy: 0.4863 - val_loss: 0.6924 - val_accuracy: 0.5332\n",
            "Epoch 7/10\n",
            "8/8 [==============================] - 11s 1s/step - loss: 0.6918 - accuracy: 0.5449 - val_loss: 0.6923 - val_accuracy: 0.5430\n",
            "Epoch 8/10\n",
            "8/8 [==============================] - 8s 1s/step - loss: 0.6916 - accuracy: 0.5352 - val_loss: 0.6918 - val_accuracy: 0.5469\n",
            "Epoch 9/10\n",
            "8/8 [==============================] - 9s 1s/step - loss: 0.6894 - accuracy: 0.5820 - val_loss: 0.6910 - val_accuracy: 0.5312\n",
            "Epoch 10/10\n",
            "8/8 [==============================] - 9s 1s/step - loss: 0.6872 - accuracy: 0.6016 - val_loss: 0.6890 - val_accuracy: 0.5508\n"
          ],
          "name": "stdout"
        }
      ]
    },
    {
      "cell_type": "code",
      "metadata": {
        "colab_type": "code",
        "id": "Mp1Z7P9pYRSK",
        "colab": {}
      },
      "source": [
        "import matplotlib.pyplot as plt\n",
        "\n",
        "\n",
        "def plot_graphs(history, string):\n",
        "  plt.plot(history.history[string])\n",
        "  plt.plot(history.history['val_'+string])\n",
        "  plt.xlabel(\"Epochs\")\n",
        "  plt.ylabel(string)\n",
        "  plt.legend([string, 'val_'+string])\n",
        "  plt.show()"
      ],
      "execution_count": 0,
      "outputs": []
    },
    {
      "cell_type": "code",
      "metadata": {
        "id": "R_sX6ilIM515",
        "colab_type": "code",
        "colab": {
          "base_uri": "https://localhost:8080/",
          "height": 279
        },
        "outputId": "8cd1a1ef-3032-4494-b44c-4416af93501c"
      },
      "source": [
        "plot_graphs(history, 'accuracy')"
      ],
      "execution_count": 45,
      "outputs": [
        {
          "output_type": "display_data",
          "data": {
            "image/png": "[encoded data removed]",
            "text/plain": [
              "<Figure size 432x288 with 1 Axes>"
            ]
          },
          "metadata": {
            "tags": [],
            "needs_background": "light"
          }
        }
      ]
    },
    {
      "cell_type": "code",
      "metadata": {
        "id": "RFEXtKtqNARB",
        "colab_type": "code",
        "colab": {
          "base_uri": "https://localhost:8080/",
          "height": 279
        },
        "outputId": "65190025-53b7-4989-8623-28b60bafdd22"
      },
      "source": [
        "plot_graphs(history, 'loss')"
      ],
      "execution_count": 46,
      "outputs": [
        {
          "output_type": "display_data",
          "data": {
            "image/png": "[encoded data removed]",
            "text/plain": [
              "<Figure size 432x288 with 1 Axes>"
            ]
          },
          "metadata": {
            "tags": [],
            "needs_background": "light"
          }
        }
      ]
    },
    {
      "cell_type": "markdown",
      "metadata": {
        "id": "hckdiiWkQ64n",
        "colab_type": "text"
      },
      "source": [
        "**2. Text generation with an RNN**\n",
        "\n",
        "Please note, below example is provided by laurence moroney. For more details, please check:\n",
        "https://github.com/lmoroney"
      ]
    },
    {
      "cell_type": "code",
      "metadata": {
        "id": "BOwsuGQQY9OL",
        "colab_type": "code",
        "colab": {}
      },
      "source": [
        "from tensorflow.keras.preprocessing.sequence import pad_sequences\n",
        "from tensorflow.keras.layers import Embedding, LSTM, Dense, Dropout, Bidirectional\n",
        "from tensorflow.keras.preprocessing.text import Tokenizer\n",
        "from tensorflow.keras.models import Sequential\n",
        "from tensorflow.keras.optimizers import Adam\n",
        "from tensorflow.keras import regularizers\n",
        "import tensorflow.keras.utils as ku \n",
        "import numpy as np "
      ],
      "execution_count": 0,
      "outputs": []
    },
    {
      "cell_type": "markdown",
      "metadata": {
        "id": "sYLRSHmorQ7o",
        "colab_type": "text"
      },
      "source": [
        "Below link is a txt dataset of Shakespeare's writing. We are going to ML how to write like Shakespeare!"
      ]
    },
    {
      "cell_type": "code",
      "metadata": {
        "colab_type": "code",
        "id": "PRnDnCW-Z7qv",
        "colab": {}
      },
      "source": [
        "tokenizer = Tokenizer()\n",
        "!wget --no-check-certificate \\\n",
        "    https://storage.googleapis.com/laurencemoroney-blog.appspot.com/sonnets.txt \\\n",
        "    -O /tmp/sonnets.txt\n",
        "data = open('/tmp/sonnets.txt').read()\n",
        "\n",
        "corpus = data.lower().split(\"\\n\")\n",
        "\n",
        "\n",
        "tokenizer.fit_on_texts(corpus)\n",
        "total_words = len(tokenizer.word_index) + 1\n",
        "\n",
        "# create input sequences using list of tokens\n",
        "# example:[[I, am], [I, am, Joe], [I, am, Joe, Zhou]] -> [[1,2],[1,2,85],[1,2,85,5]]\n",
        "input_sequences = []\n",
        "for line in corpus:\n",
        "\ttoken_list = tokenizer.texts_to_sequences([line])[0]\n",
        "\tfor i in range(1, len(token_list)):\n",
        "\t\tn_gram_sequence = token_list[:i+1]\n",
        "\t\tinput_sequences.append(n_gram_sequence)\n",
        "\n",
        "\n",
        "# pad sequences \n",
        "# example:[[1,2],[1,2,85],[1,2,85,5]] ->[[0,0,1,2],[0,1,2,85],[1,2,85,5]]\n",
        "max_sequence_len = max([len(x) for x in input_sequences])\n",
        "input_sequences = np.array(pad_sequences(input_sequences, maxlen=max_sequence_len, padding='pre'))#\"pre means put 0 at the front instead of at the end\"\n",
        "\n",
        "# create predictors and label\n",
        "# example: [1,2,85,5]:[1,2,85],[5]\n",
        "\n",
        "predictors, label = input_sequences[:,:-1],input_sequences[:,-1]\n",
        "\n",
        "label = ku.to_categorical(label, num_classes=total_words)"
      ],
      "execution_count": 0,
      "outputs": []
    },
    {
      "cell_type": "code",
      "metadata": {
        "id": "w9vH8Y59ajYL",
        "colab_type": "code",
        "colab": {}
      },
      "source": [
        "model = Sequential()\n",
        "model.add(Embedding(total_words, 100, input_length=max_sequence_len-1))\n",
        "model.add(Bidirectional(LSTM(150)))\n",
        "model.add(Dropout(0.2))\n",
        "model.add(Dense(total_words, activation='softmax'))\n",
        "\n",
        "model.compile(loss = 'categorical_crossentropy',optimizer = 'adam',metrics = ['accuracy'])\n",
        "print(model.summary())\n"
      ],
      "execution_count": 0,
      "outputs": []
    },
    {
      "cell_type": "code",
      "metadata": {
        "id": "AIg2f1HBxqof",
        "colab_type": "code",
        "colab": {}
      },
      "source": [
        " history = model.fit(predictors, label, epochs=15, verbose=1)"
      ],
      "execution_count": 0,
      "outputs": []
    },
    {
      "cell_type": "code",
      "metadata": {
        "id": "1fXTEO3GJ282",
        "colab_type": "code",
        "colab": {}
      },
      "source": [
        "import matplotlib.pyplot as plt\n",
        "acc = history.history['acc']\n",
        "loss = history.history['loss']\n",
        "\n",
        "epochs = range(len(acc))\n",
        "\n",
        "plt.plot(epochs, acc, 'b', label='Training accuracy')\n",
        "plt.title('Training accuracy')\n",
        "\n",
        "plt.figure()\n",
        "\n",
        "plt.plot(epochs, loss, 'b', label='Training Loss')\n",
        "plt.title('Training loss')\n",
        "plt.legend()\n",
        "\n",
        "plt.show()"
      ],
      "execution_count": 0,
      "outputs": []
    },
    {
      "cell_type": "code",
      "metadata": {
        "id": "6Vc6PHgxa6Hm",
        "colab_type": "code",
        "colab": {}
      },
      "source": [
        "seed_text = \"Professor Liew is the best professor in Johns Hopkins, and I should be the king of the world if I master this course\"\n",
        "next_words = 100\n",
        "  \n",
        "for _ in range(next_words):\n",
        "\ttoken_list = tokenizer.texts_to_sequences([seed_text])[0]\n",
        "\ttoken_list = pad_sequences([token_list], maxlen=max_sequence_len-1, padding='pre')\n",
        "\tpredicted = model.predict_classes(token_list, verbose=0)\n",
        "\toutput_word = \"\"\n",
        "\tfor word, index in tokenizer.word_index.items():\n",
        "\t\tif index == predicted:\n",
        "\t\t\toutput_word = word\n",
        "\t\t\tbreak\n",
        "\tseed_text += \" \" + output_word\n",
        "print(seed_text)"
      ],
      "execution_count": 0,
      "outputs": []
    },
    {
      "cell_type": "markdown",
      "metadata": {
        "id": "JUngPhT9zgd6",
        "colab_type": "text"
      },
      "source": [
        "## Assignment 6\n",
        "1. Rerun first part but use all the data in IMDB. \n",
        "\n",
        "Please run at your own to divide the DataFrame of cleaned text documents into 25,000 documents for training and 25,000 documents for testing\n",
        "\n",
        "Change below:\n",
        "\n",
        "X_train = df.loc[:2500, 'review'].values\n",
        "\n",
        "y_train = df.loc[:2500, 'sentiment'].values\n",
        "\n",
        "X_test = df.loc[47500 :, 'review'].values\n",
        "\n",
        "y_test = df.loc[47500 :, 'sentiment'].values\n",
        "\n"
      ]
    },
    {
      "cell_type": "markdown",
      "metadata": {
        "id": "fb6kdfoeVmXX",
        "colab_type": "text"
      },
      "source": [
        "## Assignment 6 (optional)\n",
        "\n",
        "Use the 2015-2019.txt file, which contains the Buffett's 2015-2019 annual letters to shareholders, and build a LSTM model.\n",
        "\n",
        "1. Your model should have a embedding layer, one LSTM layers with 150 neurons.\n",
        "2. Please include Dropout or L2 regularization\n",
        "3. Plot the training accuracy and loss \n",
        "4. Use your model to predict the next 50 words starts from:\"This is my favorate stock, and it is a great company. In 2020 We should invest in\". Try to make it sounds like meaningful sentences.\n",
        "\n",
        "Extra credit: \n",
        "Build a scale_factor function to control the randomness of the predicted word. Show two comparing examples using the same starting word above:\"This is my favorate stock, and it is a great company. In 2020 We should invest in\". "
      ]
    },
    {
      "cell_type": "code",
      "metadata": {
        "id": "UWUEdbAkzjl0",
        "colab_type": "code",
        "colab": {}
      },
      "source": [
        ""
      ],
      "execution_count": 0,
      "outputs": []
    }
  ]
}