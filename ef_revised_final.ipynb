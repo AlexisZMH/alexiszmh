{
  "nbformat": 4,
  "nbformat_minor": 0,
  "metadata": {
    "colab": {
      "name": "ef_revised (1).ipynb",
      "provenance": [],
      "collapsed_sections": []
    },
    "kernelspec": {
      "name": "python3",
      "display_name": "Python 3"
    }
  },
  "cells": [
    {
      "cell_type": "code",
      "metadata": {
        "id": "r6MypVRqWLqJ",
        "colab_type": "code",
        "outputId": "baa973cc-c1b1-43f0-eed1-ebfa0aab198c",
        "colab": {
          "base_uri": "https://localhost:8080/",
          "height": 306
        }
      },
      "source": [
        "!pip install arch"
      ],
      "execution_count": 1,
      "outputs": [
        {
          "output_type": "stream",
          "text": [
            "Collecting arch\n",
            "\u001b[?25l  Downloading https://files.pythonhosted.org/packages/52/80/d3c931ca4e432d32618315b65782c51d665e6fd078f92827421bb16517eb/arch-4.14-cp36-cp36m-manylinux1_x86_64.whl (805kB)\n",
            "\r\u001b[K     |▍                               | 10kB 20.3MB/s eta 0:00:01\r\u001b[K     |▉                               | 20kB 5.9MB/s eta 0:00:01\r\u001b[K     |█▏                              | 30kB 7.2MB/s eta 0:00:01\r\u001b[K     |█▋                              | 40kB 7.9MB/s eta 0:00:01\r\u001b[K     |██                              | 51kB 6.3MB/s eta 0:00:01\r\u001b[K     |██▍                             | 61kB 6.9MB/s eta 0:00:01\r\u001b[K     |██▉                             | 71kB 7.3MB/s eta 0:00:01\r\u001b[K     |███▎                            | 81kB 7.8MB/s eta 0:00:01\r\u001b[K     |███▋                            | 92kB 7.4MB/s eta 0:00:01\r\u001b[K     |████                            | 102kB 7.7MB/s eta 0:00:01\r\u001b[K     |████▌                           | 112kB 7.7MB/s eta 0:00:01\r\u001b[K     |████▉                           | 122kB 7.7MB/s eta 0:00:01\r\u001b[K     |█████▎                          | 133kB 7.7MB/s eta 0:00:01\r\u001b[K     |█████▊                          | 143kB 7.7MB/s eta 0:00:01\r\u001b[K     |██████                          | 153kB 7.7MB/s eta 0:00:01\r\u001b[K     |██████▌                         | 163kB 7.7MB/s eta 0:00:01\r\u001b[K     |███████                         | 174kB 7.7MB/s eta 0:00:01\r\u001b[K     |███████▎                        | 184kB 7.7MB/s eta 0:00:01\r\u001b[K     |███████▊                        | 194kB 7.7MB/s eta 0:00:01\r\u001b[K     |████████▏                       | 204kB 7.7MB/s eta 0:00:01\r\u001b[K     |████████▌                       | 215kB 7.7MB/s eta 0:00:01\r\u001b[K     |█████████                       | 225kB 7.7MB/s eta 0:00:01\r\u001b[K     |█████████▍                      | 235kB 7.7MB/s eta 0:00:01\r\u001b[K     |█████████▊                      | 245kB 7.7MB/s eta 0:00:01\r\u001b[K     |██████████▏                     | 256kB 7.7MB/s eta 0:00:01\r\u001b[K     |██████████▋                     | 266kB 7.7MB/s eta 0:00:01\r\u001b[K     |███████████                     | 276kB 7.7MB/s eta 0:00:01\r\u001b[K     |███████████▍                    | 286kB 7.7MB/s eta 0:00:01\r\u001b[K     |███████████▉                    | 296kB 7.7MB/s eta 0:00:01\r\u001b[K     |████████████▏                   | 307kB 7.7MB/s eta 0:00:01\r\u001b[K     |████████████▋                   | 317kB 7.7MB/s eta 0:00:01\r\u001b[K     |█████████████                   | 327kB 7.7MB/s eta 0:00:01\r\u001b[K     |█████████████▍                  | 337kB 7.7MB/s eta 0:00:01\r\u001b[K     |█████████████▉                  | 348kB 7.7MB/s eta 0:00:01\r\u001b[K     |██████████████▎                 | 358kB 7.7MB/s eta 0:00:01\r\u001b[K     |██████████████▋                 | 368kB 7.7MB/s eta 0:00:01\r\u001b[K     |███████████████                 | 378kB 7.7MB/s eta 0:00:01\r\u001b[K     |███████████████▌                | 389kB 7.7MB/s eta 0:00:01\r\u001b[K     |███████████████▉                | 399kB 7.7MB/s eta 0:00:01\r\u001b[K     |████████████████▎               | 409kB 7.7MB/s eta 0:00:01\r\u001b[K     |████████████████▊               | 419kB 7.7MB/s eta 0:00:01\r\u001b[K     |█████████████████               | 430kB 7.7MB/s eta 0:00:01\r\u001b[K     |█████████████████▌              | 440kB 7.7MB/s eta 0:00:01\r\u001b[K     |██████████████████              | 450kB 7.7MB/s eta 0:00:01\r\u001b[K     |██████████████████▎             | 460kB 7.7MB/s eta 0:00:01\r\u001b[K     |██████████████████▊             | 471kB 7.7MB/s eta 0:00:01\r\u001b[K     |███████████████████▏            | 481kB 7.7MB/s eta 0:00:01\r\u001b[K     |███████████████████▌            | 491kB 7.7MB/s eta 0:00:01\r\u001b[K     |████████████████████            | 501kB 7.7MB/s eta 0:00:01\r\u001b[K     |████████████████████▎           | 512kB 7.7MB/s eta 0:00:01\r\u001b[K     |████████████████████▊           | 522kB 7.7MB/s eta 0:00:01\r\u001b[K     |█████████████████████▏          | 532kB 7.7MB/s eta 0:00:01\r\u001b[K     |█████████████████████▌          | 542kB 7.7MB/s eta 0:00:01\r\u001b[K     |██████████████████████          | 552kB 7.7MB/s eta 0:00:01\r\u001b[K     |██████████████████████▍         | 563kB 7.7MB/s eta 0:00:01\r\u001b[K     |██████████████████████▊         | 573kB 7.7MB/s eta 0:00:01\r\u001b[K     |███████████████████████▏        | 583kB 7.7MB/s eta 0:00:01\r\u001b[K     |███████████████████████▋        | 593kB 7.7MB/s eta 0:00:01\r\u001b[K     |████████████████████████        | 604kB 7.7MB/s eta 0:00:01\r\u001b[K     |████████████████████████▍       | 614kB 7.7MB/s eta 0:00:01\r\u001b[K     |████████████████████████▉       | 624kB 7.7MB/s eta 0:00:01\r\u001b[K     |█████████████████████████▏      | 634kB 7.7MB/s eta 0:00:01\r\u001b[K     |█████████████████████████▋      | 645kB 7.7MB/s eta 0:00:01\r\u001b[K     |██████████████████████████      | 655kB 7.7MB/s eta 0:00:01\r\u001b[K     |██████████████████████████▍     | 665kB 7.7MB/s eta 0:00:01\r\u001b[K     |██████████████████████████▉     | 675kB 7.7MB/s eta 0:00:01\r\u001b[K     |███████████████████████████▎    | 686kB 7.7MB/s eta 0:00:01\r\u001b[K     |███████████████████████████▋    | 696kB 7.7MB/s eta 0:00:01\r\u001b[K     |████████████████████████████    | 706kB 7.7MB/s eta 0:00:01\r\u001b[K     |████████████████████████████▌   | 716kB 7.7MB/s eta 0:00:01\r\u001b[K     |████████████████████████████▉   | 727kB 7.7MB/s eta 0:00:01\r\u001b[K     |█████████████████████████████▎  | 737kB 7.7MB/s eta 0:00:01\r\u001b[K     |█████████████████████████████▊  | 747kB 7.7MB/s eta 0:00:01\r\u001b[K     |██████████████████████████████  | 757kB 7.7MB/s eta 0:00:01\r\u001b[K     |██████████████████████████████▌ | 768kB 7.7MB/s eta 0:00:01\r\u001b[K     |███████████████████████████████ | 778kB 7.7MB/s eta 0:00:01\r\u001b[K     |███████████████████████████████▎| 788kB 7.7MB/s eta 0:00:01\r\u001b[K     |███████████████████████████████▊| 798kB 7.7MB/s eta 0:00:01\r\u001b[K     |████████████████████████████████| 808kB 7.7MB/s \n",
            "\u001b[?25hRequirement already satisfied: cython>=0.29.14 in /usr/local/lib/python3.6/dist-packages (from arch) (0.29.16)\n",
            "Requirement already satisfied: numpy>=1.14 in /usr/local/lib/python3.6/dist-packages (from arch) (1.18.3)\n",
            "Requirement already satisfied: pandas>=0.23 in /usr/local/lib/python3.6/dist-packages (from arch) (1.0.3)\n",
            "Requirement already satisfied: scipy>=1.0.1 in /usr/local/lib/python3.6/dist-packages (from arch) (1.4.1)\n",
            "Requirement already satisfied: statsmodels>=0.9 in /usr/local/lib/python3.6/dist-packages (from arch) (0.10.2)\n",
            "Collecting property-cached>=1.6.3\n",
            "  Downloading https://files.pythonhosted.org/packages/5c/6c/94d8e520b20a2502e508e1c558f338061cf409cbee78fd6a3a5c6ae812bd/property_cached-1.6.4-py2.py3-none-any.whl\n",
            "Requirement already satisfied: python-dateutil>=2.6.1 in /usr/local/lib/python3.6/dist-packages (from pandas>=0.23->arch) (2.8.1)\n",
            "Requirement already satisfied: pytz>=2017.2 in /usr/local/lib/python3.6/dist-packages (from pandas>=0.23->arch) (2018.9)\n",
            "Requirement already satisfied: patsy>=0.4.0 in /usr/local/lib/python3.6/dist-packages (from statsmodels>=0.9->arch) (0.5.1)\n",
            "Requirement already satisfied: six>=1.5 in /usr/local/lib/python3.6/dist-packages (from python-dateutil>=2.6.1->pandas>=0.23->arch) (1.12.0)\n",
            "Installing collected packages: property-cached, arch\n",
            "Successfully installed arch-4.14 property-cached-1.6.4\n"
          ],
          "name": "stdout"
        }
      ]
    },
    {
      "cell_type": "code",
      "metadata": {
        "id": "wVs9ucbJWFaT",
        "colab_type": "code",
        "outputId": "e1a9bd48-8cbd-48e8-9b25-d8234238026b",
        "colab": {
          "base_uri": "https://localhost:8080/",
          "height": 138
        }
      },
      "source": [
        "import os\n",
        "import sys\n",
        "\n",
        "import pandas as pd\n",
        "import pandas_datareader.data as web\n",
        "import numpy as np\n",
        "\n",
        "import statsmodels.formula.api as smf\n",
        "import statsmodels.tsa.api as smt\n",
        "import statsmodels.api as sm\n",
        "import scipy.stats as scs\n",
        "from arch import arch_model\n",
        "\n",
        "import matplotlib.pyplot as plt\n",
        "import matplotlib as mpl\n",
        "%matplotlib inline\n",
        "p = print\n",
        "\n",
        "p('Machine: {} {}\\n'.format(os.uname().sysname,os.uname().machine))\n",
        "p(sys.version)\n",
        "\n",
        "# Machine: Linux x86_64\n",
        "\n",
        "# 3.5.2 |Anaconda custom (64-bit)| (default, Jul  2 2016, 17:53:06) \n",
        "# [GCC 4.4.7 20120313 (Red Hat 4.4.7-1)]"
      ],
      "execution_count": 2,
      "outputs": [
        {
          "output_type": "stream",
          "text": [
            "/usr/local/lib/python3.6/dist-packages/pandas_datareader/compat/__init__.py:7: FutureWarning: pandas.util.testing is deprecated. Use the functions in the public API at pandas.testing instead.\n",
            "  from pandas.util.testing import assert_frame_equal\n"
          ],
          "name": "stderr"
        },
        {
          "output_type": "stream",
          "text": [
            "Machine: Linux x86_64\n",
            "\n",
            "3.6.9 (default, Nov  7 2019, 10:44:02) \n",
            "[GCC 8.3.0]\n"
          ],
          "name": "stdout"
        }
      ]
    },
    {
      "cell_type": "code",
      "metadata": {
        "id": "E1GccAAmWaQs",
        "colab_type": "code",
        "outputId": "b700487e-27e0-4ea7-a8ea-ff23eb12e03e",
        "colab": {
          "base_uri": "https://localhost:8080/",
          "height": 121
        }
      },
      "source": [
        "from google.colab import drive\n",
        "drive.mount('/content/drive')"
      ],
      "execution_count": 4,
      "outputs": [
        {
          "output_type": "stream",
          "text": [
            "Go to this URL in a browser: https://accounts.google.com/o/oauth2/auth?client_id=947318989803-6bn6qk8qdgf4n4g3pfee6491hc0brc4i.apps.googleusercontent.com&redirect_uri=urn%3aietf%3awg%3aoauth%3a2.0%3aoob&response_type=code&scope=email%20https%3a%2f%2fwww.googleapis.com%2fauth%2fdocs.test%20https%3a%2f%2fwww.googleapis.com%2fauth%2fdrive%20https%3a%2f%2fwww.googleapis.com%2fauth%2fdrive.photos.readonly%20https%3a%2f%2fwww.googleapis.com%2fauth%2fpeopleapi.readonly\n",
            "\n",
            "Enter your authorization code:\n",
            "··········\n",
            "Mounted at /content/drive\n"
          ],
          "name": "stdout"
        }
      ]
    },
    {
      "cell_type": "code",
      "metadata": {
        "id": "iJI-Vcp9ct7Y",
        "colab_type": "code",
        "colab": {}
      },
      "source": [
        "file_=\"/content/drive/My Drive/SP500.xls\"\n",
        "file_2=\"/content/drive/My Drive/VIXCLS.xls\""
      ],
      "execution_count": 0,
      "outputs": []
    },
    {
      "cell_type": "code",
      "metadata": {
        "id": "Qt-5SQqQcx0o",
        "colab_type": "code",
        "outputId": "0cab2900-428b-4c7a-bf66-f8b5a2d98dd1",
        "colab": {
          "base_uri": "https://localhost:8080/",
          "height": 487
        }
      },
      "source": [
        "from pandas import to_datetime\n",
        "df=pd.DataFrame(pd.read_excel(file_))\n",
        "df.observation_date=to_datetime(df.observation_date,format=\"%Y/%m/%d\")\n",
        "print(df)\n",
        "df1=pd.read_excel(file_2)\n",
        "df1.observation_date=to_datetime(df1.observation_date,format=\"%Y/%m/%d\")\n",
        "print(df1)"
      ],
      "execution_count": 6,
      "outputs": [
        {
          "output_type": "stream",
          "text": [
            "     observation_date    SP500\n",
            "0          2011-04-25  1335.25\n",
            "1          2011-04-26  1347.24\n",
            "2          2011-04-27  1355.66\n",
            "3          2011-04-28  1360.48\n",
            "4          2011-04-29  1363.61\n",
            "...               ...      ...\n",
            "2345       2020-04-20  2823.16\n",
            "2346       2020-04-21  2736.56\n",
            "2347       2020-04-22  2799.31\n",
            "2348       2020-04-23  2797.80\n",
            "2349       2020-04-24  2836.74\n",
            "\n",
            "[2350 rows x 2 columns]\n",
            "     observation_date  VIXCLS\n",
            "0          2011-04-25   15.77\n",
            "1          2011-04-26   15.62\n",
            "2          2011-04-27   15.35\n",
            "3          2011-04-28   14.62\n",
            "4          2011-04-29   14.75\n",
            "...               ...     ...\n",
            "2345       2020-04-20   43.83\n",
            "2346       2020-04-21   45.41\n",
            "2347       2020-04-22   41.98\n",
            "2348       2020-04-23   41.38\n",
            "2349       2020-04-24   35.93\n",
            "\n",
            "[2350 rows x 2 columns]\n"
          ],
          "name": "stdout"
        }
      ]
    },
    {
      "cell_type": "code",
      "metadata": {
        "id": "x1be5hICdGAU",
        "colab_type": "code",
        "colab": {}
      },
      "source": [
        "data=pd.merge(df,df1)\n",
        "data.set_index(['observation_date'], inplace=True)"
      ],
      "execution_count": 0,
      "outputs": []
    },
    {
      "cell_type": "code",
      "metadata": {
        "id": "I6rcUH3TcWQ-",
        "colab_type": "code",
        "colab": {}
      },
      "source": [
        "lrets = np.log(data/data.shift(1)).dropna()"
      ],
      "execution_count": 0,
      "outputs": []
    },
    {
      "cell_type": "code",
      "metadata": {
        "id": "ek-VpT6dfiUY",
        "colab_type": "code",
        "outputId": "fdb11669-d806-4535-d053-3aa5287b79bc",
        "colab": {
          "base_uri": "https://localhost:8080/",
          "height": 390
        }
      },
      "source": [
        "max_lag = 30\n",
        "Y = lrets.SP500\n",
        "mdl = smt.ARMA(Y, order=(1, 0)).fit(\n",
        "    maxlag=max_lag, method='mle', trend='nc')\n",
        "p(mdl.summary())"
      ],
      "execution_count": 9,
      "outputs": [
        {
          "output_type": "stream",
          "text": [
            "                              ARMA Model Results                              \n",
            "==============================================================================\n",
            "Dep. Variable:                  SP500   No. Observations:                 2182\n",
            "Model:                     ARMA(1, 0)   Log Likelihood                6758.660\n",
            "Method:                           mle   S.D. of innovations              0.011\n",
            "Date:                Thu, 30 Apr 2020   AIC                         -13513.320\n",
            "Time:                        02:59:46   BIC                         -13501.944\n",
            "Sample:                             0   HQIC                        -13509.162\n",
            "                                                                              \n",
            "===============================================================================\n",
            "                  coef    std err          z      P>|z|      [0.025      0.975]\n",
            "-------------------------------------------------------------------------------\n",
            "ar.L1.SP500    -0.1659      0.021     -7.857      0.000      -0.207      -0.125\n",
            "                                    Roots                                    \n",
            "=============================================================================\n",
            "                  Real          Imaginary           Modulus         Frequency\n",
            "-----------------------------------------------------------------------------\n",
            "AR.1           -6.0269           +0.0000j            6.0269            0.5000\n",
            "-----------------------------------------------------------------------------\n"
          ],
          "name": "stdout"
        },
        {
          "output_type": "stream",
          "text": [
            "/usr/local/lib/python3.6/dist-packages/statsmodels/tsa/base/tsa_model.py:219: ValueWarning: A date index has been provided, but it has no associated frequency information and so will be ignored when e.g. forecasting.\n",
            "  ' ignored when e.g. forecasting.', ValueWarning)\n"
          ],
          "name": "stderr"
        }
      ]
    },
    {
      "cell_type": "code",
      "metadata": {
        "id": "7hEKl0YNgvr1",
        "colab_type": "code",
        "colab": {}
      },
      "source": [
        "import warnings\n",
        "warnings.filterwarnings(\"ignore\")"
      ],
      "execution_count": 0,
      "outputs": []
    },
    {
      "cell_type": "code",
      "metadata": {
        "id": "Fft9-BKXgalz",
        "colab_type": "code",
        "outputId": "951b3e6b-82af-4fc4-d863-c4e7e59c770a",
        "colab": {
          "base_uri": "https://localhost:8080/",
          "height": 34
        }
      },
      "source": [
        "best_aic = np.inf \n",
        "best_order = None\n",
        "best_mdl = None\n",
        "\n",
        "rng = range(5) \n",
        "for i in rng:\n",
        "    for j in rng:\n",
        "        try:\n",
        "            tmp_mdl = smt.ARMA(lrets['SP500'], order=(i, j)).fit(\n",
        "                method='mle', trend='nc'\n",
        "            )\n",
        "            tmp_aic = tmp_mdl.aic\n",
        "            if tmp_aic < best_aic:\n",
        "                best_aic = tmp_aic\n",
        "                best_order = (i, j)\n",
        "                best_mdl = tmp_mdl\n",
        "        except: continue\n",
        "\n",
        "\n",
        "p('aic: {:6.5f} | order: {}'.format(best_aic, best_order))"
      ],
      "execution_count": 11,
      "outputs": [
        {
          "output_type": "stream",
          "text": [
            "aic: -13609.08702 | order: (4, 4)\n"
          ],
          "name": "stdout"
        }
      ]
    },
    {
      "cell_type": "code",
      "metadata": {
        "id": "H0wDVKJMhBm0",
        "colab_type": "code",
        "outputId": "87f3e7c9-c97a-4a59-a219-988391d7e516",
        "colab": {
          "base_uri": "https://localhost:8080/",
          "height": 34
        }
      },
      "source": [
        "best_aic = np.inf \n",
        "best_order = None\n",
        "best_mdl = None\n",
        "pq_rng = range(5) \n",
        "d_rng = range(2) \n",
        "for i in pq_rng:\n",
        "    for d in d_rng:\n",
        "        for j in pq_rng:\n",
        "            try:\n",
        "                tmp_mdl = smt.ARIMA(lrets.SP500, order=(i,d,j)).fit(method='mle', trend='nc')\n",
        "                tmp_aic = tmp_mdl.aic\n",
        "                if tmp_aic < best_aic:\n",
        "                    best_aic = tmp_aic\n",
        "                    best_order = (i, d, j)\n",
        "                    best_mdl = tmp_mdl\n",
        "            except: continue\n",
        "p('aic: {:6.5f} | order: {}'.format(best_aic, best_order))"
      ],
      "execution_count": 12,
      "outputs": [
        {
          "output_type": "stream",
          "text": [
            "aic: -13609.08702 | order: (4, 0, 4)\n"
          ],
          "name": "stdout"
        }
      ]
    },
    {
      "cell_type": "code",
      "metadata": {
        "id": "Q25VXlhjMFpK",
        "colab_type": "code",
        "outputId": "ce98316d-4f17-4ad0-9124-509e4ff77adf",
        "colab": {
          "base_uri": "https://localhost:8080/",
          "height": 437
        }
      },
      "source": [
        "max_lag = 30\n",
        "Y = lrets.SP500[:-30]\n",
        "mdl = smt.ARMA(Y, order=(4, 0)).fit(\n",
        "    maxlag=max_lag, method='mle', trend='nc')\n",
        "p(mdl.summary())"
      ],
      "execution_count": 13,
      "outputs": [
        {
          "output_type": "stream",
          "text": [
            "                              ARMA Model Results                              \n",
            "==============================================================================\n",
            "Dep. Variable:                  SP500   No. Observations:                 2152\n",
            "Model:                     ARMA(4, 0)   Log Likelihood                6962.329\n",
            "Method:                           mle   S.D. of innovations              0.010\n",
            "Date:                Thu, 30 Apr 2020   AIC                         -13914.658\n",
            "Time:                        03:01:28   BIC                         -13886.288\n",
            "Sample:                             0   HQIC                        -13904.280\n",
            "                                                                              \n",
            "===============================================================================\n",
            "                  coef    std err          z      P>|z|      [0.025      0.975]\n",
            "-------------------------------------------------------------------------------\n",
            "ar.L1.SP500    -0.0581      0.022     -2.682      0.007      -0.101      -0.016\n",
            "ar.L2.SP500     0.0619      0.022      2.843      0.005       0.019       0.105\n",
            "ar.L3.SP500    -0.0628      0.022     -2.841      0.005      -0.106      -0.019\n",
            "ar.L4.SP500     0.0100      0.022      0.450      0.653      -0.033       0.053\n",
            "                                    Roots                                    \n",
            "=============================================================================\n",
            "                  Real          Imaginary           Modulus         Frequency\n",
            "-----------------------------------------------------------------------------\n",
            "AR.1           -1.9814           -0.0000j            1.9814           -0.5000\n",
            "AR.2            1.1886           -2.6769j            2.9290           -0.1835\n",
            "AR.3            1.1886           +2.6769j            2.9290            0.1835\n",
            "AR.4            5.9006           -0.0000j            5.9006           -0.0000\n",
            "-----------------------------------------------------------------------------\n"
          ],
          "name": "stdout"
        }
      ]
    },
    {
      "cell_type": "code",
      "metadata": {
        "id": "XPYbrLTYMequ",
        "colab_type": "code",
        "outputId": "e0e3bfd3-086b-447e-dbb5-5561a3484b3a",
        "colab": {
          "base_uri": "https://localhost:8080/",
          "height": 34
        }
      },
      "source": [
        "import numpy as np\n",
        "Y_test = lrets.SP500[-30:].to_numpy()\n",
        "Y_full = lrets.SP500.array\n",
        "test = np.zeros((30,1))\n",
        "diff_1 = np.zeros((30,1))\n",
        "for i in range(30):\n",
        "  test[i]=(-0.0581)*Y_full[-30+i]+0.0619*Y_full[-29+i]+(-0.0628)*Y_full[-28+i]+0.01*Y_full[-27+i]\n",
        "diff_1 = np.mean(test-Y_test)\n",
        "print(diff_1)\n",
        "# We can trust this model"
      ],
      "execution_count": 14,
      "outputs": [
        {
          "output_type": "stream",
          "text": [
            "-0.0013286742935573117\n"
          ],
          "name": "stdout"
        }
      ]
    },
    {
      "cell_type": "code",
      "metadata": {
        "id": "RovAvh5NWIst",
        "colab_type": "code",
        "outputId": "45c4ee88-afb0-4fa5-f0a0-741efb82198c",
        "colab": {
          "base_uri": "https://localhost:8080/",
          "height": 437
        }
      },
      "source": [
        "max_lag = 30\n",
        "Y = lrets.SP500\n",
        "mdl = smt.ARMA(Y, order=(4, 0)).fit(\n",
        "    maxlag=max_lag, method='mle', trend='nc')\n",
        "p(mdl.summary())"
      ],
      "execution_count": 15,
      "outputs": [
        {
          "output_type": "stream",
          "text": [
            "                              ARMA Model Results                              \n",
            "==============================================================================\n",
            "Dep. Variable:                  SP500   No. Observations:                 2182\n",
            "Model:                     ARMA(4, 0)   Log Likelihood                6774.523\n",
            "Method:                           mle   S.D. of innovations              0.011\n",
            "Date:                Thu, 30 Apr 2020   AIC                         -13539.047\n",
            "Time:                        03:01:28   BIC                         -13510.607\n",
            "Sample:                             0   HQIC                        -13528.650\n",
            "                                                                              \n",
            "===============================================================================\n",
            "                  coef    std err          z      P>|z|      [0.025      0.975]\n",
            "-------------------------------------------------------------------------------\n",
            "ar.L1.SP500    -0.1472      0.021     -6.883      0.000      -0.189      -0.105\n",
            "ar.L2.SP500     0.1149      0.022      5.315      0.000       0.073       0.157\n",
            "ar.L3.SP500    -0.0118      0.022     -0.545      0.586      -0.054       0.031\n",
            "ar.L4.SP500    -0.0474      0.021     -2.213      0.027      -0.089      -0.005\n",
            "                                    Roots                                    \n",
            "=============================================================================\n",
            "                  Real          Imaginary           Modulus         Frequency\n",
            "-----------------------------------------------------------------------------\n",
            "AR.1            1.6437           -1.4786j            2.2109           -0.1166\n",
            "AR.2            1.6437           +1.4786j            2.2109            0.1166\n",
            "AR.3           -1.7680           -1.0898j            2.0769           -0.4121\n",
            "AR.4           -1.7680           +1.0898j            2.0769            0.4121\n",
            "-----------------------------------------------------------------------------\n"
          ],
          "name": "stdout"
        }
      ]
    },
    {
      "cell_type": "code",
      "metadata": {
        "id": "Ous5TPLIXnvV",
        "colab_type": "code",
        "outputId": "53f5ac8e-1b77-4195-d65b-f3063dfbf5cb",
        "colab": {
          "base_uri": "https://localhost:8080/",
          "height": 218
        }
      },
      "source": [
        "predict_y = np.zeros((12,1))\n",
        "for i in range(4):\n",
        "  predict_y[i] = Y[-i-1]\n",
        "print(predict_y)"
      ],
      "execution_count": 16,
      "outputs": [
        {
          "output_type": "stream",
          "text": [
            "[[ 0.01382211]\n",
            " [-0.00053956]\n",
            " [ 0.0226713 ]\n",
            " [-0.03115517]\n",
            " [ 0.        ]\n",
            " [ 0.        ]\n",
            " [ 0.        ]\n",
            " [ 0.        ]\n",
            " [ 0.        ]\n",
            " [ 0.        ]\n",
            " [ 0.        ]\n",
            " [ 0.        ]]\n"
          ],
          "name": "stdout"
        }
      ]
    },
    {
      "cell_type": "code",
      "metadata": {
        "id": "m_kzSKkdXFsr",
        "colab_type": "code",
        "outputId": "ebe15be2-8520-4874-de37-e28f96f549c1",
        "colab": {
          "base_uri": "https://localhost:8080/",
          "height": 218
        }
      },
      "source": [
        "for i in range(8):\n",
        "  predict_y[i+4]=(-0.1472)*predict_y[i]+0.1149*predict_y[i+1]+(-0.0118)*predict_y[i+2]+0.01*predict_y[i+3]\n",
        "print(predict_y)"
      ],
      "execution_count": 17,
      "outputs": [
        {
          "output_type": "stream",
          "text": [
            "[[ 0.01382211]\n",
            " [-0.00053956]\n",
            " [ 0.0226713 ]\n",
            " [-0.03115517]\n",
            " [-0.00267568]\n",
            " [ 0.00302523]\n",
            " [-0.00685512]\n",
            " [ 0.00417436]\n",
            " [ 0.00086409]\n",
            " [-0.00127358]\n",
            " [ 0.00146577]\n",
            " [-0.00048549]]\n"
          ],
          "name": "stdout"
        }
      ]
    },
    {
      "cell_type": "code",
      "metadata": {
        "id": "ADEiHnExCg3n",
        "colab_type": "code",
        "colab": {
          "base_uri": "https://localhost:8080/",
          "height": 218
        },
        "outputId": "5a9650bc-22a9-4471-cbbc-378c9c11d7e6"
      },
      "source": [
        "import math\n",
        "predict_price = np.zeros((13,1))\n",
        "predict_price[0]=df.iloc[-1,-1]\n",
        "for i in range(12):\n",
        "  predict_price[i+1]=predict_price[i]*math.exp(predict_y[i])\n",
        "predict_price = np.delete(predict_price, 0, axis=0)\n",
        "p(predict_price)"
      ],
      "execution_count": 32,
      "outputs": [
        {
          "output_type": "stream",
          "text": [
            "[[2876.22196998]\n",
            " [2874.67048223]\n",
            " [2940.58738986]\n",
            " [2850.38532269]\n",
            " [2842.76878723]\n",
            " [2851.38183968]\n",
            " [2831.90212226]\n",
            " [2843.74819675]\n",
            " [2846.20652331]\n",
            " [2842.58394881]\n",
            " [2846.75359197]\n",
            " [2845.37184342]]\n"
          ],
          "name": "stdout"
        }
      ]
    },
    {
      "cell_type": "code",
      "metadata": {
        "id": "zv6f8oXebT8b",
        "colab_type": "code",
        "colab": {}
      },
      "source": [
        "# Since the return we got is in log form, we need to compute it into normal form\n"
      ],
      "execution_count": 0,
      "outputs": []
    },
    {
      "cell_type": "code",
      "metadata": {
        "id": "fmvmnd_B89aF",
        "colab_type": "code",
        "colab": {}
      },
      "source": [
        "import warnings\n",
        "warnings.filterwarnings(\"ignore\")"
      ],
      "execution_count": 0,
      "outputs": []
    },
    {
      "cell_type": "code",
      "metadata": {
        "id": "VGXh6r5A126a",
        "colab_type": "code",
        "outputId": "52785dc4-9b4a-4bf2-decd-83c49c76d220",
        "colab": {
          "base_uri": "https://localhost:8080/",
          "height": 34
        }
      },
      "source": [
        "best_aic = np.inf \n",
        "best_order = None\n",
        "best_mdl = None\n",
        "\n",
        "rng = range(5) \n",
        "for i in rng:\n",
        "    for j in rng:\n",
        "        try:\n",
        "            tmp_mdl = smt.ARMA(lrets['VIXCLS'], order=(i, j)).fit(\n",
        "                method='mle', trend='nc'\n",
        "            )\n",
        "            tmp_aic = tmp_mdl.aic\n",
        "            if tmp_aic < best_aic:\n",
        "                best_aic = tmp_aic\n",
        "                best_order = (i, j)\n",
        "                best_mdl = tmp_mdl\n",
        "        except: continue\n",
        "\n",
        "\n",
        "p('aic: {:6.5f} | order: {}'.format(best_aic, best_order))"
      ],
      "execution_count": 19,
      "outputs": [
        {
          "output_type": "stream",
          "text": [
            "aic: -4847.28018 | order: (2, 1)\n"
          ],
          "name": "stdout"
        }
      ]
    },
    {
      "cell_type": "code",
      "metadata": {
        "id": "qbrQTwtZZQA7",
        "colab_type": "code",
        "outputId": "ae75dc2f-36a3-4f53-e38e-f3d105fb6eb2",
        "colab": {
          "base_uri": "https://localhost:8080/",
          "height": 34
        }
      },
      "source": [
        "best_aic = np.inf \n",
        "best_order = None\n",
        "best_mdl = None\n",
        "pq_rng = range(5) \n",
        "d_rng = range(2) \n",
        "for i in pq_rng:\n",
        "    for d in d_rng:\n",
        "        for j in pq_rng:\n",
        "            try:\n",
        "                tmp_mdl = smt.ARIMA(lrets.VIXCLS, order=(i,d,j)).fit(method='mle', trend='nc')\n",
        "                tmp_aic = tmp_mdl.aic\n",
        "                if tmp_aic < best_aic:\n",
        "                    best_aic = tmp_aic\n",
        "                    best_order = (i, d, j)\n",
        "                    best_mdl = tmp_mdl\n",
        "            except: continue\n",
        "p('aic: {:6.5f} | order: {}'.format(best_aic, best_order))"
      ],
      "execution_count": 20,
      "outputs": [
        {
          "output_type": "stream",
          "text": [
            "aic: -4847.28018 | order: (2, 0, 1)\n"
          ],
          "name": "stdout"
        }
      ]
    },
    {
      "cell_type": "code",
      "metadata": {
        "id": "J0pFGtxnZXOS",
        "colab_type": "code",
        "outputId": "58991e1d-56c8-4a08-c2fb-615ff4b80904",
        "colab": {
          "base_uri": "https://localhost:8080/",
          "height": 370
        }
      },
      "source": [
        "max_lag = 30\n",
        "X = lrets.VIXCLS\n",
        "mdl = smt.ARMA(X, order=(2, 0)).fit(\n",
        "    maxlag=max_lag, method='mle', trend='nc')\n",
        "p(mdl.summary())"
      ],
      "execution_count": 21,
      "outputs": [
        {
          "output_type": "stream",
          "text": [
            "                              ARMA Model Results                              \n",
            "==============================================================================\n",
            "Dep. Variable:                 VIXCLS   No. Observations:                 2182\n",
            "Model:                     ARMA(2, 0)   Log Likelihood                2416.907\n",
            "Method:                           mle   S.D. of innovations              0.080\n",
            "Date:                Thu, 30 Apr 2020   AIC                          -4827.814\n",
            "Time:                        03:03:00   BIC                          -4810.750\n",
            "Sample:                             0   HQIC                         -4821.576\n",
            "                                                                              \n",
            "================================================================================\n",
            "                   coef    std err          z      P>|z|      [0.025      0.975]\n",
            "--------------------------------------------------------------------------------\n",
            "ar.L1.VIXCLS    -0.0756      0.021     -3.530      0.000      -0.118      -0.034\n",
            "ar.L2.VIXCLS    -0.0264      0.021     -1.233      0.218      -0.068       0.016\n",
            "                                    Roots                                    \n",
            "=============================================================================\n",
            "                  Real          Imaginary           Modulus         Frequency\n",
            "-----------------------------------------------------------------------------\n",
            "AR.1           -1.4318           -5.9861j            6.1550           -0.2874\n",
            "AR.2           -1.4318           +5.9861j            6.1550            0.2874\n",
            "-----------------------------------------------------------------------------\n"
          ],
          "name": "stdout"
        }
      ]
    },
    {
      "cell_type": "code",
      "metadata": {
        "id": "qPMHvvtYZ837",
        "colab_type": "code",
        "outputId": "62fbaa1d-5e2f-44f3-b45b-3d0cd8f04167",
        "colab": {
          "base_uri": "https://localhost:8080/",
          "height": 34
        }
      },
      "source": [
        "import numpy as np\n",
        "X_test = lrets.VIXCLS[-30:].to_numpy()\n",
        "X_full = lrets.VIXCLS.array\n",
        "test = np.zeros((30,1))\n",
        "diff_1 = np.zeros((30,1))\n",
        "for i in range(30):\n",
        "  test[i]=(-0.0756)*X_full[-30+i]+(-0.0264)*Y_full[-29+i]\n",
        "diff_1 = np.mean(test-X_test)\n",
        "print(diff_1)\n",
        "# We can trust this model"
      ],
      "execution_count": 22,
      "outputs": [
        {
          "output_type": "stream",
          "text": [
            "0.013972948006683212\n"
          ],
          "name": "stdout"
        }
      ]
    },
    {
      "cell_type": "code",
      "metadata": {
        "id": "_doDrnIJalH8",
        "colab_type": "code",
        "outputId": "c72f84fa-5cdd-48c8-bedc-5c4f8cfb394e",
        "colab": {
          "base_uri": "https://localhost:8080/",
          "height": 185
        }
      },
      "source": [
        "predict = np.zeros((10,1))\n",
        "for i in range(2):\n",
        "  predict[i] = X[-i-1]\n",
        "print(predict)"
      ],
      "execution_count": 23,
      "outputs": [
        {
          "output_type": "stream",
          "text": [
            "[[-0.14122507]\n",
            " [-0.01439564]\n",
            " [ 0.        ]\n",
            " [ 0.        ]\n",
            " [ 0.        ]\n",
            " [ 0.        ]\n",
            " [ 0.        ]\n",
            " [ 0.        ]\n",
            " [ 0.        ]\n",
            " [ 0.        ]]\n"
          ],
          "name": "stdout"
        }
      ]
    },
    {
      "cell_type": "code",
      "metadata": {
        "id": "43_SpSjaazjb",
        "colab_type": "code",
        "outputId": "fd36e669-065d-4f0b-b5ce-b4e905eaf5de",
        "colab": {
          "base_uri": "https://localhost:8080/",
          "height": 185
        }
      },
      "source": [
        "for i in range(8):\n",
        "  predict[i+2]=(-0.0756)*predict[i]+(-0.0264)*predict[i+1]\n",
        "print(predict)"
      ],
      "execution_count": 24,
      "outputs": [
        {
          "output_type": "stream",
          "text": [
            "[[-1.41225071e-01]\n",
            " [-1.43956421e-02]\n",
            " [ 1.10566603e-02]\n",
            " [ 7.96414708e-04]\n",
            " [-8.56908869e-04]\n",
            " [-3.75865578e-05]\n",
            " [ 6.57745957e-05]\n",
            " [ 1.10509444e-06]\n",
            " [-5.00173392e-06]\n",
            " [ 4.85006358e-08]]\n"
          ],
          "name": "stdout"
        }
      ]
    },
    {
      "cell_type": "code",
      "metadata": {
        "id": "j_P6gCS6Gjr1",
        "colab_type": "code",
        "colab": {
          "base_uri": "https://localhost:8080/",
          "height": 185
        },
        "outputId": "ed50451e-8dcb-403f-90fb-db443496beee"
      },
      "source": [
        "predict_vix = np.zeros((11,1))\n",
        "predict_vix[0]=df1.iloc[-1,-1]\n",
        "for i in range(10):\n",
        "  predict_vix[i+1]=predict_vix[i]*math.exp(predict[i])\n",
        "predict_vix = np.delete(predict_vix, 0, axis=0)\n",
        "p(predict_vix)"
      ],
      "execution_count": 38,
      "outputs": [
        {
          "output_type": "stream",
          "text": [
            "[[31.19779845]\n",
            " [30.75190329]\n",
            " [31.09380329]\n",
            " [31.11857672]\n",
            " [31.09192235]\n",
            " [31.09075374]\n",
            " [31.09279879]\n",
            " [31.09283315]\n",
            " [31.09267763]\n",
            " [31.09267914]]\n"
          ],
          "name": "stdout"
        }
      ]
    }
  ]
}